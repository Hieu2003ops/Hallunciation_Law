{
 "cells": [
  {
   "cell_type": "code",
   "execution_count": 1,
   "metadata": {},
   "outputs": [
    {
     "name": "stdout",
     "output_type": "stream",
     "text": [
      " Key đã được thiết lập thành công!\n"
     ]
    }
   ],
   "source": [
    "import os\n",
    "from dotenv import load_dotenv\n",
    "\n",
    "# Load biến môi trường từ file .env (file .env cần nằm trong cùng thư mục với notebook)\n",
    "load_dotenv()\n",
    "\n",
    "# Lấy giá trị của TOGETHER_API_KEY từ biến môi trường\n",
    "together_api_key = os.getenv('TOGETHER_API_KEY')\n",
    "if not together_api_key:\n",
    "    raise ValueError(\"Chưa tìm thấy TOGETHER_API_KEY trong file .env!\")\n",
    "\n",
    "elastic_api_key = os.getenv('ELASTIC_API_KEY')\n",
    "if not elastic_api_key:\n",
    "    raise ValueError(\"Chưa tìm thấy ELASTIC_API_KEY trong file .env!\")\n",
    "\n",
    "elastic_cloud_id = os.getenv('ELASTIC_CLOUD_ID')\n",
    "if not elastic_cloud_id:\n",
    "    raise ValueError(\"Chưa tìm thấy ELASTIC_CLOUD_ID trong file .env!\")\n",
    "\n",
    "tavily_api_key = os.getenv('TAVILY_API_KEY')\n",
    "if not tavily_api_key:\n",
    "    raise ValueError(\"Chưa tìm thấy TAVILY_API_KEY trong file .env!\")\n",
    "\n",
    "\n",
    "serper_api_key = os.getenv('SERPER_API_KEY')\n",
    "if not serper_api_key:\n",
    "    raise ValueError(\"Chưa tìm thấy SERPER_API_KEY trong file .env!\")\n",
    "\n",
    "\n",
    "print(\" Key đã được thiết lập thành công!\")\n"
   ]
  },
  {
   "cell_type": "code",
   "execution_count": 2,
   "metadata": {},
   "outputs": [
    {
     "name": "stdout",
     "output_type": "stream",
     "text": [
      "ba4066853f6d39efbdb8e58274802acdb950955adb52d523b36cad88c5493aa1\n",
      "LUVTcUlKWUIyR2JxbU84a1dRYVo6TFhidjQ4VlVRRmFYNUJQY2MweFVEUQ==\n",
      "My_Elasticsearch_deployment:YXAtZWFzdC0xLmF3cy5lbGFzdGljLWNsb3VkLmNvbTo0NDMkNjAyNDBhMzU5NGU5NDIzNjkzMmJjYjQwMWYyZWZmMTMkNmQxNjEyNjAwZWI1NDQzZmE2ODA1YTI1YWQ5M2Y3ZTA=\n"
     ]
    }
   ],
   "source": [
    "print(together_api_key)\n",
    "print(elastic_api_key)\n",
    "print(elastic_cloud_id)"
   ]
  },
  {
   "cell_type": "code",
   "execution_count": null,
   "metadata": {},
   "outputs": [
    {
     "ename": "OpenAIError",
     "evalue": "The api_key client option must be set either by passing api_key to the client or by setting the OPENAI_API_KEY environment variable",
     "output_type": "error",
     "traceback": [
      "\u001b[31m---------------------------------------------------------------------------\u001b[39m",
      "\u001b[31mOpenAIError\u001b[39m                               Traceback (most recent call last)",
      "\u001b[36mCell\u001b[39m\u001b[36m \u001b[39m\u001b[32mIn[1]\u001b[39m\u001b[32m, line 3\u001b[39m\n\u001b[32m      1\u001b[39m \u001b[38;5;28;01mfrom\u001b[39;00m\u001b[38;5;250m \u001b[39m\u001b[34;01mlangchain_together\u001b[39;00m\u001b[38;5;250m \u001b[39m\u001b[38;5;28;01mimport\u001b[39;00m ChatTogether, TogetherEmbeddings\n\u001b[32m      2\u001b[39m \u001b[38;5;28;01mfrom\u001b[39;00m\u001b[38;5;250m \u001b[39m\u001b[34;01mlangchain_community\u001b[39;00m\u001b[34;01m.\u001b[39;00m\u001b[34;01membeddings\u001b[39;00m\u001b[38;5;250m \u001b[39m\u001b[38;5;28;01mimport\u001b[39;00m HuggingFaceEmbeddings\n\u001b[32m----> \u001b[39m\u001b[32m3\u001b[39m llm = \u001b[43mChatTogether\u001b[49m\u001b[43m(\u001b[49m\n\u001b[32m      4\u001b[39m \u001b[43m    \u001b[49m\u001b[43mmodel\u001b[49m\u001b[43m=\u001b[49m\u001b[33;43m\"\u001b[39;49m\u001b[33;43mmeta-llama/Meta-Llama-3.1-70B-Instruct-Turbo\u001b[39;49m\u001b[33;43m\"\u001b[39;49m\u001b[43m \u001b[49m\n\u001b[32m      5\u001b[39m \u001b[43m)\u001b[49m\n\u001b[32m      6\u001b[39m \u001b[38;5;66;03m#meta-llama/Llama-3.3-70B-Instruct-Turbo\u001b[39;00m\n\u001b[32m      7\u001b[39m result = llm.invoke(\u001b[33m\"\u001b[39m\u001b[33mThủ đô Việt Nam là thành phố nào? \u001b[39m\u001b[33m\"\u001b[39m)\n",
      "\u001b[36mFile \u001b[39m\u001b[32mc:\\Users\\ADMIN\\anaconda3\\envs\\nckh\\Lib\\site-packages\\langchain_core\\load\\serializable.py:125\u001b[39m, in \u001b[36mSerializable.__init__\u001b[39m\u001b[34m(self, *args, **kwargs)\u001b[39m\n\u001b[32m    123\u001b[39m \u001b[38;5;28;01mdef\u001b[39;00m\u001b[38;5;250m \u001b[39m\u001b[34m__init__\u001b[39m(\u001b[38;5;28mself\u001b[39m, *args: Any, **kwargs: Any) -> \u001b[38;5;28;01mNone\u001b[39;00m:\n\u001b[32m    124\u001b[39m \u001b[38;5;250m    \u001b[39m\u001b[33;03m\"\"\"\"\"\"\u001b[39;00m\n\u001b[32m--> \u001b[39m\u001b[32m125\u001b[39m     \u001b[38;5;28;43msuper\u001b[39;49m\u001b[43m(\u001b[49m\u001b[43m)\u001b[49m\u001b[43m.\u001b[49m\u001b[34;43m__init__\u001b[39;49m\u001b[43m(\u001b[49m\u001b[43m*\u001b[49m\u001b[43margs\u001b[49m\u001b[43m,\u001b[49m\u001b[43m \u001b[49m\u001b[43m*\u001b[49m\u001b[43m*\u001b[49m\u001b[43mkwargs\u001b[49m\u001b[43m)\u001b[49m\n",
      "    \u001b[31m[... skipping hidden 1 frame]\u001b[39m\n",
      "\u001b[36mFile \u001b[39m\u001b[32mc:\\Users\\ADMIN\\anaconda3\\envs\\nckh\\Lib\\site-packages\\langchain_together\\chat_models.py:354\u001b[39m, in \u001b[36mChatTogether.validate_environment\u001b[39m\u001b[34m(self)\u001b[39m\n\u001b[32m    352\u001b[39m \u001b[38;5;28;01mif\u001b[39;00m \u001b[38;5;129;01mnot\u001b[39;00m (\u001b[38;5;28mself\u001b[39m.client \u001b[38;5;129;01mor\u001b[39;00m \u001b[38;5;28;01mNone\u001b[39;00m):\n\u001b[32m    353\u001b[39m     sync_specific: \u001b[38;5;28mdict\u001b[39m = {\u001b[33m\"\u001b[39m\u001b[33mhttp_client\u001b[39m\u001b[33m\"\u001b[39m: \u001b[38;5;28mself\u001b[39m.http_client}\n\u001b[32m--> \u001b[39m\u001b[32m354\u001b[39m     \u001b[38;5;28mself\u001b[39m.client = \u001b[43mopenai\u001b[49m\u001b[43m.\u001b[49m\u001b[43mOpenAI\u001b[49m\u001b[43m(\u001b[49m\n\u001b[32m    355\u001b[39m \u001b[43m        \u001b[49m\u001b[43m*\u001b[49m\u001b[43m*\u001b[49m\u001b[43mclient_params\u001b[49m\u001b[43m,\u001b[49m\u001b[43m \u001b[49m\u001b[43m*\u001b[49m\u001b[43m*\u001b[49m\u001b[43msync_specific\u001b[49m\n\u001b[32m    356\u001b[39m \u001b[43m    \u001b[49m\u001b[43m)\u001b[49m.chat.completions\n\u001b[32m    357\u001b[39m \u001b[38;5;28;01mif\u001b[39;00m \u001b[38;5;129;01mnot\u001b[39;00m (\u001b[38;5;28mself\u001b[39m.async_client \u001b[38;5;129;01mor\u001b[39;00m \u001b[38;5;28;01mNone\u001b[39;00m):\n\u001b[32m    358\u001b[39m     async_specific: \u001b[38;5;28mdict\u001b[39m = {\u001b[33m\"\u001b[39m\u001b[33mhttp_client\u001b[39m\u001b[33m\"\u001b[39m: \u001b[38;5;28mself\u001b[39m.http_async_client}\n",
      "\u001b[36mFile \u001b[39m\u001b[32mc:\\Users\\ADMIN\\anaconda3\\envs\\nckh\\Lib\\site-packages\\openai\\_client.py:114\u001b[39m, in \u001b[36mOpenAI.__init__\u001b[39m\u001b[34m(self, api_key, organization, project, base_url, websocket_base_url, timeout, max_retries, default_headers, default_query, http_client, _strict_response_validation)\u001b[39m\n\u001b[32m    112\u001b[39m     api_key = os.environ.get(\u001b[33m\"\u001b[39m\u001b[33mOPENAI_API_KEY\u001b[39m\u001b[33m\"\u001b[39m)\n\u001b[32m    113\u001b[39m \u001b[38;5;28;01mif\u001b[39;00m api_key \u001b[38;5;129;01mis\u001b[39;00m \u001b[38;5;28;01mNone\u001b[39;00m:\n\u001b[32m--> \u001b[39m\u001b[32m114\u001b[39m     \u001b[38;5;28;01mraise\u001b[39;00m OpenAIError(\n\u001b[32m    115\u001b[39m         \u001b[33m\"\u001b[39m\u001b[33mThe api_key client option must be set either by passing api_key to the client or by setting the OPENAI_API_KEY environment variable\u001b[39m\u001b[33m\"\u001b[39m\n\u001b[32m    116\u001b[39m     )\n\u001b[32m    117\u001b[39m \u001b[38;5;28mself\u001b[39m.api_key = api_key\n\u001b[32m    119\u001b[39m \u001b[38;5;28;01mif\u001b[39;00m organization \u001b[38;5;129;01mis\u001b[39;00m \u001b[38;5;28;01mNone\u001b[39;00m:\n",
      "\u001b[31mOpenAIError\u001b[39m: The api_key client option must be set either by passing api_key to the client or by setting the OPENAI_API_KEY environment variable"
     ]
    }
   ],
   "source": [
    "from langchain_together import ChatTogether, TogetherEmbeddings\n",
    "from langchain_community.embeddings import HuggingFaceEmbeddings\n",
    "llm = ChatTogether(\n",
    "    model=\"meta-llama/Llama-3.3-70B-Instruct-Turbo\n",
    "#\n",
    "#meta-llama/Meta-Llama-3.1-70B-Instruct-Turbo\" )\n",
    "result = llm.invoke(\"Thủ đô Việt Nam là thành phố nào? \")\n",
    "print(result.content)"
   ]
  },
  {
   "cell_type": "code",
   "execution_count": null,
   "metadata": {},
   "outputs": [],
   "source": [
    "from tqdm.notebook import tqdm\n",
    "embd = HuggingFaceEmbeddings(model_name=\"VoVanPhuc/sup-SimCSE-VietNamese-phobert-base\")"
   ]
  },
  {
   "cell_type": "code",
   "execution_count": null,
   "metadata": {},
   "outputs": [],
   "source": [
    "embd"
   ]
  },
  {
   "cell_type": "markdown",
   "metadata": {},
   "source": [
    "## Load Elasticsearch Store\n",
    "\n"
   ]
  },
  {
   "cell_type": "code",
   "execution_count": 6,
   "metadata": {},
   "outputs": [],
   "source": [
    "from langchain.vectorstores import ElasticsearchStore\n",
    "index_name = \"ecom-law0\""
   ]
  },
  {
   "cell_type": "code",
   "execution_count": null,
   "metadata": {},
   "outputs": [],
   "source": [
    "# Khởi tạo connection tới Elasticsearch thông qua Elastic Cloud\n",
    "vector_store = ElasticsearchStore(\n",
    "    es_cloud_id=elastic_cloud_id,\n",
    "    es_api_key=elastic_api_key,\n",
    "    index_name=index_name,\n",
    "    embedding=embd,\n",
    ")"
   ]
  },
  {
   "cell_type": "code",
   "execution_count": null,
   "metadata": {},
   "outputs": [],
   "source": [
    "indices = vector_store.client.cat.indices(format=\"json\")\n",
    "for index_info in indices:\n",
    "    print(index_info[\"index\"])\n"
   ]
  },
  {
   "cell_type": "code",
   "execution_count": null,
   "metadata": {},
   "outputs": [],
   "source": [
    "num_docs = vector_store.client.count(index=index_name)['count']\n",
    "print(f\"Number of documents in the vectorstore: {num_docs}\")\n"
   ]
  },
  {
   "cell_type": "markdown",
   "metadata": {},
   "source": [
    "## Hybrid Retrieval"
   ]
  },
  {
   "cell_type": "code",
   "execution_count": 10,
   "metadata": {},
   "outputs": [],
   "source": [
    "from typing import Dict\n",
    "from langchain_elasticsearch import ElasticsearchRetriever\n",
    "from elasticsearch import Elasticsearch"
   ]
  },
  {
   "cell_type": "code",
   "execution_count": 11,
   "metadata": {},
   "outputs": [],
   "source": [
    "index_name = \"ecom-law0\"\n",
    "text_field = \"text\"\n",
    "es_url = \"https://my-elasticsearch-deployment.es.ap-east-1.aws.elastic-cloud.com\""
   ]
  },
  {
   "cell_type": "code",
   "execution_count": 12,
   "metadata": {},
   "outputs": [],
   "source": [
    "# --- Định nghĩa hàm hybrid_query ---\n",
    "def hybrid_query(search_query: str) -> Dict:\n",
    "    # Sử dụng embed_query để tạo vector cho truy vấn\n",
    "    query_vector = embd.embed_query(search_query)\n",
    "    return {\n",
    "        \"retriever\": {\n",
    "            \"rrf\": {  # Rank Reciprocal Fusion: kết hợp hai truy vấn theo kiểu \"should\"\n",
    "                \"retrievers\": [\n",
    "                    {  # Thành phần full text search: dùng match query trên trường \"text\"\n",
    "                        \"standard\": {\n",
    "                            \"query\": {\n",
    "                                \"match\": {\n",
    "                                    text_field: search_query\n",
    "                                }\n",
    "                            }\n",
    "                        }\n",
    "                    },\n",
    "                    {  # Thành phần vector search: dùng knn query trên trường \"embedding_field\"\n",
    "                        \"knn\": {\n",
    "                            \"field\": \"embedding_field\",  # Điều chỉnh nếu mapping của bạn dùng tên khác\n",
    "                            \"query_vector\": query_vector,\n",
    "                            \"k\": 5,\n",
    "                            \"num_candidates\": 10\n",
    "                        }\n",
    "                    }\n",
    "                ]\n",
    "            }\n",
    "        }\n",
    "    }\n"
   ]
  },
  {
   "cell_type": "code",
   "execution_count": null,
   "metadata": {},
   "outputs": [],
   "source": [
    "# --- Thiết lập Elasticsearch client với xác thực ---\n",
    "from elasticsearch import Elasticsearch\n",
    "headers = {\"Authorization\": \"ApiKey \" + elastic_api_key.strip()}\n",
    "es_client = Elasticsearch(\n",
    "    hosts=[es_url],\n",
    "    headers=headers\n",
    ")\n",
    "print(\"ElasticSearch Cluster Info:\")\n",
    "print(es_client.info())"
   ]
  },
  {
   "cell_type": "code",
   "execution_count": 14,
   "metadata": {},
   "outputs": [],
   "source": [
    "from langchain_elasticsearch import ElasticsearchRetriever\n",
    "hybrid_retriever = ElasticsearchRetriever.from_es_params(\n",
    "    index_name=index_name,\n",
    "    body_func=hybrid_query,\n",
    "    content_field=text_field,  # Trường chứa nội dung văn bản trong index\n",
    "    url=es_url,\n",
    "    api_key=elastic_api_key.strip()\n",
    ")\n",
    "\n",
    "\n"
   ]
  },
  {
   "cell_type": "markdown",
   "metadata": {},
   "source": [
    "## Prompting"
   ]
  },
  {
   "cell_type": "code",
   "execution_count": 15,
   "metadata": {},
   "outputs": [],
   "source": [
    "from langchain.prompts import PromptTemplate\n",
    "\n",
    "prompt_template = \"\"\"\n",
    "Bạn là một chuyên gia pháp lý hàng đầu, chuyên sâu về **Luật Thương mại của Việt Nam**, đồng thời am hiểu đầy đủ và chính xác các **bộ luật khác của Việt Nam** như: Bộ luật Dân sự, Luật Doanh nghiệp, Luật Trọng tài thương mại, Luật Đầu tư, Luật Sở hữu trí tuệ, v.v.\n",
    "\n",
    "Bạn có nhiều năm kinh nghiệm giảng dạy, tư vấn và giải quyết tranh chấp pháp lý trong môi trường thực tiễn tại Việt Nam.\n",
    "\n",
    "---\n",
    "\n",
    "### ❓ Câu hỏi pháp lý:\n",
    "{query}\n",
    "\n",
    "---\n",
    "\n",
    "### 📚 Thông tin pháp lý được truy xuất từ văn bản:\n",
    "(Chỉ sử dụng thông tin trong phần này. Nếu không đủ căn cứ, hãy nói rõ.)\n",
    "------------------------------------------------\n",
    "{retrieved_context}\n",
    "------------------------------------------------\n",
    "\n",
    "---\n",
    "\n",
    "### 🎯 Nhiệm vụ của bạn:\n",
    "\n",
    "1. **Phân tích câu hỏi** để xác định vấn đề pháp lý cốt lõi và các quy định cần xem xét.\n",
    "2. **Chỉ dựa trên thông tin được truy xuất ở trên**, đưa ra phân tích pháp lý chi tiết, có **trích dẫn đúng điều/khoản/bộ luật** theo định dạng chuẩn: `\"Điều X, Khoản Y, Luật Z: ...\"`.\n",
    "3. **Tuyệt đối không suy diễn hoặc tự tạo nội dung luật** nếu không có trong context.\n",
    "4. Nếu có nhiều cách hiểu/phương án, hãy liệt kê và **so sánh khách quan** (ưu/nhược điểm).\n",
    "5. **Đưa ví dụ minh họa** cụ thể nếu có thể.\n",
    "6. **Tổng hợp và trả lời rõ ràng, có logic**, trình bày theo **cấu trúc với tiêu đề phụ**.\n",
    "\n",
    "---\n",
    "\n",
    "### 📝 Trả lời:\n",
    "\"\"\"\n"
   ]
  },
  {
   "cell_type": "code",
   "execution_count": 16,
   "metadata": {},
   "outputs": [],
   "source": [
    "prompt = PromptTemplate(template=prompt_template, input_variables=[\"retrieved_context\", \"query\"])"
   ]
  },
  {
   "cell_type": "markdown",
   "metadata": {},
   "source": [
    "## Retrieval\n"
   ]
  },
  {
   "cell_type": "markdown",
   "metadata": {},
   "source": [
    "### Test 1"
   ]
  },
  {
   "cell_type": "code",
   "execution_count": 17,
   "metadata": {},
   "outputs": [],
   "source": [
    "# --- Thực hiện retrieval ---\n",
    "query = \"Theo luật trọng tài thương mại, trọng tài nước ngoài là gì?\"\n",
    "retrieved_docs = hybrid_retriever.invoke(query)"
   ]
  },
  {
   "cell_type": "code",
   "execution_count": null,
   "metadata": {},
   "outputs": [],
   "source": [
    "retrieved_context = \"\\n\\n\".join([doc.page_content for doc in retrieved_docs])\n",
    "print(retrieved_context)"
   ]
  },
  {
   "cell_type": "code",
   "execution_count": 19,
   "metadata": {},
   "outputs": [],
   "source": [
    "final_prompt = prompt.format(retrieved_context=retrieved_context, query=query)"
   ]
  },
  {
   "cell_type": "code",
   "execution_count": null,
   "metadata": {},
   "outputs": [],
   "source": [
    "print(final_prompt)"
   ]
  },
  {
   "cell_type": "code",
   "execution_count": null,
   "metadata": {},
   "outputs": [],
   "source": [
    "response = llm(final_prompt)\n",
    "print(response.content)"
   ]
  },
  {
   "cell_type": "markdown",
   "metadata": {},
   "source": [
    "### Test 2"
   ]
  },
  {
   "cell_type": "code",
   "execution_count": 22,
   "metadata": {},
   "outputs": [],
   "source": [
    "\n",
    "# --- Thực hiện retrieval ---\n",
    "query = \"Theo luật trọng tài thương mại, Quyết định trọng tài?\"\n",
    "retrieved_docs = hybrid_retriever.invoke(query)\n",
    "retrieved_context = \"\\n\\n\".join([doc.page_content for doc in retrieved_docs])"
   ]
  },
  {
   "cell_type": "code",
   "execution_count": 23,
   "metadata": {},
   "outputs": [],
   "source": [
    "final_prompt = prompt.format(retrieved_context=retrieved_context, query=query)"
   ]
  },
  {
   "cell_type": "code",
   "execution_count": null,
   "metadata": {},
   "outputs": [],
   "source": [
    "response = llm(final_prompt)\n",
    "print(response.content)"
   ]
  },
  {
   "cell_type": "markdown",
   "metadata": {},
   "source": [
    "### Test 3"
   ]
  },
  {
   "cell_type": "code",
   "execution_count": 26,
   "metadata": {},
   "outputs": [],
   "source": [
    "# --- Thực hiện retrieval ---\n",
    "query = '''Theo luật trọng tài thương mại,Đối với tranh chấp không có yếu tố nước ngoài, Hội đồng trọng tài có được áp dụng \n",
    "pháp luật Việt Nam để giải quyết tranh chấp hay không ?'''\n",
    "retrieved_docs = hybrid_retriever.invoke(query)\n",
    "retrieved_context = \"\\n\\n\".join([doc.page_content for doc in retrieved_docs])"
   ]
  },
  {
   "cell_type": "code",
   "execution_count": 27,
   "metadata": {},
   "outputs": [],
   "source": [
    "final_prompt = prompt.format(retrieved_context=retrieved_context, query=query)"
   ]
  },
  {
   "cell_type": "code",
   "execution_count": null,
   "metadata": {},
   "outputs": [],
   "source": [
    "response = llm(final_prompt)\n",
    "print(response.content)"
   ]
  },
  {
   "cell_type": "markdown",
   "metadata": {},
   "source": [
    "### Test 4"
   ]
  },
  {
   "cell_type": "code",
   "execution_count": 29,
   "metadata": {},
   "outputs": [],
   "source": [
    "# --- Thực hiện retrieval ---\n",
    "query = '''Luật trọng tài thương mại do ai ban hành'''\n",
    "retrieved_docs = hybrid_retriever.invoke(query)\n",
    "retrieved_context = \"\\n\\n\".join([doc.page_content for doc in retrieved_docs])"
   ]
  },
  {
   "cell_type": "code",
   "execution_count": null,
   "metadata": {},
   "outputs": [],
   "source": [
    "final_prompt = prompt.format(retrieved_context=retrieved_context, query=query)\n",
    "response = llm(final_prompt)\n",
    "print(response.content)"
   ]
  },
  {
   "cell_type": "markdown",
   "metadata": {},
   "source": [
    "### Test 5"
   ]
  },
  {
   "cell_type": "code",
   "execution_count": 31,
   "metadata": {},
   "outputs": [],
   "source": [
    "# --- Thực hiện retrieval ---\n",
    "query = '''Phán quyết của trọng tài trong luật trọng tài thương mại có hiệu lực như thế nào'''\n",
    "retrieved_docs = hybrid_retriever.invoke(query)\n",
    "retrieved_context = \"\\n\\n\".join([doc.page_content for doc in retrieved_docs])"
   ]
  },
  {
   "cell_type": "code",
   "execution_count": null,
   "metadata": {},
   "outputs": [],
   "source": [
    "final_prompt = prompt.format(retrieved_context=retrieved_context, query=query)\n",
    "response = llm(final_prompt)\n",
    "print(response.content)"
   ]
  },
  {
   "cell_type": "markdown",
   "metadata": {},
   "source": [
    "### Test 6"
   ]
  },
  {
   "cell_type": "code",
   "execution_count": 33,
   "metadata": {},
   "outputs": [],
   "source": [
    "# --- Thực hiện retrieval ---\n",
    "query = '''Sự khác biệt giữa trọng tài thương mại và toà án là gì'''\n",
    "retrieved_docs = hybrid_retriever.invoke(query)\n",
    "retrieved_context = \"\\n\\n\".join([doc.page_content for doc in retrieved_docs])"
   ]
  },
  {
   "cell_type": "code",
   "execution_count": null,
   "metadata": {},
   "outputs": [],
   "source": [
    "final_prompt = prompt.format(retrieved_context=retrieved_context, query=query)\n",
    "response = llm(final_prompt)\n",
    "print(response.content)"
   ]
  },
  {
   "cell_type": "markdown",
   "metadata": {},
   "source": [
    "### Test 7"
   ]
  },
  {
   "cell_type": "code",
   "execution_count": 35,
   "metadata": {},
   "outputs": [],
   "source": [
    "# --- Thực hiện retrieval ---\n",
    "query = '''Trong luật trọng tài thương mại, Phán quyết trọng tài có giá trị pháp lí như thế nào?'''\n",
    "retrieved_docs = hybrid_retriever.invoke(query)\n",
    "retrieved_context = \"\\n\\n\".join([doc.page_content for doc in retrieved_docs])"
   ]
  },
  {
   "cell_type": "code",
   "execution_count": null,
   "metadata": {},
   "outputs": [],
   "source": [
    "final_prompt = prompt.format(retrieved_context=retrieved_context, query=query)\n",
    "response = llm(final_prompt)\n",
    "print(response.content)"
   ]
  },
  {
   "cell_type": "markdown",
   "metadata": {},
   "source": [
    "### Test 8\n"
   ]
  },
  {
   "cell_type": "code",
   "execution_count": 59,
   "metadata": {},
   "outputs": [],
   "source": [
    "# # --- Thực hiện retrieval ---\n",
    "# query = \"Theo luật trọng tài thương mại, Quyết định trọng tài?\"\n",
    "# retrieved_docs = hybrid_retriever.invoke(query)\n",
    "# retrieved_context = \"\\n\\n\".join([doc.page_content for doc in retrieved_docs])"
   ]
  },
  {
   "cell_type": "code",
   "execution_count": 58,
   "metadata": {},
   "outputs": [],
   "source": [
    "# final_prompt = prompt.format(retrieved_context=retrieved_context, query=query)\n",
    "# response = llm(final_prompt)\n",
    "# print(response.content)"
   ]
  },
  {
   "cell_type": "code",
   "execution_count": 57,
   "metadata": {},
   "outputs": [],
   "source": [
    "# print(final_prompt)"
   ]
  },
  {
   "cell_type": "markdown",
   "metadata": {},
   "source": [
    "## Search Tools"
   ]
  },
  {
   "cell_type": "markdown",
   "metadata": {},
   "source": [
    "### Tavily Searrh"
   ]
  },
  {
   "cell_type": "code",
   "execution_count": 22,
   "metadata": {},
   "outputs": [],
   "source": [
    "from langchain_community.tools import TavilySearchResults\n",
    "from pydantic import BaseModel, Field\n",
    "from typing import List"
   ]
  },
  {
   "cell_type": "code",
   "execution_count": 23,
   "metadata": {},
   "outputs": [],
   "source": [
    "# Định nghĩa model cho một mục kết quả\n",
    "class SearchResultItem(BaseModel):\n",
    "    url: str = Field(..., description=\"Link của bài viết\")\n",
    "    content: str = Field(..., description=\"Nội dung tóm tắt hoặc câu trả lời\")\n",
    "\n",
    "# Định nghĩa model cho output của tool\n",
    "class TavilySearchOutput(BaseModel):\n",
    "    results: List[SearchResultItem] = Field(..., description=\"Danh sách kết quả tìm kiếm\")"
   ]
  },
  {
   "cell_type": "code",
   "execution_count": null,
   "metadata": {},
   "outputs": [],
   "source": [
    "# Cấu hình tool với args_schema là model trên (nếu tool hỗ trợ tùy chỉnh schema)\n",
    "tool = TavilySearchResults(\n",
    "    max_results=5,\n",
    "    search_depth=\"advanced\",\n",
    "    include_answer=True,\n",
    "    include_raw_content=True,\n",
    "    include_images=True,\n",
    "    name=\"TavilyVietnamEcommerceLawSearch\",\n",
    "    description=(\n",
    "        \"Công cụ tìm kiếm chuyên dụng cho các vấn đề liên quan đến luật thương mại điện tử Việt Nam. \"\n",
    "        \"Công cụ này trả về câu trả lời, tiêu đề, nội dung thô và link của các bài viết liên quan, \"\n",
    "        \"hỗ trợ kết quả từ cả các nguồn tiếng Việt và tiếng Anh.\"\n",
    "    ),\n",
    ")\n",
    "\n",
    "# Sử dụng truy vấn tiếng Việt\n",
    "raw_result = tool.invoke({\n",
    "    \"query\": \"theo luật trọng tài thương mại,trọng tài nước ngoài là gì?\"\n",
    "})\n",
    "\n",
    "# Giả sử raw_result là một list các dict, ta định dạng lại output:\n",
    "formatted_output = \"\"\n",
    "for item in raw_result:\n",
    "    formatted_output += f\"url: {item.get('url', '')}\\n\"\n",
    "    formatted_output += f\"content: {item.get('content', '')}\\n\"\n",
    "    # Nếu kết quả có chứa link bổ sung, ví dụ 'link' thì in ra:\n",
    "    if item.get('link'):\n",
    "        formatted_output += f\"link: {item.get('link')}\\n\"\n",
    "    formatted_output += \"-\" * 50 + \"\\n\"\n",
    "\n",
    "print(formatted_output)\n"
   ]
  },
  {
   "cell_type": "code",
   "execution_count": null,
   "metadata": {},
   "outputs": [],
   "source": [
    "# Sử dụng truy vấn tiếng Việt\n",
    "raw_result = tool.invoke({\n",
    "    \"query\": \"Theo Luật, thông điệp dữ liệu được xem là có giá trị pháp lý như bản gốc khi đáp ứng những yêu cầu nào?\"\n",
    "})\n",
    "\n",
    "# Giả sử raw_result là một list các dict, ta định dạng lại output:\n",
    "formatted_output = \"\"\n",
    "for item in raw_result:\n",
    "    formatted_output += f\"url: {item.get('url', '')}\\n\"\n",
    "    formatted_output += f\"content: {item.get('content', '')}\\n\"\n",
    "    # Nếu kết quả có chứa link bổ sung, ví dụ 'link' thì in ra:\n",
    "    if item.get('link'):\n",
    "        formatted_output += f\"link: {item.get('link')}\\n\"\n",
    "    formatted_output += \"-\" * 50 + \"\\n\"\n",
    "\n",
    "print(formatted_output)"
   ]
  },
  {
   "cell_type": "markdown",
   "metadata": {},
   "source": [
    "##"
   ]
  },
  {
   "cell_type": "code",
   "execution_count": null,
   "metadata": {},
   "outputs": [],
   "source": []
  }
 ],
 "metadata": {
  "kernelspec": {
   "display_name": "nckh",
   "language": "python",
   "name": "python3"
  },
  "language_info": {
   "codemirror_mode": {
    "name": "ipython",
    "version": 3
   },
   "file_extension": ".py",
   "mimetype": "text/x-python",
   "name": "python",
   "nbconvert_exporter": "python",
   "pygments_lexer": "ipython3",
   "version": "3.11.11"
  }
 },
 "nbformat": 4,
 "nbformat_minor": 2
}
