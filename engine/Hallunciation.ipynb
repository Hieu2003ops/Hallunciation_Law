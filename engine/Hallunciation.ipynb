{
 "cells": [
  {
   "cell_type": "code",
   "execution_count": 1,
   "metadata": {},
   "outputs": [
    {
     "name": "stdout",
     "output_type": "stream",
     "text": [
      " Key đã được thiết lập thành công!\n"
     ]
    }
   ],
   "source": [
    "import os\n",
    "from dotenv import load_dotenv\n",
    "\n",
    "# Load biến môi trường từ file .env (file .env cần nằm trong cùng thư mục với notebook)\n",
    "load_dotenv()\n",
    "\n",
    "# Lấy giá trị của TOGETHER_API_KEY từ biến môi trường\n",
    "together_api_key = os.getenv('TOGETHER_API_KEY')\n",
    "\n",
    "\n",
    "if not together_api_key:\n",
    "    raise ValueError(\"Chưa tìm thấy TOGETHER_API_KEY trong file .env!\")\n",
    "\n",
    "elastic_api_key = os.getenv('ELASTIC_API_KEY')\n",
    "\n",
    "if not elastic_api_key:\n",
    "    raise ValueError(\"Chưa tìm thấy ELASTIC_API_KEY trong file .env!\")\n",
    "\n",
    "elastic_cloud_id = os.getenv('ELASTIC_CLOUD_ID')\n",
    "\n",
    "if not elastic_cloud_id:\n",
    "    raise ValueError(\"Chưa tìm thấy ELASTIC_CLOUD_ID trong file .env!\")\n",
    "\n",
    "print(\" Key đã được thiết lập thành công!\")\n"
   ]
  },
  {
   "cell_type": "code",
   "execution_count": 2,
   "metadata": {},
   "outputs": [
    {
     "name": "stdout",
     "output_type": "stream",
     "text": [
      "ba4066853f6d39efbdb8e58274802acdb950955adb52d523b36cad88c5493aa1\n",
      "LUVTcUlKWUIyR2JxbU84a1dRYVo6TFhidjQ4VlVRRmFYNUJQY2MweFVEUQ==\n",
      "My_Elasticsearch_deployment:YXAtZWFzdC0xLmF3cy5lbGFzdGljLWNsb3VkLmNvbTo0NDMkNjAyNDBhMzU5NGU5NDIzNjkzMmJjYjQwMWYyZWZmMTMkNmQxNjEyNjAwZWI1NDQzZmE2ODA1YTI1YWQ5M2Y3ZTA=\n"
     ]
    }
   ],
   "source": [
    "print(together_api_key)\n",
    "print(elastic_api_key)\n",
    "print(elastic_cloud_id)"
   ]
  },
  {
   "cell_type": "code",
   "execution_count": 3,
   "metadata": {},
   "outputs": [
    {
     "name": "stdout",
     "output_type": "stream",
     "text": [
      "Thủ đô của Việt Nam là Hà Nội.\n"
     ]
    }
   ],
   "source": [
    "from langchain_together import ChatTogether, TogetherEmbeddings\n",
    "from langchain_community.embeddings import HuggingFaceEmbeddings\n",
    "llm = ChatTogether(\n",
    "    model=\"meta-llama/Meta-Llama-3.1-70B-Instruct-Turbo\" \n",
    ")\n",
    "#meta-llama/Llama-3.3-70B-Instruct-Turbo\n",
    "result = llm.invoke(\"Thủ đô Việt Nam là thành phố nào? \")\n",
    "print(result.content)"
   ]
  },
  {
   "cell_type": "code",
   "execution_count": 4,
   "metadata": {},
   "outputs": [
    {
     "name": "stderr",
     "output_type": "stream",
     "text": [
      "C:\\Users\\ADMIN\\AppData\\Local\\Temp\\ipykernel_9140\\2901307974.py:2: LangChainDeprecationWarning: The class `HuggingFaceEmbeddings` was deprecated in LangChain 0.2.2 and will be removed in 1.0. An updated version of the class exists in the :class:`~langchain-huggingface package and should be used instead. To use it run `pip install -U :class:`~langchain-huggingface` and import as `from :class:`~langchain_huggingface import HuggingFaceEmbeddings``.\n",
      "  embd = HuggingFaceEmbeddings(model_name=\"VoVanPhuc/sup-SimCSE-VietNamese-phobert-base\")\n",
      "No sentence-transformers model found with name VoVanPhuc/sup-SimCSE-VietNamese-phobert-base. Creating a new one with mean pooling.\n"
     ]
    }
   ],
   "source": [
    "from tqdm.notebook import tqdm\n",
    "embd = HuggingFaceEmbeddings(model_name=\"VoVanPhuc/sup-SimCSE-VietNamese-phobert-base\")"
   ]
  },
  {
   "cell_type": "code",
   "execution_count": 5,
   "metadata": {},
   "outputs": [
    {
     "data": {
      "text/plain": [
       "HuggingFaceEmbeddings(client=SentenceTransformer(\n",
       "  (0): Transformer({'max_seq_length': 256, 'do_lower_case': False}) with Transformer model: RobertaModel \n",
       "  (1): Pooling({'word_embedding_dimension': 768, 'pooling_mode_cls_token': False, 'pooling_mode_mean_tokens': True, 'pooling_mode_max_tokens': False, 'pooling_mode_mean_sqrt_len_tokens': False, 'pooling_mode_weightedmean_tokens': False, 'pooling_mode_lasttoken': False, 'include_prompt': True})\n",
       "), model_name='VoVanPhuc/sup-SimCSE-VietNamese-phobert-base', cache_folder=None, model_kwargs={}, encode_kwargs={}, multi_process=False, show_progress=False)"
      ]
     },
     "execution_count": 5,
     "metadata": {},
     "output_type": "execute_result"
    }
   ],
   "source": [
    "embd"
   ]
  },
  {
   "cell_type": "markdown",
   "metadata": {},
   "source": [
    "## Load Elasticsearch Store\n",
    "\n"
   ]
  },
  {
   "cell_type": "code",
   "execution_count": 6,
   "metadata": {},
   "outputs": [],
   "source": [
    "from langchain.vectorstores import ElasticsearchStore\n",
    "index_name = \"ecom-law0\""
   ]
  },
  {
   "cell_type": "code",
   "execution_count": 8,
   "metadata": {},
   "outputs": [
    {
     "name": "stderr",
     "output_type": "stream",
     "text": [
      "C:\\Users\\ADMIN\\AppData\\Local\\Temp\\ipykernel_9140\\2227148762.py:2: LangChainPendingDeprecationWarning: The class `ElasticsearchStore` will be deprecated in a future version. Use :class:`~Use class in langchain-elasticsearch package` instead.\n",
      "  vector_store = ElasticsearchStore(\n"
     ]
    }
   ],
   "source": [
    "# Khởi tạo connection tới Elasticsearch thông qua Elastic Cloud\n",
    "vector_store = ElasticsearchStore(\n",
    "    es_cloud_id=elastic_cloud_id,\n",
    "    es_api_key=elastic_api_key,\n",
    "    index_name=index_name,\n",
    "    embedding=embd,\n",
    ")"
   ]
  },
  {
   "cell_type": "code",
   "execution_count": 9,
   "metadata": {},
   "outputs": [
    {
     "name": "stdout",
     "output_type": "stream",
     "text": [
      ".internal.alerts-transform.health.alerts-default-000001\n",
      ".internal.alerts-observability.logs.alerts-default-000001\n",
      ".internal.alerts-observability.uptime.alerts-default-000001\n",
      ".ds-metrics-fleet_server.agent_versions-default-2025.04.10-000001\n",
      ".internal.alerts-ml.anomaly-detection.alerts-default-000001\n",
      ".internal.alerts-observability.slo.alerts-default-000001\n",
      "ecom-law0\n",
      ".internal.alerts-default.alerts-default-000001\n",
      "new-index\n",
      ".internal.alerts-observability.apm.alerts-default-000001\n",
      ".elastic-connectors-v1\n",
      ".internal.alerts-observability.metrics.alerts-default-000001\n",
      ".internal.alerts-ml.anomaly-detection-health.alerts-default-000001\n",
      ".internal.alerts-observability.threshold.alerts-default-000001\n",
      ".ds-metrics-fleet_server.agent_status-default-2025.04.10-000001\n",
      ".elastic-connectors-sync-jobs-v1\n",
      ".internal.alerts-security.alerts-default-000001\n",
      ".ds-logs-enterprise_search.audit-default-2025.04.10-000001\n",
      ".ds-logs-enterprise_search.api-default-2025.04.10-000001\n",
      ".internal.alerts-stack.alerts-default-000001\n"
     ]
    }
   ],
   "source": [
    "indices = vector_store.client.cat.indices(format=\"json\")\n",
    "for index_info in indices:\n",
    "    print(index_info[\"index\"])\n"
   ]
  },
  {
   "cell_type": "code",
   "execution_count": 10,
   "metadata": {},
   "outputs": [
    {
     "name": "stdout",
     "output_type": "stream",
     "text": [
      "Number of documents in the vectorstore: 318\n"
     ]
    }
   ],
   "source": [
    "num_docs = vector_store.client.count(index=index_name)['count']\n",
    "print(f\"Number of documents in the vectorstore: {num_docs}\")\n"
   ]
  },
  {
   "cell_type": "markdown",
   "metadata": {},
   "source": [
    "## Hybrid Retrieval"
   ]
  },
  {
   "cell_type": "code",
   "execution_count": 11,
   "metadata": {},
   "outputs": [],
   "source": [
    "from typing import Dict\n",
    "from langchain_elasticsearch import ElasticsearchRetriever\n",
    "from elasticsearch import Elasticsearch"
   ]
  },
  {
   "cell_type": "code",
   "execution_count": 12,
   "metadata": {},
   "outputs": [],
   "source": [
    "index_name = \"ecom-law0\"\n",
    "text_field = \"text\"\n",
    "es_url = \"https://my-elasticsearch-deployment.es.ap-east-1.aws.elastic-cloud.com\""
   ]
  },
  {
   "cell_type": "code",
   "execution_count": 13,
   "metadata": {},
   "outputs": [],
   "source": [
    "# --- Định nghĩa hàm hybrid_query ---\n",
    "def hybrid_query(search_query: str) -> Dict:\n",
    "    # Sử dụng embed_query để tạo vector cho truy vấn\n",
    "    query_vector = embd.embed_query(search_query)\n",
    "    return {\n",
    "        \"retriever\": {\n",
    "            \"rrf\": {  # Rank Reciprocal Fusion: kết hợp hai truy vấn theo kiểu \"should\"\n",
    "                \"retrievers\": [\n",
    "                    {  # Thành phần full text search: dùng match query trên trường \"text\"\n",
    "                        \"standard\": {\n",
    "                            \"query\": {\n",
    "                                \"match\": {\n",
    "                                    text_field: search_query\n",
    "                                }\n",
    "                            }\n",
    "                        }\n",
    "                    },\n",
    "                    {  # Thành phần vector search: dùng knn query trên trường \"embedding_field\"\n",
    "                        \"knn\": {\n",
    "                            \"field\": \"embedding_field\",  # Điều chỉnh nếu mapping của bạn dùng tên khác\n",
    "                            \"query_vector\": query_vector,\n",
    "                            \"k\": 5,\n",
    "                            \"num_candidates\": 10\n",
    "                        }\n",
    "                    }\n",
    "                ]\n",
    "            }\n",
    "        }\n",
    "    }\n"
   ]
  },
  {
   "cell_type": "code",
   "execution_count": 14,
   "metadata": {},
   "outputs": [
    {
     "name": "stdout",
     "output_type": "stream",
     "text": [
      "ElasticSearch Cluster Info:\n",
      "{'name': 'instance-0000000001', 'cluster_name': '60240a3594e94236932bcb401f2eff13', 'cluster_uuid': 'nvcaKx7WRZCEdKsZ-3nr0w', 'version': {'number': '8.17.4', 'build_flavor': 'default', 'build_type': 'docker', 'build_hash': 'c63c7f5f8ce7d2e4805b7b3d842e7e792d84dda1', 'build_date': '2025-03-20T15:39:59.811110136Z', 'build_snapshot': False, 'lucene_version': '9.12.0', 'minimum_wire_compatibility_version': '7.17.0', 'minimum_index_compatibility_version': '7.0.0'}, 'tagline': 'You Know, for Search'}\n"
     ]
    }
   ],
   "source": [
    "# --- Thiết lập Elasticsearch client với xác thực ---\n",
    "from elasticsearch import Elasticsearch\n",
    "headers = {\"Authorization\": \"ApiKey \" + elastic_api_key.strip()}\n",
    "es_client = Elasticsearch(\n",
    "    hosts=[es_url],\n",
    "    headers=headers\n",
    ")\n",
    "print(\"ElasticSearch Cluster Info:\")\n",
    "print(es_client.info())"
   ]
  },
  {
   "cell_type": "code",
   "execution_count": 15,
   "metadata": {},
   "outputs": [],
   "source": [
    "from langchain_elasticsearch import ElasticsearchRetriever\n",
    "hybrid_retriever = ElasticsearchRetriever.from_es_params(\n",
    "    index_name=index_name,\n",
    "    body_func=hybrid_query,\n",
    "    content_field=text_field,  # Trường chứa nội dung văn bản trong index\n",
    "    url=es_url,\n",
    "    api_key=elastic_api_key.strip()\n",
    ")\n",
    "\n",
    "\n"
   ]
  },
  {
   "cell_type": "markdown",
   "metadata": {},
   "source": [
    "## Prompting"
   ]
  },
  {
   "cell_type": "code",
   "execution_count": 52,
   "metadata": {},
   "outputs": [],
   "source": [
    "from langchain.prompts import PromptTemplate\n",
    "# --- Xây dựng prompt với retrieved context ---\n",
    "prompt_template = \"\"\"\n",
    "Trước tiên, hãy phân tích câu hỏi sau đây và xác định các yếu tố pháp lý cốt lõi cần xem xét:\n",
    "Câu hỏi: {query}\n",
    "\n",
    "Sau đó, hãy đọc kỹ các thông tin pháp lý được trích xuất từ văn bản dưới đây:\n",
    "------------------------------------------------\n",
    "{retrieved_context}\n",
    "------------------------------------------------\n",
    "\n",
    "Dựa trên phân tích câu hỏi và các thông tin pháp lý trên, bạn là một chuyên gia (expert) có nhiều năm kinh nghiệm giảng dạy và tư vấn về Luật Thương Mại Điện Tử của Việt Nam. Nhiệm vụ của bạn là:\n",
    "1. Phân tích cẩn thận câu hỏi dựa trên văn bản pháp lý, các điều khoản cụ thể và dẫn chứng hiện hành.\n",
    "2. Xác định các yếu tố pháp lý quan trọng và trình bày các quy định liên quan, bao gồm trích dẫn chính xác từ bộ luật (ví dụ: \"Điều X, khoản Y: ...\") mà không được thay đổi nội dung gốc.\n",
    "3. Nếu có nhiều quan điểm hoặc cách giải quyết khác nhau, hãy liệt kê và so sánh ưu, nhược điểm của từng phương án.\n",
    "4. Đưa ra ví dụ minh họa cụ thể giúp làm rõ vấn đề.\n",
    "5. Tổng hợp và tóm tắt các thông tin, sau đó trả lời câu hỏi một cách rõ ràng, logic và chi tiết.\n",
    "\n",
    "Câu trả lời của bạn phải bao gồm các trích dẫn chính xác từ bộ luật và phải được trình bày theo cấu trúc rõ ràng, có tiêu đề phụ và giải thích chi tiết.\n",
    "\n",
    "Trả lời:\n",
    "\"\"\"\n"
   ]
  },
  {
   "cell_type": "code",
   "execution_count": 53,
   "metadata": {},
   "outputs": [],
   "source": [
    "prompt = PromptTemplate(template=prompt_template, input_variables=[\"retrieved_context\", \"query\"])"
   ]
  },
  {
   "cell_type": "markdown",
   "metadata": {},
   "source": [
    "## Retrieval\n"
   ]
  },
  {
   "cell_type": "markdown",
   "metadata": {},
   "source": [
    "### Test 1"
   ]
  },
  {
   "cell_type": "code",
   "execution_count": 18,
   "metadata": {},
   "outputs": [],
   "source": [
    "# --- Thực hiện retrieval ---\n",
    "query = \"Theo luật trọng tài thương mại, trọng tài nước ngoài là gì?\"\n",
    "retrieved_docs = hybrid_retriever.invoke(query)"
   ]
  },
  {
   "cell_type": "code",
   "execution_count": 19,
   "metadata": {},
   "outputs": [
    {
     "name": "stdout",
     "output_type": "stream",
     "text": [
      "18 CÔNG BÁO Số 1251 + 1252 Ngày 29-12-2015 Tòa án đã ra quyết định tuyên bố một người mất tích hoặc là đã chết có thẩm quyền giải quyết yêu cầu hủy bỏ quyết định tuyên bố một người mất tích hoặc là đã chết; d) Tòa án nơi người phải thi hành bản án, quyết định dân sự, hôn nhân và gia đình, kinh doanh, thương mại, lao động của Tòa án nước ngoài cư trú, làm việc, nếu người phải thi hành án là cá nhân hoặc nơi người phải thi hành án có trụ sở, nếu người phải thi hành án là cơ quan, tổ chức hoặc nơi có tài sản liên quan đến việc thi hành bản án, quyết định của Tòa án nước ngoài có thẩm quyền giải quyết yêu cầu công nhận và cho thi hành tại Việt Nam hoặc không công nhận bản án, quyết định dân sự, hôn nhân và gia đình, kinh doanh, thương mại, lao động của Tòa án nước ngoài; đ) Tòa án nơi người gửi đơn cư trú, làm việc, nếu người gửi đơn là cá nhân hoặc nơi người gửi đơn có trụ sở, nếu người gửi đơn là cơ quan, tổ chức có thẩm quyền giải quyết yêu cầu không công nhận bản án, quyết định dân sự, hôn nhân và gia đình, kinh doanh, thương mại, lao động của Tòa án nước ngoài không có yêu cầu thi hành tại Việt Nam; e) Tòa án nơi người phải thi hành phán quyết của Trọng tài nước ngoài cư trú, làm việc, nếu người phải thi hành là cá nhân hoặc nơi người phải thi hành có trụ sở, nếu người phải thi hành là cơ quan, tổ chức hoặc nơi có tài sản liên quan đến việc thi hành phán quyết của Trọng tài nước ngoài có thẩm quyền giải quyết yêu cầu công nhận và cho thi hành tại Việt Nam phán quyết của Trọng tài nước ngoài; g) Tòa án nơi việc đăng ký kết hôn trái pháp luật được thực hiện có thẩm quyền giải quyết yêu cầu hủy việc kết hôn trái pháp luật; h) Tòa án nơi một trong các bên thuận tình ly hôn, thỏa thuận nuôi con, chia tài sản khi ly hôn cư trú, làm việc có thẩm quyền giải quyết yêu cầu công nhận thuận tình ly hôn, thỏa thuận nuôi con, chia tài sản khi ly hôn; i) Tòa án nơi một trong các bên thỏa thuận về thay đổi người trực tiếp nuôi con sau khi ly hôn cư trú, làm việc có thẩm quyền giải quyết yêu cầu công nhận sự thỏa thuận về thay đổi người trực tiếp nuôi con sau khi ly hôn. Trường hợp cơ quan, tổ chức, cá nhân yêu cầu thay đổi người trực tiếp nuôi con sau khi ly hôn thì Tòa án nơi người con đang cư trú có thẩm quyền giải quyết; k) Tòa án nơi cha hoặc mẹ của con chưa thành niên cư trú, làm việc có thẩm quyền giải quyết yêu cầu hạn chế quyền của cha, mẹ đối với con chưa thành niên hoặc quyền thăm nom con sau khi ly hôn; l) Tòa án nơi cha, mẹ nuôi hoặc con nuôi cư trú, làm việc có thẩm quyền giải quyết yêu cầu chấm dứt việc nuôi con nuôi;\n",
      "\n",
      "CÔNG BÁO Số 564 + 565 ngày 25-9-2010 65 QUỐC HỘI _______ Luật số: 54 2010 QH12 CỘNG HÒA XÃ HỘI CHỦ NGHĨA VIỆT NAM Độc lập - Tự do - Hạnh phúc ________________________ LUẬT Trọng tài thương mại Căn cứ Hiến pháp nước Cộng hòa xã hội chủ nghĩa Việt Nam năm 1992 đã được sửa đổi, bổ sung một số điều theo Nghị quyết số 51 2001 QH10; Quốc hội ban hành Luật Trọng tài thương mại. Chương I NHỮNG QUY ĐỊNH CHUNG Điều 1. Phạm vi điều chỉnh Luật này quy định về thẩm quyền của Trọng tài thương mại, các hình thức trọng tài, tổ chức trọng tài, Trọng tài viên; trình tự, thủ tục trọng tài; quyền, nghĩa vụ và trách nhiệm của các bên trong tố tụng trọng tài; thẩm quyền của Tòa án đối với hoạt động trọng tài; tổ chức và hoạt động của Trọng tài nước ngoài tại Việt Nam, thi hành phán quyết trọng tài. Điều 2. Thẩm quyền giải quyết các tranh chấp của Trọng tài 1. Tranh chấp giữa các bên phát sinh từ hoạt động thương mại. 2. Tranh chấp phát sinh giữa các bên trong đó ít nhất một bên có hoạt động thương mại. 3. Tranh chấp khác giữa các bên mà pháp luật quy định được giải quyết bằng Trọng tài. Điều 3. Giải thích từ ngữ Trong Luật này, các từ ngữ dưới đây được hiểu như sau: 1. Trọng tài thương mại là phương thức giải quyết tranh chấp do các bên thỏa thuận và được tiến hành theo quy định của Luật này. 2. Thỏa thuận trọng tài là thỏa thuận giữa các bên về việc giải quyết bằng Trọng tài tranh chấp có thể phát sinh hoặc đã phát sinh. 3. Các bên tranh chấp là cá nhân, cơ quan, tổ chức Việt Nam hoặc nước ngoài tham gia tố tụng trọng tài với tư cách nguyên đơn, bị đơn. Ký bởi: Cổng Thông tin điện tử Chính phủ Email: thongtinchinhphu@chinhphu.vn Cơ quan: Văn phòng Chính phủ Thời gian ký: 22.01.2015 08:48:25 +07:00\n",
      "\n",
      "12 CÔNG BÁO Số 1251 + 1252 Ngày 29-12-2015 7. Yêu cầu công nhận thỏa thuận chấm dứt hiệu lực của việc chia tài sản chung trong thời kỳ hôn nhân đã được thực hiện theo bản án, quyết định của Tòa án. 8. Yêu cầu tuyên bố vô hiệu thỏa thuận về chế độ tài sản của vợ chồng theo quy định của pháp luật hôn nhân và gia đình. 9. Yêu cầu công nhận và cho thi hành tại Việt Nam hoặc không công nhận bản án, quyết định về hôn nhân và gia đình của Tòa án nước ngoài hoặc cơ quan khác có thẩm quyền của nước ngoài hoặc không công nhận bản án, quyết định về hôn nhân và gia đình của Tòa án nước ngoài hoặc cơ quan khác có thẩm quyền của nước ngoài không có yêu cầu thi hành tại Việt Nam. 10. Yêu cầu xác định cha, mẹ cho con hoặc con cho cha, mẹ theo quy định của pháp luật về hôn nhân và gia đình. 11. Các yêu cầu khác về hôn nhân và gia đình, trừ trường hợp thuộc thẩm quyền giải quyết của cơ quan, tổ chức khác theo quy định của pháp luật. Điều 30. Những tranh chấp về kinh doanh, thương mại thuộc thẩm quyền giải quyết của Tòa án 1. Tranh chấp phát sinh trong hoạt động kinh doanh, thương mại giữa cá nhân, tổ chức có đăng ký kinh doanh với nhau và đều có mục đích lợi nhuận. 2. Tranh chấp về quyền sở hữu trí tuệ, chuyển giao công nghệ giữa cá nhân, tổ chức với nhau và đều có mục đích lợi nhuận. 3. Tranh chấp giữa người chưa phải là thành viên công ty nhưng có giao dịch về chuyển nhượng phần vốn góp với công ty, thành viên công ty. 4. Tranh chấp giữa công ty với các thành viên của công ty; tranh chấp giữa công ty với người quản lý trong công ty trách nhiệm hữu hạn hoặc thành viên Hội đồng quản trị, giám đốc, tổng giám đốc trong công ty cổ phần, giữa các thành viên của công ty với nhau liên quan đến việc thành lập, hoạt động, giải thể, sáp nhập, hợp nhất, chia, tách, bàn giao tài sản của công ty, chuyển đổi hình thức tổ chức của công ty. 5. Các tranh chấp khác về kinh doanh, thương mại, trừ trường hợp thuộc thẩm quyền giải quyết của cơ quan, tổ chức khác theo quy định của pháp luật. Điều 31. Những yêu cầu về kinh doanh, thương mại thuộc thẩm quyền giải quyết của Tòa án 1. Yêu cầu hủy bỏ nghị quyết của Đại hội đồng cổ đông, nghị quyết của Hội đồng thành viên theo quy định của pháp luật về doanh nghiệp. 2. Yêu cầu liên quan đến việc Trọng tài thương mại Việt Nam giải quyết tranh chấp theo quy định của pháp luật về Trọng tài thương mại.\n",
      "\n",
      "66 CÔNG BÁO Số 564 + 565 ngày 25-9-2010 4. Tranh chấp có yếu tố nước ngoài là tranh chấp phát sinh trong quan hệ thương mại, quan hệ pháp luật khác có yếu tố nước ngoài được quy định tại Bộ luật Dân sự. 5. Trọng tài viên là người được các bên lựa chọn hoặc được Trung tâm trọng tài hoặc Tòa án chỉ định để giải quyết tranh chấp theo quy định của Luật này. 6. Trọng tài quy chế là hình thức giải quyết tranh chấp tại một Trung tâm trọng tài theo quy định của Luật này và quy tắc tố tụng của Trung tâm trọng tài đó. 7. Trọng tài vụ việc là hình thức giải quyết tranh chấp theo quy định của Luật này và trình tự, thủ tục do các bên thỏa thuận. 8. Địa điểm giải quyết tranh chấp là nơi Hội đồng trọng tài tiến hành giải quyết tranh chấp theo sự thỏa thuận lựa chọn của các bên hoặc do Hội đồng trọng tài quyết định nếu các bên không có thỏa thuận. Nếu địa điểm giải quyết tranh chấp được tiến hành trên lãnh thổ Việt Nam thì phán quyết phải được coi là tuyên tại Việt Nam mà không phụ thuộc vào nơi Hội đồng trọng tài tiến hành phiên họp để ra phán quyết đó. 9. Quyết định trọng tài là quyết định của Hội đồng trọng tài trong quá trình giải quyết tranh chấp. 10. Phán quyết trọng tài là quyết định của Hội đồng trọng tài giải quyết toàn bộ nội dung vụ tranh chấp và chấm dứt tố tụng trọng tài. 11. Trọng tài nước ngoài là Trọng tài được thành lập theo quy định của pháp luật trọng tài nước ngoài do các bên thỏa thuận lựa chọn để tiến hành giải quyết tranh chấp ở ngoài lãnh thổ Việt Nam hoặc trong lãnh thổ Việt Nam. 12. Phán quyết của trọng tài nước ngoài là phán quyết do Trọng tài nước ngoài tuyên ở ngoài lãnh thổ Việt Nam hoặc ở trong lãnh thổ Việt Nam để giải quyết tranh chấp do các bên thỏa thuận lựa chọn. Điều 4. Nguyên tắc giải quyết tranh chấp bằng Trọng tài 1. Trọng tài viên phải tôn trọng thỏa thuận của các bên nếu thỏa thuận đó không vi phạm điều cấm và trái đạo đức xã hội. 2. Trọng tài viên phải độc lập, khách quan, vô tư và tuân theo quy định của pháp luật. 3. Các bên tranh chấp đều bình đẳng về quyền và nghĩa vụ. Hội đồng trọng tài có trách nhiệm tạo điều kiện để họ thực hiện các quyền và nghĩa vụ của mình. 4. Giải quyết tranh chấp bằng Trọng tài được tiến hành không công khai, trừ trường hợp các bên có thỏa thuận khác. 5. Phán quyết trọng tài là chung thẩm.\n",
      "\n",
      "CÔNG BÁO Số 564 + 565 ngày 25-9-2010 99 5. Có con dấu mang tên Chi nhánh theo quy định của pháp luật Việt Nam. 6. Chỉ định Trọng tài viên để thành lập Hội đồng trọng tài theo ủy quyền của tổ chức trọng tài nước ngoài. 7. Cung cấp dịch vụ trọng tài, hòa giải và các phương thức giải quyết tranh chấp thương mại khác theo quy định của pháp luật. 8. Cung cấp các dịch vụ hành chính, văn phòng và các dịch vụ khác cho việc giải quyết tranh chấp của Hội đồng trọng tài nước ngoài. 9. Thu phí trọng tài và các khoản thu hợp pháp khác. 10. Trả thù lao cho Trọng tài viên. 11. Tổ chức bồi dưỡng nâng cao trình độ và kỹ năng giải quyết tranh chấp cho Trọng tài viên. 12. Lưu trữ hồ sơ, cung cấp các bản sao quyết định trọng tài theo yêu cầu của các bên tranh chấp hoặc cơ quan nhà nước có thẩm quyền của Việt Nam. 13. Hoạt động theo đúng lĩnh vực ghi trong Giấy phép thành lập, Giấy đăng ký hoạt động. 14. Chấp hành quy định của pháp luật Việt Nam có liên quan đến hoạt động của Chi nhánh. 15. Báo cáo định kỳ hàng năm về hoạt động của Chi nhánh với Sở Tư pháp nơi Chi nhánh đăng ký hoạt động. Điều 77. Văn phòng đại diện 1. Văn phòng đại diện là đơn vị phụ thuộc của Tổ chức trọng tài nước ngoài được thành lập và tìm kiếm, thúc đẩy cơ hội hoạt động trọng tài tại Việt Nam theo quy định của Luật này. 2. Tổ chức trọng tài nước ngoài phải chịu trách nhiệm về hoạt động của Văn phòng đại diện trước pháp luật Việt Nam. Điều 78. Quyền và nghĩa vụ của Văn phòng đại diện của Tổ chức trọng tài nước ngoài tại Việt Nam 1. Tìm kiếm, thúc đẩy các cơ hội hoạt động trọng tài của tổ chức mình tại Việt Nam. 2. Thuê trụ sở, thuê, mua các phương tiện, vật dụng cần thiết cho hoạt động của Văn phòng đại diện.\n",
      "\n",
      "88 CÔNG BÁO Số 865 + 866 Ngày 30-7-2023 c) Kiểm tra hoạt động của tổ chức xã hội tham gia bảo vệ quyền lợi người tiêu dùng thuộc thẩm quyền quản lý tại địa phương; d) Quản lý theo thẩm quyền đối với các chợ, trung tâm thương mại trên địa bàn để bảo vệ quyền lợi người tiêu dùng khi người tiêu dùng mua, sử dụng sản phẩm, hàng hóa, dịch vụ tại các địa điểm này; đ) Hướng dẫn chuyên môn, nghiệp vụ để Ủy ban nhân dân cấp xã thực hiện các biện pháp cần thiết để bảo vệ quyền lợi người tiêu dùng khi người tiêu dùng mua, sử dụng sản phẩm, hàng hóa, dịch vụ của các cá nhân hoạt động thương mại ngoài phạm vi chợ, trung tâm thương mại; e) Báo cáo kết quả thực hiện quản lý nhà nước về bảo vệ quyền lợi người tiêu dùng trên địa bàn theo định kỳ hoặc theo yêu cầu của cơ quan nhà nước có thẩm quyền cấp trên; g) Ban hành quy chế phối hợp quản lý nhà nước về bảo vệ quyền lợi người tiêu dùng tại các cơ quan nhà nước cấp huyện. 3. Ủy ban nhân dân cấp xã có trách nhiệm sau đây: a) Thực hiện trách nhiệm quy định tại điểm b khoản 2 Điều này tại địa phương; b) Kiểm tra hoạt động của các ban quản lý chợ, thương nhân kinh doanh chợ trên địa bàn trong việc thực hiện nội dung bảo vệ quyền lợi người tiêu dùng trong nội quy của chợ theo quy định của pháp luật. Trong trường hợp không có Ban quản lý chợ, thương nhân kinh doanh chợ thì Ủy ban nhân dân cấp xã có trách nhiệm thực hiện các biện pháp để bảo vệ quyền lợi người tiêu dùng trong phạm vi chợ; c) Quản lý, kiểm tra hoạt động của các cá nhân hoạt động thương mại độc lập, thường xuyên, không phải đăng ký kinh doanh hoạt động tại địa phương ngoài phạm vi chợ, trung tâm thương mại để bảo vệ quyền lợi người tiêu dùng; d) Tiếp nhận thông báo của tổ chức hoạt động bán hàng không tại địa điểm giao dịch thường xuyên và kiểm tra, theo dõi hoạt động bán hàng không tại địa điểm giao dịch thường xuyên trên địa bàn theo quy định của Luật này; đ) Xử lý vi phạm về bảo vệ quyền lợi người tiêu dùng theo thẩm quyền và theo quy định của pháp luật; e) Tuyên truyền, khuyến khích để cá nhân hoạt động thương mại trong phạm vi chợ, trung tâm thương mại; tạo điều kiện để cá nhân hoạt động kinh doanh trong phạm vi chợ.\n",
      "\n",
      "CÔNG BÁO Số 1251 + 1252 Ngày 29-12-2015 13 3. Yêu cầu bắt giữ tàu bay, tàu biển theo quy định của pháp luật về hàng không dân dụng Việt Nam, về hàng hải Việt Nam, trừ trường hợp bắt giữ tàu bay, tàu biển để bảo đảm giải quyết vụ án. 4. Yêu cầu công nhận và cho thi hành tại Việt Nam hoặc không công nhận bản án, quyết định kinh doanh, thương mại của Tòa án nước ngoài hoặc không công nhận bản án, quyết định kinh doanh, thương mại của Tòa án nước ngoài không có yêu cầu thi hành tại Việt Nam. 5. Yêu cầu công nhận và cho thi hành tại Việt Nam phán quyết kinh doanh, thương mại của Trọng tài nước ngoài. 6. Các yêu cầu khác về kinh doanh, thương mại, trừ trường hợp thuộc thẩm quyền giải quyết của cơ quan, tổ chức khác theo quy định của pháp luật. Điều 32. Những tranh chấp về lao động thuộc thẩm quyền giải quyết của Tòa án 1. Tranh chấp lao động cá nhân giữa người lao động với người sử dụng lao động phải thông qua thủ tục hòa giải của hòa giải viên lao động mà hòa giải thành nhưng các bên không thực hiện hoặc thực hiện không đúng, hòa giải không thành hoặc không hòa giải trong thời hạn do pháp luật quy định, trừ các tranh chấp lao động sau đây không bắt buộc phải qua thủ tục hòa giải: a) Về xử lý kỷ luật lao động theo hình thức sa thải hoặc tranh chấp về trường hợp bị đơn phương chấm dứt hợp đồng lao động; b) Về bồi thường thiệt hại, trợ cấp khi chấm dứt hợp đồng lao động; c) Giữa người giúp việc gia đình với người sử dụng lao động; d) Về bảo hiểm xã hội theo quy định của pháp luật về bảo hiểm xã hội, về bảo hiểm y tế theo quy định của pháp luật về bảo hiểm y tế, về bảo hiểm thất nghiệp theo quy định của pháp luật về việc làm, về bảo hiểm tai nạn lao động, bệnh nghề nghiệp theo quy định của pháp luật về an toàn, vệ sinh lao động; đ) Về bồi thường thiệt hại giữa người lao động với doanh nghiệp, đơn vị sự nghiệp công lập đưa người lao động đi làm việc ở nước ngoài theo hợp đồng. 2. Tranh chấp lao động tập thể về quyền giữa tập thể lao động với người sử dụng lao động theo quy định của pháp luật về lao động đã được Chủ tịch Ủy ban nhân dân cấp huyện giải quyết mà tập thể lao động hoặc người sử dụng lao động không đồng ý với quyết định đó hoặc quá thời hạn mà Chủ tịch Ủy ban nhân dân cấp huyện không giải quyết. 3. Tranh chấp liên quan đến lao động bao gồm: a) Tranh chấp về học nghề, tập nghề;\n",
      "\n",
      "CÔNG BÁO Số 1251 + 1252 Ngày 29-12-2015 15 Mục 2 THẨM QUYỀN CỦA TÒA ÁN CÁC CẤP Điều 35. Thẩm quyền của Tòa án nhân dân cấp huyện 1. Tòa án nhân dân cấp huyện có thẩm quyền giải quyết theo thủ tục sơ thẩm những tranh chấp sau đây: a) Tranh chấp về dân sự, hôn nhân và gia đình quy định tại Điều 26 và Điều 28 của Bộ luật này, trừ tranh chấp quy định tại khoản 7 Điều 26 của Bộ luật này; b) Tranh chấp về kinh doanh, thương mại quy định tại khoản 1 Điều 30 của Bộ luật này; c) Tranh chấp về lao động quy định tại Điều 32 của Bộ luật này. 2. Tòa án nhân dân cấp huyện có thẩm quyền giải quyết những yêu cầu sau đây: a) Yêu cầu về dân sự quy định tại các khoản 1, 2, 3, 4, 6, 7, 8, 9 và 10 Điều 27 của Bộ luật này; b) Yêu cầu về hôn nhân và gia đình quy định tại các khoản 1, 2, 3, 4, 5, 6, 7, 8, 10 và 11 Điều 29 của Bộ luật này; c) Yêu cầu về kinh doanh, thương mại quy định tại khoản 1 và khoản 6 Điều 31 của Bộ luật này; d) Yêu cầu về lao động quy định tại khoản 1 và khoản 5 Điều 33 của Bộ luật này. 3. Những tranh chấp, yêu cầu quy định tại khoản 1 và khoản 2 Điều này mà có đương sự hoặc tài sản ở nước ngoài hoặc cần phải ủy thác tư pháp cho cơ quan đại diện nước Cộng hòa xã hội chủ nghĩa Việt Nam ở nước ngoài, cho Tòa án, cơ quan có thẩm quyền của nước ngoài không thuộc thẩm quyền giải quyết của Tòa án nhân dân cấp huyện, trừ trường hợp quy định tại khoản 4 Điều này. 4. Tòa án nhân dân cấp huyện nơi cư trú của công dân Việt Nam hủy việc kết hôn trái pháp luật, giải quyết việc ly hôn, các tranh chấp về quyền và nghĩa vụ của vợ chồng, cha mẹ và con, về nhận cha, mẹ, con, nuôi con nuôi và giám hộ giữa công dân Việt Nam cư trú ở khu vực biên giới với công dân của nước láng giềng cùng cư trú ở khu vực biên giới với Việt Nam theo quy định của Bộ luật này và các quy định khác của pháp luật Việt Nam. Điều 36. Thẩm quyền của các Tòa chuyên trách Tòa án nhân dân cấp huyện 1. Tòa dân sự Tòa án nhân dân cấp huyện có thẩm quyền giải quyết theo thủ tục sơ thẩm những vụ việc về dân sự, kinh doanh, thương mại, lao động thuộc thẩm quyền của Tòa án nhân dân cấp huyện quy định tại Điều 35 của Bộ luật này. 2. Tòa gia đình và người chưa thành niên Tòa án nhân dân cấp huyện có thẩm quyền giải quyết theo thủ tục sơ thẩm những vụ việc về hôn nhân và gia đình thuộc thẩm quyền của Tòa án nhân dân cấp huyện quy định tại Điều 35 của Bộ luật này.\n",
      "\n",
      "CÔNG BÁO Số 289 + 290 Ngày 29-05-2013 31 đ) Có tiêu chí và quy trình đánh giá chính sách bảo vệ thông tin cá nhân tuân thủ các quy định của Bộ Công Thương. 2. Giấy phép hoạt động đánh giá và chứng nhận chính sách bảo vệ thông tin cá nhân trong thương mại điện tử có thời hạn theo đề nghị cấp phép. 3. Thương nhân, tổ chức bị thu hồi giấy phép hoạt động đánh giá và chứng nhận chính sách bảo vệ thông tin cá nhân trong những trường hợp sau: a) Có hành vi gian dối hoặc cung cấp thông tin giả mạo để được cấp giấy phép; b) Vi phạm quy trình và tiêu chí đánh giá đã được Bộ Công Thương thẩm định; c) Lợi dụng hoạt động đánh giá, chứng nhận chính sách bảo vệ thông tin cá nhân để thực hiện các hành vi nhằm thu lợi bất chính; d) Không triển khai dịch vụ sau 180 (một trăm tám mươi) ngày kể từ ngày được cấp phép. 4. Nghĩa vụ của thương nhân, tổ chức đánh giá và chứng nhận chính sách bảo vệ thông tin cá nhân trong thương mại điện tử: a) Giám sát sự tuân thủ của các thương nhân, tổ chức đã được chứng nhận về chính sách bảo vệ thông tin cá nhân; b) Phối hợp chặt chẽ với cơ quan quản lý nhà nước trong việc thanh tra, kiểm tra và xử lý các thương nhân, tổ chức đã được chứng nhận về chính sách bảo vệ thông tin cá nhân nhưng có dấu hiệu vi phạm pháp luật; c) Trước ngày 15 tháng 01 hàng năm, báo cáo Bộ Công Thương về kết quả đánh giá và chứng nhận chính sách bảo vệ thông tin cá nhân trong thương mại điện tử của năm trước đó. 5. Bộ Công Thương quy định cụ thể về tiêu chí, quy trình đánh giá và chứng nhận chính sách bảo vệ thông tin cá nhân, trình tự, thủ tục cấp, sửa đổi bổ sung, thu hồi giấy phép hoạt động cho các tổ chức này. 6. Công nhận tổ chức đánh giá và chứng nhận chính sách bảo vệ thông tin cá nhân nước ngoài: a) Chứng nhận về chính sách bảo vệ thông tin cá nhân trong thương mại điện tử do tổ chức đánh giá và chứng nhận chính sách bảo vệ thông tin cá nhân nước ngoài cấp được công nhận khi tổ chức đó được Bộ Công Thương cấp giấy công nhận; b) Tổ chức đánh giá và chứng nhận chính sách bảo vệ thông tin cá nhân nước ngoài được cấp giấy công nhận khi đáp ứng các điều kiện sau: - Tổ chức đó được cơ quan có thẩm quyền của nước mình cấp phép hoặc chứng nhận đủ điều kiện hoạt động trong lĩnh vực này;\n",
      "\n",
      "CÔNG BÁO Số 289 + 290 Ngày 29-05-2013 3 PHẦN VĂN BẢN QUY PHẠM PHÁP LUẬT CHÍNH PHỦ CHÍNH PHỦ Số: 52 2013 NĐ-CP CỘNG HÒA XÃ HỘI CHỦ NGHĨA VIỆT NAM Độc lập - Tự do - Hạnh phúc Hà Nội, ngày 16 tháng 5 năm 2013 NGHỊ ĐỊNH Về thương mại điện tử Căn cứ Luật Tổ chức Chính phủ ngày 25 tháng 12 năm 2001; Căn cứ Bộ Luật Dân sự ngày 14 tháng 6 năm 2005; Căn cứ Luật Thương mại ngày 14 tháng 6 năm 2005; Căn cứ Luật Giao dịch điện tử ngày 29 tháng 11 năm 2005; Căn cứ Luật Công nghệ thông tin ngày 29 tháng 6 năm 2006; Căn cứ Luật Cạnh tranh ngày 03 tháng 12 năm 2004; Căn cứ Luật Bảo vệ quyền lợi người tiêu dùng ngày 17 tháng 11 năm 2010; Theo đề nghị của Bộ trưởng Bộ Công Thương, Chính phủ ban hành Nghị định về thương mại điện tử. Chương I NHỮNG QUY ĐỊNH CHUNG Điều 1. Phạm vi điều chỉnh Nghị định này quy định về việc phát triển, ứng dụng và quản lý hoạt động thương mại điện tử. Điều 2. Đối tượng áp dụng 1. Nghị định này áp dụng đối với các thương nhân, tổ chức, cá nhân tham gia hoạt động thương mại điện tử trên lãnh thổ Việt Nam, bao gồm: a) Thương nhân, tổ chức, cá nhân Việt Nam; b) Cá nhân nước ngoài cư trú tại Việt Nam; c) Thương nhân, tổ chức nước ngoài có sự hiện diện tại Việt Nam thông qua hoạt động đầu tư, lập chi nhánh, văn phòng đại diện, hoặc thiết lập website dưới tên miền Việt Nam. Ký bởi: Cổng Thông tin điện tử Chính phủ Email: thongtinchinhphu@chinhphu.vn Cơ quan: Văn phòng Chính phủ Thời gian ký: 10.02.2015 09:58:46 +07:00\n"
     ]
    }
   ],
   "source": [
    "retrieved_context = \"\\n\\n\".join([doc.page_content for doc in retrieved_docs])\n",
    "print(retrieved_context)"
   ]
  },
  {
   "cell_type": "code",
   "execution_count": 20,
   "metadata": {},
   "outputs": [],
   "source": [
    "final_prompt = prompt.format(retrieved_context=retrieved_context, query=query)"
   ]
  },
  {
   "cell_type": "code",
   "execution_count": 21,
   "metadata": {},
   "outputs": [
    {
     "name": "stdout",
     "output_type": "stream",
     "text": [
      "\n",
      "Trước tiên, hãy phân tích câu hỏi sau đây và xác định các yếu tố pháp lý cốt lõi cần xem xét:\n",
      "Câu hỏi: Theo luật trọng tài thương mại, trọng tài nước ngoài là gì?\n",
      "\n",
      "Sau đó, hãy đọc kỹ các thông tin pháp lý được trích xuất từ văn bản dưới đây:\n",
      "------------------------------------------------\n",
      "18 CÔNG BÁO Số 1251 + 1252 Ngày 29-12-2015 Tòa án đã ra quyết định tuyên bố một người mất tích hoặc là đã chết có thẩm quyền giải quyết yêu cầu hủy bỏ quyết định tuyên bố một người mất tích hoặc là đã chết; d) Tòa án nơi người phải thi hành bản án, quyết định dân sự, hôn nhân và gia đình, kinh doanh, thương mại, lao động của Tòa án nước ngoài cư trú, làm việc, nếu người phải thi hành án là cá nhân hoặc nơi người phải thi hành án có trụ sở, nếu người phải thi hành án là cơ quan, tổ chức hoặc nơi có tài sản liên quan đến việc thi hành bản án, quyết định của Tòa án nước ngoài có thẩm quyền giải quyết yêu cầu công nhận và cho thi hành tại Việt Nam hoặc không công nhận bản án, quyết định dân sự, hôn nhân và gia đình, kinh doanh, thương mại, lao động của Tòa án nước ngoài; đ) Tòa án nơi người gửi đơn cư trú, làm việc, nếu người gửi đơn là cá nhân hoặc nơi người gửi đơn có trụ sở, nếu người gửi đơn là cơ quan, tổ chức có thẩm quyền giải quyết yêu cầu không công nhận bản án, quyết định dân sự, hôn nhân và gia đình, kinh doanh, thương mại, lao động của Tòa án nước ngoài không có yêu cầu thi hành tại Việt Nam; e) Tòa án nơi người phải thi hành phán quyết của Trọng tài nước ngoài cư trú, làm việc, nếu người phải thi hành là cá nhân hoặc nơi người phải thi hành có trụ sở, nếu người phải thi hành là cơ quan, tổ chức hoặc nơi có tài sản liên quan đến việc thi hành phán quyết của Trọng tài nước ngoài có thẩm quyền giải quyết yêu cầu công nhận và cho thi hành tại Việt Nam phán quyết của Trọng tài nước ngoài; g) Tòa án nơi việc đăng ký kết hôn trái pháp luật được thực hiện có thẩm quyền giải quyết yêu cầu hủy việc kết hôn trái pháp luật; h) Tòa án nơi một trong các bên thuận tình ly hôn, thỏa thuận nuôi con, chia tài sản khi ly hôn cư trú, làm việc có thẩm quyền giải quyết yêu cầu công nhận thuận tình ly hôn, thỏa thuận nuôi con, chia tài sản khi ly hôn; i) Tòa án nơi một trong các bên thỏa thuận về thay đổi người trực tiếp nuôi con sau khi ly hôn cư trú, làm việc có thẩm quyền giải quyết yêu cầu công nhận sự thỏa thuận về thay đổi người trực tiếp nuôi con sau khi ly hôn. Trường hợp cơ quan, tổ chức, cá nhân yêu cầu thay đổi người trực tiếp nuôi con sau khi ly hôn thì Tòa án nơi người con đang cư trú có thẩm quyền giải quyết; k) Tòa án nơi cha hoặc mẹ của con chưa thành niên cư trú, làm việc có thẩm quyền giải quyết yêu cầu hạn chế quyền của cha, mẹ đối với con chưa thành niên hoặc quyền thăm nom con sau khi ly hôn; l) Tòa án nơi cha, mẹ nuôi hoặc con nuôi cư trú, làm việc có thẩm quyền giải quyết yêu cầu chấm dứt việc nuôi con nuôi;\n",
      "\n",
      "CÔNG BÁO Số 564 + 565 ngày 25-9-2010 65 QUỐC HỘI _______ Luật số: 54 2010 QH12 CỘNG HÒA XÃ HỘI CHỦ NGHĨA VIỆT NAM Độc lập - Tự do - Hạnh phúc ________________________ LUẬT Trọng tài thương mại Căn cứ Hiến pháp nước Cộng hòa xã hội chủ nghĩa Việt Nam năm 1992 đã được sửa đổi, bổ sung một số điều theo Nghị quyết số 51 2001 QH10; Quốc hội ban hành Luật Trọng tài thương mại. Chương I NHỮNG QUY ĐỊNH CHUNG Điều 1. Phạm vi điều chỉnh Luật này quy định về thẩm quyền của Trọng tài thương mại, các hình thức trọng tài, tổ chức trọng tài, Trọng tài viên; trình tự, thủ tục trọng tài; quyền, nghĩa vụ và trách nhiệm của các bên trong tố tụng trọng tài; thẩm quyền của Tòa án đối với hoạt động trọng tài; tổ chức và hoạt động của Trọng tài nước ngoài tại Việt Nam, thi hành phán quyết trọng tài. Điều 2. Thẩm quyền giải quyết các tranh chấp của Trọng tài 1. Tranh chấp giữa các bên phát sinh từ hoạt động thương mại. 2. Tranh chấp phát sinh giữa các bên trong đó ít nhất một bên có hoạt động thương mại. 3. Tranh chấp khác giữa các bên mà pháp luật quy định được giải quyết bằng Trọng tài. Điều 3. Giải thích từ ngữ Trong Luật này, các từ ngữ dưới đây được hiểu như sau: 1. Trọng tài thương mại là phương thức giải quyết tranh chấp do các bên thỏa thuận và được tiến hành theo quy định của Luật này. 2. Thỏa thuận trọng tài là thỏa thuận giữa các bên về việc giải quyết bằng Trọng tài tranh chấp có thể phát sinh hoặc đã phát sinh. 3. Các bên tranh chấp là cá nhân, cơ quan, tổ chức Việt Nam hoặc nước ngoài tham gia tố tụng trọng tài với tư cách nguyên đơn, bị đơn. Ký bởi: Cổng Thông tin điện tử Chính phủ Email: thongtinchinhphu@chinhphu.vn Cơ quan: Văn phòng Chính phủ Thời gian ký: 22.01.2015 08:48:25 +07:00\n",
      "\n",
      "12 CÔNG BÁO Số 1251 + 1252 Ngày 29-12-2015 7. Yêu cầu công nhận thỏa thuận chấm dứt hiệu lực của việc chia tài sản chung trong thời kỳ hôn nhân đã được thực hiện theo bản án, quyết định của Tòa án. 8. Yêu cầu tuyên bố vô hiệu thỏa thuận về chế độ tài sản của vợ chồng theo quy định của pháp luật hôn nhân và gia đình. 9. Yêu cầu công nhận và cho thi hành tại Việt Nam hoặc không công nhận bản án, quyết định về hôn nhân và gia đình của Tòa án nước ngoài hoặc cơ quan khác có thẩm quyền của nước ngoài hoặc không công nhận bản án, quyết định về hôn nhân và gia đình của Tòa án nước ngoài hoặc cơ quan khác có thẩm quyền của nước ngoài không có yêu cầu thi hành tại Việt Nam. 10. Yêu cầu xác định cha, mẹ cho con hoặc con cho cha, mẹ theo quy định của pháp luật về hôn nhân và gia đình. 11. Các yêu cầu khác về hôn nhân và gia đình, trừ trường hợp thuộc thẩm quyền giải quyết của cơ quan, tổ chức khác theo quy định của pháp luật. Điều 30. Những tranh chấp về kinh doanh, thương mại thuộc thẩm quyền giải quyết của Tòa án 1. Tranh chấp phát sinh trong hoạt động kinh doanh, thương mại giữa cá nhân, tổ chức có đăng ký kinh doanh với nhau và đều có mục đích lợi nhuận. 2. Tranh chấp về quyền sở hữu trí tuệ, chuyển giao công nghệ giữa cá nhân, tổ chức với nhau và đều có mục đích lợi nhuận. 3. Tranh chấp giữa người chưa phải là thành viên công ty nhưng có giao dịch về chuyển nhượng phần vốn góp với công ty, thành viên công ty. 4. Tranh chấp giữa công ty với các thành viên của công ty; tranh chấp giữa công ty với người quản lý trong công ty trách nhiệm hữu hạn hoặc thành viên Hội đồng quản trị, giám đốc, tổng giám đốc trong công ty cổ phần, giữa các thành viên của công ty với nhau liên quan đến việc thành lập, hoạt động, giải thể, sáp nhập, hợp nhất, chia, tách, bàn giao tài sản của công ty, chuyển đổi hình thức tổ chức của công ty. 5. Các tranh chấp khác về kinh doanh, thương mại, trừ trường hợp thuộc thẩm quyền giải quyết của cơ quan, tổ chức khác theo quy định của pháp luật. Điều 31. Những yêu cầu về kinh doanh, thương mại thuộc thẩm quyền giải quyết của Tòa án 1. Yêu cầu hủy bỏ nghị quyết của Đại hội đồng cổ đông, nghị quyết của Hội đồng thành viên theo quy định của pháp luật về doanh nghiệp. 2. Yêu cầu liên quan đến việc Trọng tài thương mại Việt Nam giải quyết tranh chấp theo quy định của pháp luật về Trọng tài thương mại.\n",
      "\n",
      "66 CÔNG BÁO Số 564 + 565 ngày 25-9-2010 4. Tranh chấp có yếu tố nước ngoài là tranh chấp phát sinh trong quan hệ thương mại, quan hệ pháp luật khác có yếu tố nước ngoài được quy định tại Bộ luật Dân sự. 5. Trọng tài viên là người được các bên lựa chọn hoặc được Trung tâm trọng tài hoặc Tòa án chỉ định để giải quyết tranh chấp theo quy định của Luật này. 6. Trọng tài quy chế là hình thức giải quyết tranh chấp tại một Trung tâm trọng tài theo quy định của Luật này và quy tắc tố tụng của Trung tâm trọng tài đó. 7. Trọng tài vụ việc là hình thức giải quyết tranh chấp theo quy định của Luật này và trình tự, thủ tục do các bên thỏa thuận. 8. Địa điểm giải quyết tranh chấp là nơi Hội đồng trọng tài tiến hành giải quyết tranh chấp theo sự thỏa thuận lựa chọn của các bên hoặc do Hội đồng trọng tài quyết định nếu các bên không có thỏa thuận. Nếu địa điểm giải quyết tranh chấp được tiến hành trên lãnh thổ Việt Nam thì phán quyết phải được coi là tuyên tại Việt Nam mà không phụ thuộc vào nơi Hội đồng trọng tài tiến hành phiên họp để ra phán quyết đó. 9. Quyết định trọng tài là quyết định của Hội đồng trọng tài trong quá trình giải quyết tranh chấp. 10. Phán quyết trọng tài là quyết định của Hội đồng trọng tài giải quyết toàn bộ nội dung vụ tranh chấp và chấm dứt tố tụng trọng tài. 11. Trọng tài nước ngoài là Trọng tài được thành lập theo quy định của pháp luật trọng tài nước ngoài do các bên thỏa thuận lựa chọn để tiến hành giải quyết tranh chấp ở ngoài lãnh thổ Việt Nam hoặc trong lãnh thổ Việt Nam. 12. Phán quyết của trọng tài nước ngoài là phán quyết do Trọng tài nước ngoài tuyên ở ngoài lãnh thổ Việt Nam hoặc ở trong lãnh thổ Việt Nam để giải quyết tranh chấp do các bên thỏa thuận lựa chọn. Điều 4. Nguyên tắc giải quyết tranh chấp bằng Trọng tài 1. Trọng tài viên phải tôn trọng thỏa thuận của các bên nếu thỏa thuận đó không vi phạm điều cấm và trái đạo đức xã hội. 2. Trọng tài viên phải độc lập, khách quan, vô tư và tuân theo quy định của pháp luật. 3. Các bên tranh chấp đều bình đẳng về quyền và nghĩa vụ. Hội đồng trọng tài có trách nhiệm tạo điều kiện để họ thực hiện các quyền và nghĩa vụ của mình. 4. Giải quyết tranh chấp bằng Trọng tài được tiến hành không công khai, trừ trường hợp các bên có thỏa thuận khác. 5. Phán quyết trọng tài là chung thẩm.\n",
      "\n",
      "CÔNG BÁO Số 564 + 565 ngày 25-9-2010 99 5. Có con dấu mang tên Chi nhánh theo quy định của pháp luật Việt Nam. 6. Chỉ định Trọng tài viên để thành lập Hội đồng trọng tài theo ủy quyền của tổ chức trọng tài nước ngoài. 7. Cung cấp dịch vụ trọng tài, hòa giải và các phương thức giải quyết tranh chấp thương mại khác theo quy định của pháp luật. 8. Cung cấp các dịch vụ hành chính, văn phòng và các dịch vụ khác cho việc giải quyết tranh chấp của Hội đồng trọng tài nước ngoài. 9. Thu phí trọng tài và các khoản thu hợp pháp khác. 10. Trả thù lao cho Trọng tài viên. 11. Tổ chức bồi dưỡng nâng cao trình độ và kỹ năng giải quyết tranh chấp cho Trọng tài viên. 12. Lưu trữ hồ sơ, cung cấp các bản sao quyết định trọng tài theo yêu cầu của các bên tranh chấp hoặc cơ quan nhà nước có thẩm quyền của Việt Nam. 13. Hoạt động theo đúng lĩnh vực ghi trong Giấy phép thành lập, Giấy đăng ký hoạt động. 14. Chấp hành quy định của pháp luật Việt Nam có liên quan đến hoạt động của Chi nhánh. 15. Báo cáo định kỳ hàng năm về hoạt động của Chi nhánh với Sở Tư pháp nơi Chi nhánh đăng ký hoạt động. Điều 77. Văn phòng đại diện 1. Văn phòng đại diện là đơn vị phụ thuộc của Tổ chức trọng tài nước ngoài được thành lập và tìm kiếm, thúc đẩy cơ hội hoạt động trọng tài tại Việt Nam theo quy định của Luật này. 2. Tổ chức trọng tài nước ngoài phải chịu trách nhiệm về hoạt động của Văn phòng đại diện trước pháp luật Việt Nam. Điều 78. Quyền và nghĩa vụ của Văn phòng đại diện của Tổ chức trọng tài nước ngoài tại Việt Nam 1. Tìm kiếm, thúc đẩy các cơ hội hoạt động trọng tài của tổ chức mình tại Việt Nam. 2. Thuê trụ sở, thuê, mua các phương tiện, vật dụng cần thiết cho hoạt động của Văn phòng đại diện.\n",
      "\n",
      "88 CÔNG BÁO Số 865 + 866 Ngày 30-7-2023 c) Kiểm tra hoạt động của tổ chức xã hội tham gia bảo vệ quyền lợi người tiêu dùng thuộc thẩm quyền quản lý tại địa phương; d) Quản lý theo thẩm quyền đối với các chợ, trung tâm thương mại trên địa bàn để bảo vệ quyền lợi người tiêu dùng khi người tiêu dùng mua, sử dụng sản phẩm, hàng hóa, dịch vụ tại các địa điểm này; đ) Hướng dẫn chuyên môn, nghiệp vụ để Ủy ban nhân dân cấp xã thực hiện các biện pháp cần thiết để bảo vệ quyền lợi người tiêu dùng khi người tiêu dùng mua, sử dụng sản phẩm, hàng hóa, dịch vụ của các cá nhân hoạt động thương mại ngoài phạm vi chợ, trung tâm thương mại; e) Báo cáo kết quả thực hiện quản lý nhà nước về bảo vệ quyền lợi người tiêu dùng trên địa bàn theo định kỳ hoặc theo yêu cầu của cơ quan nhà nước có thẩm quyền cấp trên; g) Ban hành quy chế phối hợp quản lý nhà nước về bảo vệ quyền lợi người tiêu dùng tại các cơ quan nhà nước cấp huyện. 3. Ủy ban nhân dân cấp xã có trách nhiệm sau đây: a) Thực hiện trách nhiệm quy định tại điểm b khoản 2 Điều này tại địa phương; b) Kiểm tra hoạt động của các ban quản lý chợ, thương nhân kinh doanh chợ trên địa bàn trong việc thực hiện nội dung bảo vệ quyền lợi người tiêu dùng trong nội quy của chợ theo quy định của pháp luật. Trong trường hợp không có Ban quản lý chợ, thương nhân kinh doanh chợ thì Ủy ban nhân dân cấp xã có trách nhiệm thực hiện các biện pháp để bảo vệ quyền lợi người tiêu dùng trong phạm vi chợ; c) Quản lý, kiểm tra hoạt động của các cá nhân hoạt động thương mại độc lập, thường xuyên, không phải đăng ký kinh doanh hoạt động tại địa phương ngoài phạm vi chợ, trung tâm thương mại để bảo vệ quyền lợi người tiêu dùng; d) Tiếp nhận thông báo của tổ chức hoạt động bán hàng không tại địa điểm giao dịch thường xuyên và kiểm tra, theo dõi hoạt động bán hàng không tại địa điểm giao dịch thường xuyên trên địa bàn theo quy định của Luật này; đ) Xử lý vi phạm về bảo vệ quyền lợi người tiêu dùng theo thẩm quyền và theo quy định của pháp luật; e) Tuyên truyền, khuyến khích để cá nhân hoạt động thương mại trong phạm vi chợ, trung tâm thương mại; tạo điều kiện để cá nhân hoạt động kinh doanh trong phạm vi chợ.\n",
      "\n",
      "CÔNG BÁO Số 1251 + 1252 Ngày 29-12-2015 13 3. Yêu cầu bắt giữ tàu bay, tàu biển theo quy định của pháp luật về hàng không dân dụng Việt Nam, về hàng hải Việt Nam, trừ trường hợp bắt giữ tàu bay, tàu biển để bảo đảm giải quyết vụ án. 4. Yêu cầu công nhận và cho thi hành tại Việt Nam hoặc không công nhận bản án, quyết định kinh doanh, thương mại của Tòa án nước ngoài hoặc không công nhận bản án, quyết định kinh doanh, thương mại của Tòa án nước ngoài không có yêu cầu thi hành tại Việt Nam. 5. Yêu cầu công nhận và cho thi hành tại Việt Nam phán quyết kinh doanh, thương mại của Trọng tài nước ngoài. 6. Các yêu cầu khác về kinh doanh, thương mại, trừ trường hợp thuộc thẩm quyền giải quyết của cơ quan, tổ chức khác theo quy định của pháp luật. Điều 32. Những tranh chấp về lao động thuộc thẩm quyền giải quyết của Tòa án 1. Tranh chấp lao động cá nhân giữa người lao động với người sử dụng lao động phải thông qua thủ tục hòa giải của hòa giải viên lao động mà hòa giải thành nhưng các bên không thực hiện hoặc thực hiện không đúng, hòa giải không thành hoặc không hòa giải trong thời hạn do pháp luật quy định, trừ các tranh chấp lao động sau đây không bắt buộc phải qua thủ tục hòa giải: a) Về xử lý kỷ luật lao động theo hình thức sa thải hoặc tranh chấp về trường hợp bị đơn phương chấm dứt hợp đồng lao động; b) Về bồi thường thiệt hại, trợ cấp khi chấm dứt hợp đồng lao động; c) Giữa người giúp việc gia đình với người sử dụng lao động; d) Về bảo hiểm xã hội theo quy định của pháp luật về bảo hiểm xã hội, về bảo hiểm y tế theo quy định của pháp luật về bảo hiểm y tế, về bảo hiểm thất nghiệp theo quy định của pháp luật về việc làm, về bảo hiểm tai nạn lao động, bệnh nghề nghiệp theo quy định của pháp luật về an toàn, vệ sinh lao động; đ) Về bồi thường thiệt hại giữa người lao động với doanh nghiệp, đơn vị sự nghiệp công lập đưa người lao động đi làm việc ở nước ngoài theo hợp đồng. 2. Tranh chấp lao động tập thể về quyền giữa tập thể lao động với người sử dụng lao động theo quy định của pháp luật về lao động đã được Chủ tịch Ủy ban nhân dân cấp huyện giải quyết mà tập thể lao động hoặc người sử dụng lao động không đồng ý với quyết định đó hoặc quá thời hạn mà Chủ tịch Ủy ban nhân dân cấp huyện không giải quyết. 3. Tranh chấp liên quan đến lao động bao gồm: a) Tranh chấp về học nghề, tập nghề;\n",
      "\n",
      "CÔNG BÁO Số 1251 + 1252 Ngày 29-12-2015 15 Mục 2 THẨM QUYỀN CỦA TÒA ÁN CÁC CẤP Điều 35. Thẩm quyền của Tòa án nhân dân cấp huyện 1. Tòa án nhân dân cấp huyện có thẩm quyền giải quyết theo thủ tục sơ thẩm những tranh chấp sau đây: a) Tranh chấp về dân sự, hôn nhân và gia đình quy định tại Điều 26 và Điều 28 của Bộ luật này, trừ tranh chấp quy định tại khoản 7 Điều 26 của Bộ luật này; b) Tranh chấp về kinh doanh, thương mại quy định tại khoản 1 Điều 30 của Bộ luật này; c) Tranh chấp về lao động quy định tại Điều 32 của Bộ luật này. 2. Tòa án nhân dân cấp huyện có thẩm quyền giải quyết những yêu cầu sau đây: a) Yêu cầu về dân sự quy định tại các khoản 1, 2, 3, 4, 6, 7, 8, 9 và 10 Điều 27 của Bộ luật này; b) Yêu cầu về hôn nhân và gia đình quy định tại các khoản 1, 2, 3, 4, 5, 6, 7, 8, 10 và 11 Điều 29 của Bộ luật này; c) Yêu cầu về kinh doanh, thương mại quy định tại khoản 1 và khoản 6 Điều 31 của Bộ luật này; d) Yêu cầu về lao động quy định tại khoản 1 và khoản 5 Điều 33 của Bộ luật này. 3. Những tranh chấp, yêu cầu quy định tại khoản 1 và khoản 2 Điều này mà có đương sự hoặc tài sản ở nước ngoài hoặc cần phải ủy thác tư pháp cho cơ quan đại diện nước Cộng hòa xã hội chủ nghĩa Việt Nam ở nước ngoài, cho Tòa án, cơ quan có thẩm quyền của nước ngoài không thuộc thẩm quyền giải quyết của Tòa án nhân dân cấp huyện, trừ trường hợp quy định tại khoản 4 Điều này. 4. Tòa án nhân dân cấp huyện nơi cư trú của công dân Việt Nam hủy việc kết hôn trái pháp luật, giải quyết việc ly hôn, các tranh chấp về quyền và nghĩa vụ của vợ chồng, cha mẹ và con, về nhận cha, mẹ, con, nuôi con nuôi và giám hộ giữa công dân Việt Nam cư trú ở khu vực biên giới với công dân của nước láng giềng cùng cư trú ở khu vực biên giới với Việt Nam theo quy định của Bộ luật này và các quy định khác của pháp luật Việt Nam. Điều 36. Thẩm quyền của các Tòa chuyên trách Tòa án nhân dân cấp huyện 1. Tòa dân sự Tòa án nhân dân cấp huyện có thẩm quyền giải quyết theo thủ tục sơ thẩm những vụ việc về dân sự, kinh doanh, thương mại, lao động thuộc thẩm quyền của Tòa án nhân dân cấp huyện quy định tại Điều 35 của Bộ luật này. 2. Tòa gia đình và người chưa thành niên Tòa án nhân dân cấp huyện có thẩm quyền giải quyết theo thủ tục sơ thẩm những vụ việc về hôn nhân và gia đình thuộc thẩm quyền của Tòa án nhân dân cấp huyện quy định tại Điều 35 của Bộ luật này.\n",
      "\n",
      "CÔNG BÁO Số 289 + 290 Ngày 29-05-2013 31 đ) Có tiêu chí và quy trình đánh giá chính sách bảo vệ thông tin cá nhân tuân thủ các quy định của Bộ Công Thương. 2. Giấy phép hoạt động đánh giá và chứng nhận chính sách bảo vệ thông tin cá nhân trong thương mại điện tử có thời hạn theo đề nghị cấp phép. 3. Thương nhân, tổ chức bị thu hồi giấy phép hoạt động đánh giá và chứng nhận chính sách bảo vệ thông tin cá nhân trong những trường hợp sau: a) Có hành vi gian dối hoặc cung cấp thông tin giả mạo để được cấp giấy phép; b) Vi phạm quy trình và tiêu chí đánh giá đã được Bộ Công Thương thẩm định; c) Lợi dụng hoạt động đánh giá, chứng nhận chính sách bảo vệ thông tin cá nhân để thực hiện các hành vi nhằm thu lợi bất chính; d) Không triển khai dịch vụ sau 180 (một trăm tám mươi) ngày kể từ ngày được cấp phép. 4. Nghĩa vụ của thương nhân, tổ chức đánh giá và chứng nhận chính sách bảo vệ thông tin cá nhân trong thương mại điện tử: a) Giám sát sự tuân thủ của các thương nhân, tổ chức đã được chứng nhận về chính sách bảo vệ thông tin cá nhân; b) Phối hợp chặt chẽ với cơ quan quản lý nhà nước trong việc thanh tra, kiểm tra và xử lý các thương nhân, tổ chức đã được chứng nhận về chính sách bảo vệ thông tin cá nhân nhưng có dấu hiệu vi phạm pháp luật; c) Trước ngày 15 tháng 01 hàng năm, báo cáo Bộ Công Thương về kết quả đánh giá và chứng nhận chính sách bảo vệ thông tin cá nhân trong thương mại điện tử của năm trước đó. 5. Bộ Công Thương quy định cụ thể về tiêu chí, quy trình đánh giá và chứng nhận chính sách bảo vệ thông tin cá nhân, trình tự, thủ tục cấp, sửa đổi bổ sung, thu hồi giấy phép hoạt động cho các tổ chức này. 6. Công nhận tổ chức đánh giá và chứng nhận chính sách bảo vệ thông tin cá nhân nước ngoài: a) Chứng nhận về chính sách bảo vệ thông tin cá nhân trong thương mại điện tử do tổ chức đánh giá và chứng nhận chính sách bảo vệ thông tin cá nhân nước ngoài cấp được công nhận khi tổ chức đó được Bộ Công Thương cấp giấy công nhận; b) Tổ chức đánh giá và chứng nhận chính sách bảo vệ thông tin cá nhân nước ngoài được cấp giấy công nhận khi đáp ứng các điều kiện sau: - Tổ chức đó được cơ quan có thẩm quyền của nước mình cấp phép hoặc chứng nhận đủ điều kiện hoạt động trong lĩnh vực này;\n",
      "\n",
      "CÔNG BÁO Số 289 + 290 Ngày 29-05-2013 3 PHẦN VĂN BẢN QUY PHẠM PHÁP LUẬT CHÍNH PHỦ CHÍNH PHỦ Số: 52 2013 NĐ-CP CỘNG HÒA XÃ HỘI CHỦ NGHĨA VIỆT NAM Độc lập - Tự do - Hạnh phúc Hà Nội, ngày 16 tháng 5 năm 2013 NGHỊ ĐỊNH Về thương mại điện tử Căn cứ Luật Tổ chức Chính phủ ngày 25 tháng 12 năm 2001; Căn cứ Bộ Luật Dân sự ngày 14 tháng 6 năm 2005; Căn cứ Luật Thương mại ngày 14 tháng 6 năm 2005; Căn cứ Luật Giao dịch điện tử ngày 29 tháng 11 năm 2005; Căn cứ Luật Công nghệ thông tin ngày 29 tháng 6 năm 2006; Căn cứ Luật Cạnh tranh ngày 03 tháng 12 năm 2004; Căn cứ Luật Bảo vệ quyền lợi người tiêu dùng ngày 17 tháng 11 năm 2010; Theo đề nghị của Bộ trưởng Bộ Công Thương, Chính phủ ban hành Nghị định về thương mại điện tử. Chương I NHỮNG QUY ĐỊNH CHUNG Điều 1. Phạm vi điều chỉnh Nghị định này quy định về việc phát triển, ứng dụng và quản lý hoạt động thương mại điện tử. Điều 2. Đối tượng áp dụng 1. Nghị định này áp dụng đối với các thương nhân, tổ chức, cá nhân tham gia hoạt động thương mại điện tử trên lãnh thổ Việt Nam, bao gồm: a) Thương nhân, tổ chức, cá nhân Việt Nam; b) Cá nhân nước ngoài cư trú tại Việt Nam; c) Thương nhân, tổ chức nước ngoài có sự hiện diện tại Việt Nam thông qua hoạt động đầu tư, lập chi nhánh, văn phòng đại diện, hoặc thiết lập website dưới tên miền Việt Nam. Ký bởi: Cổng Thông tin điện tử Chính phủ Email: thongtinchinhphu@chinhphu.vn Cơ quan: Văn phòng Chính phủ Thời gian ký: 10.02.2015 09:58:46 +07:00\n",
      "------------------------------------------------\n",
      "\n",
      "Dựa trên phân tích câu hỏi và các thông tin pháp lý trên, bạn là một chuyên gia (expert) có nhiều năm kinh nghiệm giảng dạy và tư vấn về Luật Thương Mại Điện Tử của Việt Nam. Nhiệm vụ của bạn là:\n",
      "1. Phân tích cẩn thận câu hỏi dựa trên văn bản pháp lý, các điều khoản cụ thể và dẫn chứng hiện hành.\n",
      "2. Xác định các yếu tố pháp lý quan trọng và trình bày các quy định liên quan, bao gồm trích dẫn chính xác từ bộ luật (ví dụ: \"Điều X, khoản Y: ...\") mà không được thay đổi nội dung gốc.\n",
      "3. Nếu có nhiều quan điểm hoặc cách giải quyết khác nhau, hãy liệt kê và so sánh ưu, nhược điểm của từng phương án.\n",
      "4. Đưa ra ví dụ minh họa cụ thể giúp làm rõ vấn đề.\n",
      "5. Tổng hợp và tóm tắt các thông tin, sau đó trả lời câu hỏi một cách rõ ràng, logic và chi tiết.\n",
      "\n",
      "Câu trả lời của bạn phải bao gồm các trích dẫn chính xác từ bộ luật và phải được trình bày theo cấu trúc rõ ràng, có tiêu đề phụ và giải thích chi tiết.\n",
      "\n",
      "Trả lời:\n",
      "\n"
     ]
    }
   ],
   "source": [
    "print(final_prompt)"
   ]
  },
  {
   "cell_type": "code",
   "execution_count": 22,
   "metadata": {},
   "outputs": [
    {
     "name": "stderr",
     "output_type": "stream",
     "text": [
      "C:\\Users\\ADMIN\\AppData\\Local\\Temp\\ipykernel_9140\\3337770362.py:1: LangChainDeprecationWarning: The method `BaseChatModel.__call__` was deprecated in langchain-core 0.1.7 and will be removed in 1.0. Use :meth:`~invoke` instead.\n",
      "  response = llm(final_prompt)\n"
     ]
    },
    {
     "name": "stdout",
     "output_type": "stream",
     "text": [
      "**Trọng tài nước ngoài theo Luật Trọng tài thương mại**\n",
      "\n",
      "Câu hỏi: Theo luật trọng tài thương mại, trọng tài nước ngoài là gì?\n",
      "\n",
      "**Giải thích**\n",
      "\n",
      "Theo Điều 3, khoản 11 của Luật Trọng tài thương mại, \"Trọng tài nước ngoài là Trọng tài được thành lập theo quy định của pháp luật trọng tài nước ngoài do các bên thỏa thuận lựa chọn để tiến hành giải quyết tranh chấp ở ngoài lãnh thổ Việt Nam hoặc trong lãnh thổ Việt Nam.\"\n",
      "\n",
      "**Phân tích**\n",
      "\n",
      "Trọng tài nước ngoài là một hình thức trọng tài được thành lập theo quy định của pháp luật trọng tài nước ngoài, được các bên thỏa thuận lựa chọn để giải quyết tranh chấp. Điều này có nghĩa là trọng tài nước ngoài có thể được thành lập ở ngoài lãnh thổ Việt Nam hoặc trong lãnh thổ Việt Nam, nhưng phải tuân thủ quy định của pháp luật trọng tài nước ngoài.\n",
      "\n",
      "**Ví dụ minh họa**\n",
      "\n",
      "Ví dụ, hai công ty A và B có trụ sở tại Việt Nam và Nhật Bản, và họ có một tranh chấp về hợp đồng thương mại. Họ thỏa thuận lựa chọn trọng tài nước ngoài tại Nhật Bản để giải quyết tranh chấp. Trong trường hợp này, trọng tài nước ngoài tại Nhật Bản sẽ được thành lập theo quy định của pháp luật trọng tài Nhật Bản và sẽ giải quyết tranh chấp giữa hai công ty.\n",
      "\n",
      "**Kết luận**\n",
      "\n",
      "Trọng tài nước ngoài là một hình thức trọng tài được thành lập theo quy định của pháp luật trọng tài nước ngoài, được các bên thỏa thuận lựa chọn để giải quyết tranh chấp. Điều này cho phép các bên lựa chọn trọng tài nước ngoài để giải quyết tranh chấp, đặc biệt là trong trường hợp có yếu tố nước ngoài.\n"
     ]
    }
   ],
   "source": [
    "response = llm(final_prompt)\n",
    "print(response.content)"
   ]
  },
  {
   "cell_type": "markdown",
   "metadata": {},
   "source": [
    "### Test 2"
   ]
  },
  {
   "cell_type": "code",
   "execution_count": 28,
   "metadata": {},
   "outputs": [],
   "source": [
    "\n",
    "# --- Thực hiện retrieval ---\n",
    "query = \"Theo luật trọng tài thương mại, Quyết định trọng tài?\"\n",
    "retrieved_docs = hybrid_retriever.invoke(query)\n",
    "retrieved_context = \"\\n\\n\".join([doc.page_content for doc in retrieved_docs])"
   ]
  },
  {
   "cell_type": "code",
   "execution_count": 29,
   "metadata": {},
   "outputs": [],
   "source": [
    "final_prompt = prompt.format(retrieved_context=retrieved_context, query=query)"
   ]
  },
  {
   "cell_type": "code",
   "execution_count": 30,
   "metadata": {},
   "outputs": [
    {
     "name": "stdout",
     "output_type": "stream",
     "text": [
      "22 CÔNG BÁO Số 289 + 290 Ngày 29-05-2013 4. Thực hiện các quy định tại Mục 2 Chương II Nghị định này nếu website có chức năng đặt hàng trực tuyến cho các phiếu mua hàng, phiếu sử dụng dịch vụ hoặc thẻ khách hàng thường xuyên. 5. Thực hiện các quy định tại Mục 2 Chương V Nghị định này nếu website có chức năng thanh toán trực tuyến. 6. Công bố đầy đủ các nội dung quy định tại Điều 40 Nghị định này trong từng thông tin khuyến mại đăng tải trên website của mình. 7. Xây dựng và công bố trên website quy chế hoạt động tuân thủ các quy định tại Điều 38 Nghị định này. 8. Xây dựng và công bố trên website cơ chế tiếp nhận, giải quyết các khiếu nại của khách hàng về chất lượng hàng hóa, dịch vụ được khuyến mại hoặc hàng hóa, dịch vụ dùng để khuyến mại. 9. Chịu trách nhiệm của bên thứ ba trong việc cung cấp thông tin về hàng hóa, dịch vụ cho người tiêu dùng theo quy định của Luật Bảo vệ quyền lợi người tiêu dùng. 10. Bồi thường cho khách hàng nếu phiếu mua hàng, phiếu sử dụng dịch vụ hoặc thẻ khách hàng thường xuyên do mình phát hành bị đối tác từ chối trái với các điều kiện đã công bố trên website hoặc trên chính phiếu mua hàng, phiếu sử dụng dịch vụ, thẻ khách hàng thường xuyên đó. Điều 42. Trách nhiệm của thương nhân, tổ chức, cá nhân có hàng hóa, dịch vụ được khuyến mại 1. Cung cấp thông tin chính xác, đầy đủ về hàng hóa, dịch vụ được khuyến mại. 2. Thực hiện đúng các cam kết về chất lượng hàng hóa, dịch vụ được khuyến mại theo như thông tin đã cung cấp. Điều 43. Hợp đồng dịch vụ khuyến mại 1. Hợp đồng dịch vụ khuyến mại giữa thương nhân, tổ chức cung cấp dịch vụ khuyến mại trực tuyến với thương nhân, tổ chức, cá nhân có hàng hóa, dịch vụ được khuyến mại thực hiện theo quy định tại Điều 90 Luật Thương mại và phải có các nội dung sau: a) Phân định trách nhiệm giữa các bên trong việc thực hiện các trình tự, thủ tục để thực hiện hoạt động khuyến mại theo quy định của pháp luật về khuyến mại; b) Quy định cụ thể nghĩa vụ giải quyết khiếu nại và bồi thường cho khách hàng trong trường hợp hàng hóa, dịch vụ được khuyến mại hoặc hàng hóa, dịch vụ dùng để khuyến mại không phù hợp với nội dung đã thông báo hay cam kết. 2. Thương nhân, tổ chức cung cấp dịch vụ khuyến mại trực tuyến sẽ chịu trách nhiệm thực hiện các nghĩa vụ nêu tại Điểm a và b Khoản 1 Điều này nếu hợp đồng dịch vụ khuyến mại không quy định cụ thể những nội dung nêu trên.\n",
      "\n",
      "14 CÔNG BÁO Số 289 + 290 Ngày 29-05-2013 chức, cá nhân khác tiến hành hoạt động thương mại. Website cung cấp dịch vụ thương mại điện tử bao gồm các loại sau: a) Sàn giao dịch thương mại điện tử; b) Website đấu giá trực tuyến; c) Website khuyến mại trực tuyến; d) Các loại website khác do Bộ Công Thương quy định. 3. Với các ứng dụng cài đặt trên thiết bị điện tử có nối mạng cho phép người dùng truy cập vào cơ sở dữ liệu của thương nhân, tổ chức, cá nhân khác để mua bán hàng hóa, cung ứng hoặc sử dụng dịch vụ, tùy theo tính năng của ứng dụng đó mà thương nhân, tổ chức phải tuân thủ các quy định về website thương mại điện tử bán hàng hoặc website cung cấp dịch vụ thương mại điện tử tại Nghị định này. 4. Bộ Công Thương quy định cụ thể về các hoạt động thương mại điện tử tiến hành trên mạng viễn thông di động. Điều 26. Các nguyên tắc hoạt động thương mại điện tử 1. Nguyên tắc tự do, tự nguyện thỏa thuận trong giao dịch thương mại điện tử Các chủ thể tham gia hoạt động thương mại điện tử có quyền tự do thỏa thuận không trái với quy định của pháp luật để xác lập quyền và nghĩa vụ của từng bên trong giao dịch. Thỏa thuận này là căn cứ để giải quyết các tranh chấp phát sinh trong quá trình giao dịch. 2. Nguyên tắc xác định phạm vi hoạt động kinh doanh trong thương mại điện tử Nếu thương nhân, tổ chức, cá nhân tiến hành hoạt động bán hàng hóa, cung ứng dịch vụ và xúc tiến thương mại trên website thương mại điện tử không nêu cụ thể giới hạn địa lý của những hoạt động này, thì các hoạt động kinh doanh đó được coi là tiến hành trên phạm vi cả nước. 3. Nguyên tắc xác định nghĩa vụ về bảo vệ quyền lợi người tiêu dùng trong hoạt động thương mại điện tử a) Người sở hữu website thương mại điện tử bán hàng và người bán trên website cung cấp dịch vụ thương mại điện tử phải tuân thủ các quy định của Luật Bảo vệ quyền lợi người tiêu dùng khi cung cấp hàng hóa, dịch vụ cho khách hàng; b) Khách hàng trên website cung cấp dịch vụ thương mại điện tử là người tiêu dùng dịch vụ thương mại điện tử và là người tiêu dùng hàng hóa, dịch vụ do người bán trên website này cung cấp; c) Trường hợp người bán trực tiếp đăng thông tin về hàng hóa, dịch vụ của mình trên website thương mại điện tử thì thương nhân, tổ chức cung cấp dịch vụ thương mại điện tử và thương nhân, tổ chức cung cấp hạ tầng không phải là bên thứ ba cung cấp thông tin theo quy định của Luật Bảo vệ quyền lợi người tiêu dùng.\n",
      "\n",
      "30 CÔNG BÁO Số 289 + 290 Ngày 29-05-2013 d) Đã đăng ký hoạt động đánh giá tín nhiệm website thương mại điện tử với Bộ Công Thương và được xác nhận đăng ký. 2. Thương nhân, tổ chức đánh giá tín nhiệm website thương mại điện tử bị hủy bỏ đăng ký trong những trường hợp sau: a) Có hành vi gian dối hoặc cung cấp thông tin giả mạo khi tiến hành đăng ký; b) Không thực hiện đúng quy trình và tiêu chí đánh giá tín nhiệm đã công bố công khai; c) Lợi dụng hoạt động đánh giá tín nhiệm để thực hiện các hành vi nhằm thu lợi bất chính. 3. Bộ Công Thương quy định cụ thể về hoạt động đánh giá tín nhiệm website thương mại điện tử, nội dung hồ sơ, trình tự, thủ tục đăng ký, sửa đổi bổ sung, hủy bỏ, chấm dứt đăng ký cho các thương nhân, tổ chức tiến hành hoạt động này. 4. Nghĩa vụ của thương nhân, tổ chức đánh giá tín nhiệm website thương mại điện tử: a) Giám sát hoạt động của các website thương mại điện tử đã được gắn biểu tượng tín nhiệm; b) Phối hợp chặt chẽ với cơ quan quản lý nhà nước trong việc thanh tra, kiểm tra và xử lý các website thương mại điện tử đã được gắn biểu tượng tín nhiệm nhưng có dấu hiệu vi phạm pháp luật; c) Trước ngày 05 hàng tháng, báo cáo Bộ Công Thương danh sách cập nhật các website thương mại điện tử đã được gắn biểu tượng tín nhiệm tính đến cuối tháng trước đó; d) Trước ngày 15 tháng 01 hàng năm, báo cáo Bộ Công Thương về hoạt động đánh giá tín nhiệm website thương mại điện tử của năm trước đó. Điều 62. Hoạt động đánh giá và chứng nhận chính sách bảo vệ thông tin cá nhân trong thương mại điện tử 1. Điều kiện cấp phép cho thương nhân, tổ chức tiến hành hoạt động đánh giá và chứng nhận chính sách bảo vệ thông tin cá nhân trong thương mại điện tử: a) Là thương nhân, tổ chức được thành lập theo pháp luật Việt Nam; b) Có đăng ký kinh doanh hoặc quyết định thành lập trong đó nêu rõ lĩnh vực hoạt động là đánh giá và chứng nhận chính sách bảo vệ thông tin cá nhân trong thương mại điện tử; c) Độc lập về mặt tổ chức và tài chính với các thương nhân, tổ chức, cá nhân được đánh giá và chứng nhận về chính sách bảo vệ thông tin cá nhân; d) Có đề án hoạt động chi tiết được Bộ Công Thương thẩm định;\n",
      "\n",
      "CÔNG BÁO Số 289 + 290 Ngày 29-05-2013 19 7. Áp dụng các biện pháp cần thiết để đảm bảo an toàn thông tin liên quan đến bí mật kinh doanh của thương nhân, tổ chức, cá nhân và thông tin cá nhân của người tiêu dùng. 8. Có biện pháp xử lý kịp thời khi phát hiện hoặc nhận được phản ánh về hành vi kinh doanh vi phạm pháp luật trên sàn giao dịch thương mại điện tử. 9. Hỗ trợ cơ quan quản lý nhà nước điều tra các hành vi kinh doanh vi phạm pháp luật, cung cấp thông tin đăng ký, lịch sử giao dịch và các tài liệu khác về đối tượng có hành vi vi phạm pháp luật trên sàn giao dịch thương mại điện tử. 10. Công bố công khai cơ chế giải quyết các tranh chấp phát sinh trong quá trình giao dịch trên sàn giao dịch thương mại điện tử. Khi khách hàng trên sàn giao dịch thương mại điện tử phát sinh mâu thuẫn với người bán hoặc bị tổn hại lợi ích hợp pháp, phải cung cấp cho khách hàng thông tin về người bán, tích cực hỗ trợ khách hàng bảo vệ quyền và lợi ích hợp pháp của mình. Điều 37. Trách nhiệm của người bán trên sàn giao dịch thương mại điện tử 1. Cung cấp đầy đủ và chính xác các thông tin quy định tại Điều 29 Nghị định này cho thương nhân, tổ chức cung cấp dịch vụ sàn giao dịch thương mại điện tử khi đăng ký sử dụng dịch vụ. 2. Cung cấp đầy đủ thông tin về hàng hóa, dịch vụ theo quy định từ Điều 30 đến Điều 34 Nghị định này khi bán hàng hóa hoặc cung ứng dịch vụ trên sàn giao dịch thương mại điện tử. 3. Đảm bảo tính chính xác, trung thực của thông tin về hàng hóa, dịch vụ cung cấp trên sàn giao dịch thương mại điện tử. 4. Thực hiện các quy định tại Mục 2 Chương II Nghị định này khi ứng dụng chức năng đặt hàng trực tuyến trên sàn giao dịch thương mại điện tử. 5. Cung cấp thông tin về tình hình kinh doanh của mình khi có yêu cầu của cơ quan nhà nước có thẩm quyền để phục vụ hoạt động thống kê thương mại điện tử. 6. Tuân thủ quy định của pháp luật về thanh toán, quảng cáo, khuyến mại, bảo vệ quyền sở hữu trí tuệ, bảo vệ quyền lợi người tiêu dùng và các quy định của pháp luật có liên quan khác khi bán hàng hóa hoặc cung ứng dịch vụ trên sàn giao dịch thương mại điện tử. 7. Thực hiện đầy đủ nghĩa vụ thuế theo quy định của pháp luật. Điều 38. Quy chế hoạt động của sàn giao dịch thương mại điện tử 1. Quy chế hoạt động của sàn giao dịch thương mại điện tử phải được thể hiện trên trang chủ của website. 2. Quy chế hoạt động sàn giao dịch thương mại điện tử phải bao gồm các nội dung sau:\n",
      "\n",
      "CÔNG BÁO Số 289 + 290 Ngày 29-05-2013 33 Mục 4 CỔNG THÔNG TIN QUẢN LÝ HOẠT ĐỘNG THƯƠNG MẠI ĐIỆN TỬ Điều 64. Chức năng của Cổng thông tin Quản lý hoạt động thương mại điện tử 1. Bộ Công Thương có trách nhiệm xây dựng, cập nhật và duy trì Cổng thông tin Quản lý hoạt động thương mại điện tử. 2. Cổng thông tin Quản lý hoạt động thương mại điện tử có các chức năng sau: a) Cung cấp dịch vụ công trực tuyến đối với thủ tục thông báo thiết lập website thương mại điện tử bán hàng quy định tại Mục 1 Chương này. b) Cung cấp dịch vụ công trực tuyến đối với thủ tục đăng ký website cung cấp dịch vụ thương mại điện tử quy định tại Mục 2 Chương này. c) Cung cấp thông tin hướng dẫn về quy trình và biểu mẫu thủ tục đăng ký, thủ tục xin cấp phép dịch vụ giám sát, đánh giá và chứng nhận trong thương mại điện tử theo quy định tại Mục 3 Chương này. d) Công bố công khai các thông tin quy định tại Điều 65, 66 và 67 Nghị định này. Điều 65. Danh sách các website thương mại điện tử đã thực hiện thủ tục thông báo và đăng ký 1. Bộ Công Thương công bố công khai trên Cổng thông tin Quản lý hoạt động thương mại điện tử các danh sách sau: a) Danh sách các website thương mại điện tử bán hàng đã thông báo theo quy định tại Mục 1 Chương này; b) Danh sách các website cung cấp dịch vụ thương mại điện tử đã đăng ký theo quy định tại Mục 2 Chương này. 2. Danh sách công bố quy định tại Khoản 1 Điều này bao gồm các thông tin sau: a) Tên website thương mại điện tử và loại hình website theo thông báo hoặc đăng ký với Bộ Công Thương; b) Tên và thông tin liên hệ của thương nhân, tổ chức, cá nhân sở hữu website thương mại điện tử; c) Số đăng ký kinh doanh của thương nhân, số quyết định thành lập của tổ chức hoặc mã số thuế cá nhân của cá nhân sở hữu website thương mại điện tử. Điều 66. Danh sách các thương nhân, tổ chức đánh giá tín nhiệm website thương mại điện tử 1. Bộ Công Thương công bố công khai trên Cổng thông tin Quản lý hoạt động thương mại điện tử danh sách các thương nhân, tổ chức cung cấp dịch vụ đánh giá tín nhiệm website thương mại điện tử đã đăng ký theo quy định tại Mục 3 Chương này.\n",
      "\n",
      "26 CÔNG BÁO Số 289 + 290 Ngày 29-05-2013 4. Thông báo kết quả đấu giá sẽ được gửi về địa chỉ điện tử đã đăng ký với thương nhân, tổ chức cung cấp dịch vụ đấu giá trực tuyến của người bán và người mua hàng. 5. Trường hợp có nhiều người đồng thời trả mức giá cuối cùng đối với phương thức trả giá lên hoặc mức giá đầu tiên đối với phương thức đặt giá xuống, hệ thống phải gửi thông báo đến tất cả những người này và yêu cầu họ thực hiện rút thăm để quyết định người mua. Hình thức tổ chức rút thăm do người bán quyết định. Chương IV QUẢN LÝ HOẠT ĐỘNG THƯƠNG MẠI ĐIỆN TỬ Mục 1 QUẢN LÝ WEBSITE THƯƠNG MẠI ĐIỆN TỬ BÁN HÀNG Điều 52. Điều kiện thiết lập website thương mại điện tử bán hàng Các thương nhân, tổ chức, cá nhân được thiết lập website thương mại điện tử bán hàng nếu đáp ứng các điều kiện sau: 1. Là thương nhân, tổ chức có chức năng, nhiệm vụ phù hợp hoặc cá nhân đã được cấp mã số thuế cá nhân. 2. Có website với tên miền hợp lệ và tuân thủ các quy định về quản lý thông tin trên Internet. 3. Đã thông báo với Bộ Công Thương về việc thiết lập website thương mại điện tử bán hàng theo quy định tại Điều 53 Nghị định này. Điều 53. Thủ tục thông báo thiết lập website thương mại điện tử bán hàng 1. Thương nhân, tổ chức, cá nhân thiết lập website thương mại điện tử bán hàng phải thông báo với Bộ Công Thương thông qua công cụ thông báo trực tuyến trên Cổng thông tin Quản lý hoạt động thương mại điện tử; 2. Thông tin phải thông báo bao gồm: a) Tên miền của website thương mại điện tử; b) Loại hàng hóa, dịch vụ giới thiệu trên website; c) Tên đăng ký của thương nhân, tổ chức hoặc tên của cá nhân sở hữu website; d) Địa chỉ trụ sở của thương nhân, tổ chức hoặc địa chỉ thường trú của cá nhân; đ) Số, ngày cấp và nơi cấp giấy chứng nhận đăng ký kinh doanh của thương nhân, hoặc số, ngày cấp và đơn vị cấp quyết định thành lập của tổ chức; hoặc mã số thuế cá nhân của cá nhân;\n",
      "\n",
      "CÔNG BÁO Số 564 + 565 ngày 25-9-2010 65 QUỐC HỘI _______ Luật số: 54 2010 QH12 CỘNG HÒA XÃ HỘI CHỦ NGHĨA VIỆT NAM Độc lập - Tự do - Hạnh phúc ________________________ LUẬT Trọng tài thương mại Căn cứ Hiến pháp nước Cộng hòa xã hội chủ nghĩa Việt Nam năm 1992 đã được sửa đổi, bổ sung một số điều theo Nghị quyết số 51 2001 QH10; Quốc hội ban hành Luật Trọng tài thương mại. Chương I NHỮNG QUY ĐỊNH CHUNG Điều 1. Phạm vi điều chỉnh Luật này quy định về thẩm quyền của Trọng tài thương mại, các hình thức trọng tài, tổ chức trọng tài, Trọng tài viên; trình tự, thủ tục trọng tài; quyền, nghĩa vụ và trách nhiệm của các bên trong tố tụng trọng tài; thẩm quyền của Tòa án đối với hoạt động trọng tài; tổ chức và hoạt động của Trọng tài nước ngoài tại Việt Nam, thi hành phán quyết trọng tài. Điều 2. Thẩm quyền giải quyết các tranh chấp của Trọng tài 1. Tranh chấp giữa các bên phát sinh từ hoạt động thương mại. 2. Tranh chấp phát sinh giữa các bên trong đó ít nhất một bên có hoạt động thương mại. 3. Tranh chấp khác giữa các bên mà pháp luật quy định được giải quyết bằng Trọng tài. Điều 3. Giải thích từ ngữ Trong Luật này, các từ ngữ dưới đây được hiểu như sau: 1. Trọng tài thương mại là phương thức giải quyết tranh chấp do các bên thỏa thuận và được tiến hành theo quy định của Luật này. 2. Thỏa thuận trọng tài là thỏa thuận giữa các bên về việc giải quyết bằng Trọng tài tranh chấp có thể phát sinh hoặc đã phát sinh. 3. Các bên tranh chấp là cá nhân, cơ quan, tổ chức Việt Nam hoặc nước ngoài tham gia tố tụng trọng tài với tư cách nguyên đơn, bị đơn. Ký bởi: Cổng Thông tin điện tử Chính phủ Email: thongtinchinhphu@chinhphu.vn Cơ quan: Văn phòng Chính phủ Thời gian ký: 22.01.2015 08:48:25 +07:00\n",
      "\n",
      "38 CÔNG BÁO Số 289 + 290 Ngày 29-05-2013 Điều 75. Trách nhiệm của thương nhân, tổ chức cung cấp dịch vụ trung gian thanh toán cho website thương mại điện tử 1. Tuân thủ các quy định, tiêu chuẩn kỹ thuật về dịch vụ trung gian thanh toán do Ngân hàng Nhà nước Việt Nam ban hành. 2. Lưu trữ dữ liệu về từng giao dịch thanh toán thực hiện qua hệ thống của mình theo thời hạn quy định tại Luật Kế toán. 3. Liên đới chịu trách nhiệm với thương nhân, tổ chức, cá nhân sở hữu website thương mại điện tử sử dụng dịch vụ trung gian thanh toán của mình trong trường hợp thông tin thanh toán của khách hàng qua website đó bị thay đổi, xóa, hủy, sao chép, tiết lộ, di chuyển trái phép hoặc bị chiếm đoạt gây thiệt hại cho khách hàng. 4. Trước ngày 15 tháng 01 hàng năm, báo cáo Bộ Công Thương số liệu thống kê về tình hình cung cấp dịch vụ cho các thương nhân, tổ chức, cá nhân tham gia hoạt động thương mại điện tử. Chương VI GIẢI QUYẾT TRANH CHẤP, THANH TRA, KIỂM TRA VÀ XỬ LÝ VI PHẠM Điều 76. Giải quyết tranh chấp trong thương mại điện tử 1. Thương nhân, tổ chức, cá nhân sở hữu website thương mại điện tử bán hàng có trách nhiệm tiếp nhận và xử lý khiếu nại của khách hàng liên quan đến hợp đồng được giao kết trên website thương mại điện tử của mình. 2. Tranh chấp giữa thương nhân, tổ chức, cá nhân bán hàng hóa và cung ứng dịch vụ với khách hàng trong quá trình thực hiện hợp đồng phải được giải quyết trên cơ sở các điều khoản của hợp đồng công bố tại website vào thời điểm giao kết hợp đồng và quy định của pháp luật có liên quan. 3. Thương nhân, tổ chức, cá nhân bán hàng hóa và cung ứng dịch vụ không được lợi dụng các ưu thế của mình trên môi trường điện tử để đơn phương giải quyết những vấn đề tranh chấp khi chưa có sự đồng ý của khách hàng. 4. Việc giải quyết tranh chấp phải thông qua thương lượng giữa các bên, hòa giải, trọng tài hoặc tòa án theo các thủ tục, quy định hiện hành về giải quyết tranh chấp. 5. Giải quyết khiếu nại, tranh chấp trên website cung cấp dịch vụ thương mại điện tử: a) Thương nhân, tổ chức cung cấp dịch vụ thương mại điện tử phải công bố rõ trên website quy trình tiếp nhận, trách nhiệm xử lý khiếu nại của khách hàng và cơ chế giải quyết tranh chấp liên quan đến hợp đồng được giao kết trên website thương mại điện tử của mình;\n",
      "\n",
      "CÔNG BÁO Số 1251 + 1252 Ngày 29-12-2015 17 b) Giải quyết theo thủ tục phúc thẩm những vụ việc mà bản án, quyết định kinh doanh, thương mại chưa có hiệu lực pháp luật của Tòa án nhân dân cấp huyện bị kháng cáo, kháng nghị theo quy định của Bộ luật này. 4. Tòa lao động Tòa án nhân dân cấp tỉnh có thẩm quyền: a) Giải quyết theo thủ tục sơ thẩm những tranh chấp, yêu cầu về lao động thuộc thẩm quyền của Tòa án nhân dân cấp tỉnh quy định tại Điều 37 của Bộ luật này; b) Giải quyết theo thủ tục phúc thẩm những vụ việc mà bản án, quyết định lao động chưa có hiệu lực pháp luật của Tòa án nhân dân cấp huyện bị kháng cáo, kháng nghị theo quy định của Bộ luật này. Điều 39. Thẩm quyền của Tòa án theo lãnh thổ 1. Thẩm quyền giải quyết vụ án dân sự của Tòa án theo lãnh thổ được xác định như sau: a) Tòa án nơi bị đơn cư trú, làm việc, nếu bị đơn là cá nhân hoặc nơi bị đơn có trụ sở, nếu bị đơn là cơ quan, tổ chức có thẩm quyền giải quyết theo thủ tục sơ thẩm những tranh chấp về dân sự, hôn nhân và gia đình, kinh doanh, thương mại, lao động quy định tại các Điều 26, 28, 30 và 32 của Bộ luật này; b) Các đương sự có quyền tự thỏa thuận với nhau bằng văn bản yêu cầu Tòa án nơi cư trú, làm việc của nguyên đơn, nếu nguyên đơn là cá nhân hoặc nơi có trụ sở của nguyên đơn, nếu nguyên đơn là cơ quan, tổ chức giải quyết những tranh chấp về dân sự, hôn nhân và gia đình, kinh doanh, thương mại, lao động quy định tại các điều 26, 28, 30 và 32 của Bộ luật này; c) Đối tượng tranh chấp là bất động sản thì chỉ Tòa án nơi có bất động sản có thẩm quyền giải quyết. 2. Thẩm quyền giải quyết việc dân sự của Tòa án theo lãnh thổ được xác định như sau: a) Tòa án nơi người bị yêu cầu tuyên bố mất năng lực hành vi dân sự, bị hạn chế năng lực hành vi dân sự hoặc có khó khăn trong nhận thức, làm chủ hành vi cư trú, làm việc có thẩm quyền giải quyết yêu cầu tuyên bố một người mất năng lực hành vi dân sự, bị hạn chế năng lực hành vi dân sự hoặc có khó khăn trong nhận thức, làm chủ hành vi; b) Tòa án nơi người bị yêu cầu thông báo tìm kiếm vắng mặt tại nơi cư trú, bị yêu cầu tuyên bố mất tích hoặc là đã chết có nơi cư trú cuối cùng có thẩm quyền giải quyết yêu cầu thông báo tìm kiếm người vắng mặt tại nơi cư trú và quản lý tài sản của người đó, yêu cầu tuyên bố một người mất tích hoặc là đã chết; c) Tòa án nơi người yêu cầu hủy bỏ quyết định tuyên bố một người mất năng lực hành vi dân sự, bị hạn chế năng lực hành vi dân sự hoặc có khó khăn trong nhận thức, làm chủ hành vi cư trú, làm việc có thẩm quyền hủy bỏ quyết định tuyên bố một người mất năng lực hành vi dân sự, bị hạn chế năng lực hành vi dân sự hoặc có khó khăn trong nhận thức, làm chủ hành vi.\n",
      "\n",
      "12 CÔNG BÁO Số 1251 + 1252 Ngày 29-12-2015 7. Yêu cầu công nhận thỏa thuận chấm dứt hiệu lực của việc chia tài sản chung trong thời kỳ hôn nhân đã được thực hiện theo bản án, quyết định của Tòa án. 8. Yêu cầu tuyên bố vô hiệu thỏa thuận về chế độ tài sản của vợ chồng theo quy định của pháp luật hôn nhân và gia đình. 9. Yêu cầu công nhận và cho thi hành tại Việt Nam hoặc không công nhận bản án, quyết định về hôn nhân và gia đình của Tòa án nước ngoài hoặc cơ quan khác có thẩm quyền của nước ngoài hoặc không công nhận bản án, quyết định về hôn nhân và gia đình của Tòa án nước ngoài hoặc cơ quan khác có thẩm quyền của nước ngoài không có yêu cầu thi hành tại Việt Nam. 10. Yêu cầu xác định cha, mẹ cho con hoặc con cho cha, mẹ theo quy định của pháp luật về hôn nhân và gia đình. 11. Các yêu cầu khác về hôn nhân và gia đình, trừ trường hợp thuộc thẩm quyền giải quyết của cơ quan, tổ chức khác theo quy định của pháp luật. Điều 30. Những tranh chấp về kinh doanh, thương mại thuộc thẩm quyền giải quyết của Tòa án 1. Tranh chấp phát sinh trong hoạt động kinh doanh, thương mại giữa cá nhân, tổ chức có đăng ký kinh doanh với nhau và đều có mục đích lợi nhuận. 2. Tranh chấp về quyền sở hữu trí tuệ, chuyển giao công nghệ giữa cá nhân, tổ chức với nhau và đều có mục đích lợi nhuận. 3. Tranh chấp giữa người chưa phải là thành viên công ty nhưng có giao dịch về chuyển nhượng phần vốn góp với công ty, thành viên công ty. 4. Tranh chấp giữa công ty với các thành viên của công ty; tranh chấp giữa công ty với người quản lý trong công ty trách nhiệm hữu hạn hoặc thành viên Hội đồng quản trị, giám đốc, tổng giám đốc trong công ty cổ phần, giữa các thành viên của công ty với nhau liên quan đến việc thành lập, hoạt động, giải thể, sáp nhập, hợp nhất, chia, tách, bàn giao tài sản của công ty, chuyển đổi hình thức tổ chức của công ty. 5. Các tranh chấp khác về kinh doanh, thương mại, trừ trường hợp thuộc thẩm quyền giải quyết của cơ quan, tổ chức khác theo quy định của pháp luật. Điều 31. Những yêu cầu về kinh doanh, thương mại thuộc thẩm quyền giải quyết của Tòa án 1. Yêu cầu hủy bỏ nghị quyết của Đại hội đồng cổ đông, nghị quyết của Hội đồng thành viên theo quy định của pháp luật về doanh nghiệp. 2. Yêu cầu liên quan đến việc Trọng tài thương mại Việt Nam giải quyết tranh chấp theo quy định của pháp luật về Trọng tài thương mại.\n"
     ]
    }
   ],
   "source": [
    "print(retrieved_context)"
   ]
  },
  {
   "cell_type": "code",
   "execution_count": 32,
   "metadata": {},
   "outputs": [
    {
     "name": "stdout",
     "output_type": "stream",
     "text": [
      "**Phân tích câu hỏi và xác định các yếu tố pháp lý cốt lõi**\n",
      "\n",
      "Câu hỏi đặt ra là \"Theo luật trọng tài thương mại, Quyết định trọng tài?\" Để trả lời câu hỏi này, chúng ta cần phân tích các yếu tố pháp lý cốt lõi liên quan đến quyết định trọng tài trong luật trọng tài thương mại.\n",
      "\n",
      "**Các yếu tố pháp lý cốt lõi**\n",
      "\n",
      "Theo Luật Trọng tài thương mại (Điều 1), trọng tài thương mại là phương thức giải quyết tranh chấp do các bên thỏa thuận và được tiến hành theo quy định của Luật này. Điều 2 của Luật này quy định về thẩm quyền giải quyết các tranh chấp của Trọng tài, bao gồm tranh chấp giữa các bên phát sinh từ hoạt động thương mại.\n",
      "\n",
      "**Quyết định trọng tài**\n",
      "\n",
      "Theo Điều 3 của Luật Trọng tài thương mại, quyết định trọng tài là quyết định cuối cùng của Trọng tài viên về tranh chấp giữa các bên. Điều này có nghĩa là quyết định trọng tài là kết quả cuối cùng của quá trình giải quyết tranh chấp bằng trọng tài.\n",
      "\n",
      "**Thẩm quyền của Tòa án đối với quyết định trọng tài**\n",
      "\n",
      "Theo Điều 39 của Luật Trọng tài thương mại, Tòa án có thẩm quyền giải quyết các tranh chấp liên quan đến quyết định trọng tài, bao gồm việc hủy bỏ quyết định trọng tài nếu có vi phạm về thủ tục hoặc về nội dung.\n",
      "\n",
      "**Kết luận**\n",
      "\n",
      "Tóm lại, quyết định trọng tài là quyết định cuối cùng của Trọng tài viên về tranh chấp giữa các bên, và Tòa án có thẩm quyền giải quyết các tranh chấp liên quan đến quyết định trọng tài. Để trả lời câu hỏi \"Theo luật trọng tài thương mại, Quyết định trọng tài?\", chúng ta cần xem xét các yếu tố pháp lý cốt lõi liên quan đến quyết định trọng tài và thẩm quyền của Tòa án đối với quyết định trọng tài.\n",
      "\n",
      "**Ví dụ minh họa**\n",
      "\n",
      "Ví dụ, hai công ty A và B có tranh chấp về hợp đồng kinh doanh. Họ đã thỏa thuận giải quyết tranh chấp bằng trọng tài. Sau khi tiến hành trọng tài, Trọng tài viên đã đưa ra quyết định trọng tài, trong đó công ty A được yêu cầu bồi thường cho công ty B số tiền 100 triệu đồng. Công ty A không đồng ý với quyết định này và đã nộp đơn lên Tòa án để yêu cầu hủy bỏ quyết định trọng tài. Trong trường hợp này, Tòa án sẽ xem xét quyết định trọng tài và quyết định có hủy bỏ quyết định này hay không.\n",
      "\n",
      "**Tóm tắt**\n",
      "\n",
      "Quyết định trọng tài là quyết định cuối cùng của Trọng tài viên về tranh chấp giữa các bên. Tòa án có thẩm quyền giải quyết các tranh chấp liên quan đến quyết định trọng tài. Để trả lời câu hỏi \"Theo luật trọng tài thương mại, Quyết định trọng tài?\", chúng ta cần xem xét các yếu tố pháp lý cốt lõi liên quan đến quyết định trọng tài và thẩm quyền của Tòa án đối với quyết định trọng tài.\n"
     ]
    }
   ],
   "source": [
    "response = llm(final_prompt)\n",
    "print(response.content)"
   ]
  },
  {
   "cell_type": "markdown",
   "metadata": {},
   "source": [
    "### Test 3"
   ]
  },
  {
   "cell_type": "code",
   "execution_count": 39,
   "metadata": {},
   "outputs": [],
   "source": [
    "# --- Thực hiện retrieval ---\n",
    "query = '''Theo luật trọng tài thương mại,Đối với tranh chấp không có yếu tố nước ngoài, Hội đồng trọng tài có được áp dụng \n",
    "pháp luật Việt Nam để giải quyết tranh chấp hay không ?'''\n",
    "retrieved_docs = hybrid_retriever.invoke(query)\n",
    "retrieved_context = \"\\n\\n\".join([doc.page_content for doc in retrieved_docs])"
   ]
  },
  {
   "cell_type": "code",
   "execution_count": 40,
   "metadata": {},
   "outputs": [],
   "source": [
    "final_prompt = prompt.format(retrieved_context=retrieved_context, query=query)"
   ]
  },
  {
   "cell_type": "code",
   "execution_count": 41,
   "metadata": {},
   "outputs": [
    {
     "name": "stdout",
     "output_type": "stream",
     "text": [
      "**Phân tích câu hỏi và xác định các yếu tố pháp lý cốt lõi**\n",
      "\n",
      "Câu hỏi đặt ra là: \"Đối với tranh chấp không có yếu tố nước ngoài, Hội đồng trọng tài có được áp dụng pháp luật Việt Nam để giải quyết tranh chấp hay không?\"\n",
      "\n",
      "Để trả lời câu hỏi này, chúng ta cần xem xét các quy định liên quan đến trọng tài thương mại và pháp luật áp dụng trong giải quyết tranh chấp.\n",
      "\n",
      "**Quy định về pháp luật áp dụng trong giải quyết tranh chấp**\n",
      "\n",
      "Theo Điều 14 của Luật Trọng tài thương mại, quy định về pháp luật áp dụng trong giải quyết tranh chấp như sau:\n",
      "\n",
      "\"1. Đối với tranh chấp không có yếu tố nước ngoài, Hội đồng trọng tài áp dụng pháp luật Việt Nam để giải quyết tranh chấp.\n",
      "2. Đối với tranh chấp có yếu tố nước ngoài, Hội đồng trọng tài áp dụng pháp luật do các bên lựa chọn; nếu các bên không có thỏa thuận về luật áp dụng thì Hội đồng trọng tài quyết định áp dụng pháp luật mà Hội đồng trọng tài cho là phù hợp nhất.\n",
      "3. Trường hợp pháp luật Việt Nam, pháp luật do các bên lựa chọn không có quy định cụ thể liên quan đến nội dung tranh chấp thì Hội đồng trọng tài được áp dụng tập quán quốc tế để giải quyết tranh chấp nếu việc áp dụng hoặc hậu quả của việc áp dụng đó không trái với các nguyên tắc cơ bản của pháp luật Việt Nam.\"\n",
      "\n",
      "**Kết luận**\n",
      "\n",
      "Dựa trên quy định tại Điều 14 của Luật Trọng tài thương mại, đối với tranh chấp không có yếu tố nước ngoài, Hội đồng trọng tài có thể áp dụng pháp luật Việt Nam để giải quyết tranh chấp.\n",
      "\n",
      "**Ví dụ minh họa**\n",
      "\n",
      "Ví dụ, hai công ty Việt Nam ký kết hợp đồng mua bán hàng hóa và có tranh chấp về giá cả. Trong trường hợp này, Hội đồng trọng tài có thể áp dụng pháp luật Việt Nam để giải quyết tranh chấp.\n",
      "\n",
      "**Tổng hợp và tóm tắt**\n",
      "\n",
      "Tóm lại, đối với tranh chấp không có yếu tố nước ngoài, Hội đồng trọng tài có thể áp dụng pháp luật Việt Nam để giải quyết tranh chấp theo quy định tại Điều 14 của Luật Trọng tài thương mại.\n"
     ]
    }
   ],
   "source": [
    "response = llm(final_prompt)\n",
    "print(response.content)"
   ]
  },
  {
   "cell_type": "markdown",
   "metadata": {},
   "source": [
    "### Test 4"
   ]
  },
  {
   "cell_type": "code",
   "execution_count": 42,
   "metadata": {},
   "outputs": [],
   "source": [
    "# --- Thực hiện retrieval ---\n",
    "query = '''Luật trọng tài thương mại do ai ban hành'''\n",
    "retrieved_docs = hybrid_retriever.invoke(query)\n",
    "retrieved_context = \"\\n\\n\".join([doc.page_content for doc in retrieved_docs])"
   ]
  },
  {
   "cell_type": "code",
   "execution_count": 43,
   "metadata": {},
   "outputs": [
    {
     "name": "stdout",
     "output_type": "stream",
     "text": [
      "**Phân tích câu hỏi và xác định các yếu tố pháp lý cốt lõi**\n",
      "\n",
      "Câu hỏi đặt ra là \"Luật trọng tài thương mại do ai ban hành\". Để trả lời câu hỏi này, chúng ta cần tìm hiểu về Luật Trọng tài thương mại và các quy định liên quan.\n",
      "\n",
      "**Luật Trọng tài thương mại**\n",
      "\n",
      "Luật Trọng tài thương mại là một bộ luật quy định về trọng tài thương mại, bao gồm các quy định về thành lập, hoạt động, và thẩm quyền của trọng tài thương mại.\n",
      "\n",
      "**Quy định về ban hành Luật Trọng tài thương mại**\n",
      "\n",
      "Theo quy định của pháp luật Việt Nam, Luật Trọng tài thương mại được ban hành bởi Quốc hội.\n",
      "\n",
      "**Trích dẫn từ bộ luật**\n",
      "\n",
      "Không có trích dẫn cụ thể từ bộ luật trong văn bản pháp lý cung cấp. Tuy nhiên, dựa trên kiến thức chung về pháp luật Việt Nam, chúng ta có thể kết luận rằng Luật Trọng tài thương mại được ban hành bởi Quốc hội.\n",
      "\n",
      "**Kết luận**\n",
      "\n",
      "Dựa trên phân tích và quy định của pháp luật, chúng ta có thể kết luận rằng Luật Trọng tài thương mại được ban hành bởi Quốc hội.\n",
      "\n",
      "Tuy nhiên, cần lưu ý rằng văn bản pháp lý cung cấp không có thông tin cụ thể về Luật Trọng tài thương mại. Để có thông tin chính xác và đầy đủ, cần tham khảo các nguồn thông tin pháp lý khác.\n"
     ]
    }
   ],
   "source": [
    "final_prompt = prompt.format(retrieved_context=retrieved_context, query=query)\n",
    "response = llm(final_prompt)\n",
    "print(response.content)"
   ]
  },
  {
   "cell_type": "markdown",
   "metadata": {},
   "source": [
    "### Test 5"
   ]
  },
  {
   "cell_type": "code",
   "execution_count": 44,
   "metadata": {},
   "outputs": [],
   "source": [
    "# --- Thực hiện retrieval ---\n",
    "query = '''Phán quyết của trọng tài trong luật trọng tài thương mại có hiệu lực như thế nào'''\n",
    "retrieved_docs = hybrid_retriever.invoke(query)\n",
    "retrieved_context = \"\\n\\n\".join([doc.page_content for doc in retrieved_docs])"
   ]
  },
  {
   "cell_type": "code",
   "execution_count": 45,
   "metadata": {},
   "outputs": [
    {
     "name": "stdout",
     "output_type": "stream",
     "text": [
      "**Phán quyết của trọng tài trong luật trọng tài thương mại có hiệu lực như thế nào**\n",
      "\n",
      "**Khái quát về trọng tài thương mại**\n",
      "\n",
      "Trọng tài thương mại là phương thức giải quyết tranh chấp do các bên thỏa thuận và được tiến hành theo quy định của Luật Trọng tài thương mại (Điều 3, Luật Trọng tài thương mại).\n",
      "\n",
      "**Thẩm quyền của trọng tài thương mại**\n",
      "\n",
      "Trọng tài thương mại có thẩm quyền giải quyết các tranh chấp phát sinh từ hoạt động thương mại, bao gồm:\n",
      "\n",
      "* Tranh chấp giữa các bên phát sinh từ hoạt động thương mại (Điều 2, khoản 1, Luật Trọng tài thương mại)\n",
      "* Tranh chấp phát sinh giữa các bên trong đó ít nhất một bên có hoạt động thương mại (Điều 2, khoản 2, Luật Trọng tài thương mại)\n",
      "* Tranh chấp khác giữa các bên mà pháp luật quy định được giải quyết bằng Trọng tài (Điều 2, khoản 3, Luật Trọng tài thương mại)\n",
      "\n",
      "**Hiệu lực của phán quyết trọng tài**\n",
      "\n",
      "Phán quyết của trọng tài thương mại có hiệu lực thi hành ngay sau khi được ban hành, trừ trường hợp có kháng cáo hoặc kháng nghị (Điều 61, Luật Trọng tài thương mại).\n",
      "\n",
      "**Thủ tục thi hành phán quyết trọng tài**\n",
      "\n",
      "Phán quyết trọng tài được thi hành theo quy định của pháp luật về thi hành án dân sự (Điều 62, Luật Trọng tài thương mại).\n",
      "\n",
      "**Ví dụ minh họa**\n",
      "\n",
      "Ví dụ, hai công ty A và B có tranh chấp về hợp đồng mua bán hàng hóa. Các bên thỏa thuận giải quyết tranh chấp bằng trọng tài thương mại. Trọng tài thương mại ban hành phán quyết, trong đó công ty A phải trả cho công ty B số tiền 100 triệu đồng. Phán quyết này có hiệu lực thi hành ngay sau khi được ban hành, và công ty A phải thi hành phán quyết trong thời hạn 30 ngày kể từ ngày nhận được phán quyết.\n",
      "\n",
      "**Kết luận**\n",
      "\n",
      "Phán quyết của trọng tài thương mại có hiệu lực thi hành ngay sau khi được ban hành, trừ trường hợp có kháng cáo hoặc kháng nghị. Thủ tục thi hành phán quyết trọng tài được thực hiện theo quy định của pháp luật về thi hành án dân sự.\n"
     ]
    }
   ],
   "source": [
    "final_prompt = prompt.format(retrieved_context=retrieved_context, query=query)\n",
    "response = llm(final_prompt)\n",
    "print(response.content)"
   ]
  },
  {
   "cell_type": "markdown",
   "metadata": {},
   "source": [
    "### Test 6"
   ]
  },
  {
   "cell_type": "code",
   "execution_count": 46,
   "metadata": {},
   "outputs": [],
   "source": [
    "# --- Thực hiện retrieval ---\n",
    "query = '''Sự khác biệt giữa trọng tài thương mại và toà án là gì'''\n",
    "retrieved_docs = hybrid_retriever.invoke(query)\n",
    "retrieved_context = \"\\n\\n\".join([doc.page_content for doc in retrieved_docs])"
   ]
  },
  {
   "cell_type": "code",
   "execution_count": 47,
   "metadata": {},
   "outputs": [
    {
     "name": "stdout",
     "output_type": "stream",
     "text": [
      "**Sự khác biệt giữa trọng tài thương mại và tòa án**\n",
      "\n",
      "Trọng tài thương mại và tòa án là hai phương thức giải quyết tranh chấp khác nhau trong lĩnh vực thương mại. Dưới đây là một số điểm khác biệt chính giữa hai phương thức này:\n",
      "\n",
      "**1. Thẩm quyền**\n",
      "\n",
      "* Trọng tài thương mại: Theo Điều 2 của Luật Trọng tài thương mại, trọng tài thương mại có thẩm quyền giải quyết các tranh chấp phát sinh từ hoạt động thương mại, bao gồm tranh chấp giữa các bên phát sinh từ hoạt động thương mại, tranh chấp phát sinh giữa các bên trong đó ít nhất một bên có hoạt động thương mại, và tranh chấp khác giữa các bên mà pháp luật quy định được giải quyết bằng trọng tài.\n",
      "* Tòa án: Theo Điều 30 của Bộ luật Tố tụng dân sự, tòa án có thẩm quyền giải quyết các tranh chấp về kinh doanh, thương mại, bao gồm tranh chấp phát sinh trong hoạt động kinh doanh, thương mại giữa cá nhân, tổ chức có đăng ký kinh doanh với nhau và đều có mục đích lợi nhuận.\n",
      "\n",
      "**2. Thủ tục**\n",
      "\n",
      "* Trọng tài thương mại: Thủ tục trọng tài thương mại được quy định tại Chương III của Luật Trọng tài thương mại. Theo đó, các bên phải thỏa thuận về việc giải quyết tranh chấp bằng trọng tài và phải tuân thủ các quy định về trình tự, thủ tục trọng tài.\n",
      "* Tòa án: Thủ tục tố tụng dân sự được quy định tại Bộ luật Tố tụng dân sự. Theo đó, các bên phải nộp đơn khởi kiện và phải tuân thủ các quy định về trình tự, thủ tục tố tụng.\n",
      "\n",
      "**3. Phán quyết**\n",
      "\n",
      "* Trọng tài thương mại: Phán quyết trọng tài thương mại có hiệu lực thi hành ngay sau khi được ban hành, trừ trường hợp có kháng cáo hoặc kháng nghị.\n",
      "* Tòa án: Phán quyết của tòa án có hiệu lực thi hành sau khi được ban hành và không có kháng cáo hoặc kháng nghị.\n",
      "\n",
      "**4. Chi phí**\n",
      "\n",
      "* Trọng tài thương mại: Chi phí trọng tài thương mại do các bên thỏa thuận và phải trả cho trọng tài viên.\n",
      "* Tòa án: Chi phí tố tụng dân sự do nhà nước chi trả, trừ trường hợp các bên phải trả phí tổn cho việc thu thập chứng cứ.\n",
      "\n",
      "**5. Thời gian**\n",
      "\n",
      "* Trọng tài thương mại: Thời gian giải quyết tranh chấp bằng trọng tài thương mại thường nhanh hơn so với thời gian giải quyết tranh chấp bằng tòa án.\n",
      "* Tòa án: Thời gian giải quyết tranh chấp bằng tòa án thường lâu hơn so với thời gian giải quyết tranh chấp bằng trọng tài thương mại.\n",
      "\n",
      "Tóm lại, trọng tài thương mại và tòa án là hai phương thức giải quyết tranh chấp khác nhau trong lĩnh vực thương mại. Trọng tài thương mại có thẩm quyền giải quyết các tranh chấp phát sinh từ hoạt động thương mại, thủ tục trọng tài thương mại được quy định tại Chương III của Luật Trọng tài thương mại, phán quyết trọng tài thương mại có hiệu lực thi hành ngay sau khi được ban hành, chi phí trọng tài thương mại do các bên thỏa thuận và phải trả cho trọng tài viên, và thời gian giải quyết tranh chấp bằng trọng tài thương mại thường nhanh hơn so với thời gian giải quyết tranh chấp bằng tòa án.\n"
     ]
    }
   ],
   "source": [
    "final_prompt = prompt.format(retrieved_context=retrieved_context, query=query)\n",
    "response = llm(final_prompt)\n",
    "print(response.content)"
   ]
  },
  {
   "cell_type": "markdown",
   "metadata": {},
   "source": [
    "### Test 7"
   ]
  },
  {
   "cell_type": "code",
   "execution_count": 48,
   "metadata": {},
   "outputs": [],
   "source": [
    "# --- Thực hiện retrieval ---\n",
    "query = '''Trong luật trọng tài thương mại, Phán quyết trọng tài có giá trị pháp lí như thế nào?'''\n",
    "retrieved_docs = hybrid_retriever.invoke(query)\n",
    "retrieved_context = \"\\n\\n\".join([doc.page_content for doc in retrieved_docs])"
   ]
  },
  {
   "cell_type": "code",
   "execution_count": 49,
   "metadata": {},
   "outputs": [
    {
     "name": "stdout",
     "output_type": "stream",
     "text": [
      "**Phán quyết trọng tài có giá trị pháp lí như thế nào?**\n",
      "\n",
      "Theo Luật Trọng tài thương mại 2010, phán quyết trọng tài có giá trị pháp lí như sau:\n",
      "\n",
      "* **Giá trị pháp lí của phán quyết trọng tài**: Phán quyết trọng tài có giá trị pháp lí ràng buộc các bên tranh chấp (Điều 61, Luật Trọng tài thương mại 2010).\n",
      "* **Thi hành phán quyết trọng tài**: Phán quyết trọng tài được thi hành theo quy định của pháp luật về thi hành án dân sự (Điều 62, Luật Trọng tài thương mại 2010).\n",
      "* **Không được kháng cáo**: Phán quyết trọng tài không được kháng cáo, trừ trường hợp có vi phạm nghiêm trọng về thủ tục tố tụng trọng tài (Điều 63, Luật Trọng tài thương mại 2010).\n",
      "\n",
      "Tuy nhiên, cần lưu ý rằng phán quyết trọng tài chỉ có giá trị pháp lí khi đáp ứng các điều kiện sau:\n",
      "\n",
      "* **Thỏa thuận trọng tài**: Các bên tranh chấp phải có thỏa thuận trọng tài hợp pháp (Điều 5, Luật Trọng tài thương mại 2010).\n",
      "* **Tố tụng trọng tài**: Tố tụng trọng tài phải được tiến hành theo quy định của Luật Trọng tài thương mại 2010 (Điều 10, Luật Trọng tài thương mại 2010).\n",
      "* **Phán quyết trọng tài**: Phán quyết trọng tài phải được ban hành bởi trọng tài viên hoặc hội đồng trọng tài có thẩm quyền (Điều 55, Luật Trọng tài thương mại 2010).\n",
      "\n",
      "Nếu phán quyết trọng tài không đáp ứng các điều kiện trên, nó có thể bị hủy bỏ hoặc không được công nhận (Điều 64, Luật Trọng tài thương mại 2010).\n",
      "\n",
      "**Ví dụ minh họa**:\n",
      "\n",
      "Giả sử hai công ty A và B có thỏa thuận trọng tài để giải quyết tranh chấp về hợp đồng mua bán hàng hóa. Sau khi tiến hành tố tụng trọng tài, trọng tài viên ban hành phán quyết trọng tài yêu cầu công ty A phải trả cho công ty B số tiền 100 triệu đồng. Phán quyết trọng tài này có giá trị pháp lí ràng buộc công ty A và công ty B, và công ty A phải thi hành phán quyết trọng tài theo quy định của pháp luật về thi hành án dân sự.\n",
      "\n",
      "Tuy nhiên, nếu công ty A cho rằng phán quyết trọng tài vi phạm nghiêm trọng về thủ tục tố tụng trọng tài, công ty A có thể yêu cầu tòa án hủy bỏ phán quyết trọng tài.\n"
     ]
    }
   ],
   "source": [
    "final_prompt = prompt.format(retrieved_context=retrieved_context, query=query)\n",
    "response = llm(final_prompt)\n",
    "print(response.content)"
   ]
  },
  {
   "cell_type": "markdown",
   "metadata": {},
   "source": [
    "### Test 8\n"
   ]
  },
  {
   "cell_type": "code",
   "execution_count": 59,
   "metadata": {},
   "outputs": [],
   "source": [
    "# # --- Thực hiện retrieval ---\n",
    "# query = \"Theo luật trọng tài thương mại, Quyết định trọng tài?\"\n",
    "# retrieved_docs = hybrid_retriever.invoke(query)\n",
    "# retrieved_context = \"\\n\\n\".join([doc.page_content for doc in retrieved_docs])"
   ]
  },
  {
   "cell_type": "code",
   "execution_count": 58,
   "metadata": {},
   "outputs": [],
   "source": [
    "# final_prompt = prompt.format(retrieved_context=retrieved_context, query=query)\n",
    "# response = llm(final_prompt)\n",
    "# print(response.content)"
   ]
  },
  {
   "cell_type": "code",
   "execution_count": 57,
   "metadata": {},
   "outputs": [],
   "source": [
    "# print(final_prompt)"
   ]
  },
  {
   "cell_type": "code",
   "execution_count": null,
   "metadata": {},
   "outputs": [],
   "source": []
  }
 ],
 "metadata": {
  "kernelspec": {
   "display_name": "nckh",
   "language": "python",
   "name": "python3"
  },
  "language_info": {
   "codemirror_mode": {
    "name": "ipython",
    "version": 3
   },
   "file_extension": ".py",
   "mimetype": "text/x-python",
   "name": "python",
   "nbconvert_exporter": "python",
   "pygments_lexer": "ipython3",
   "version": "3.11.11"
  }
 },
 "nbformat": 4,
 "nbformat_minor": 2
}
