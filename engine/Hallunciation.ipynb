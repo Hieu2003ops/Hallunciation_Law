{
 "cells": [
  {
   "cell_type": "code",
   "execution_count": 39,
   "metadata": {},
   "outputs": [
    {
     "name": "stdout",
     "output_type": "stream",
     "text": [
      " Key đã được thiết lập thành công!\n"
     ]
    }
   ],
   "source": [
    "import os\n",
    "from dotenv import load_dotenv\n",
    "\n",
    "# Load biến môi trường từ file .env (file .env cần nằm trong cùng thư mục với notebook)\n",
    "load_dotenv()\n",
    "\n",
    "# Lấy giá trị của TOGETHER_API_KEY từ biến môi trường\n",
    "together_api_key = os.getenv('TOGETHER_API_KEY')\n",
    "if not together_api_key:\n",
    "    raise ValueError(\"Chưa tìm thấy TOGETHER_API_KEY trong file .env!\")\n",
    "\n",
    "elastic_api_key = os.getenv('ELASTIC_API_KEY')\n",
    "if not elastic_api_key:\n",
    "    raise ValueError(\"Chưa tìm thấy ELASTIC_API_KEY trong file .env!\")\n",
    "\n",
    "elastic_cloud_id = os.getenv('ELASTIC_CLOUD_ID')\n",
    "if not elastic_cloud_id:\n",
    "    raise ValueError(\"Chưa tìm thấy ELASTIC_CLOUD_ID trong file .env!\")\n",
    "\n",
    "tavily_api_key = os.getenv('TAVILY_API_KEY')\n",
    "if not tavily_api_key:\n",
    "    raise ValueError(\"Chưa tìm thấy TAVILY_API_KEY trong file .env!\")\n",
    "\n",
    "\n",
    "serper_api_key = os.getenv('SERPER_API_KEY')\n",
    "if not serper_api_key:\n",
    "    raise ValueError(\"Chưa tìm thấy SERPER_API_KEY trong file .env!\")\n",
    "\n",
    "\n",
    "print(\" Key đã được thiết lập thành công!\")\n"
   ]
  },
  {
   "cell_type": "code",
   "execution_count": 40,
   "metadata": {},
   "outputs": [
    {
     "name": "stdout",
     "output_type": "stream",
     "text": [
      "ba4066853f6d39efbdb8e58274802acdb950955adb52d523b36cad88c5493aa1\n",
      "LUVTcUlKWUIyR2JxbU84a1dRYVo6TFhidjQ4VlVRRmFYNUJQY2MweFVEUQ==\n",
      "My_Elasticsearch_deployment:YXAtZWFzdC0xLmF3cy5lbGFzdGljLWNsb3VkLmNvbTo0NDMkNjAyNDBhMzU5NGU5NDIzNjkzMmJjYjQwMWYyZWZmMTMkNmQxNjEyNjAwZWI1NDQzZmE2ODA1YTI1YWQ5M2Y3ZTA=\n"
     ]
    }
   ],
   "source": [
    "print(together_api_key)\n",
    "print(elastic_api_key)\n",
    "print(elastic_cloud_id)"
   ]
  },
  {
   "cell_type": "code",
   "execution_count": 41,
   "metadata": {},
   "outputs": [
    {
     "name": "stdout",
     "output_type": "stream",
     "text": [
      "Thủ đô của Việt Nam là Hà Nội.\n"
     ]
    }
   ],
   "source": [
    "from langchain_together import ChatTogether, TogetherEmbeddings\n",
    "from langchain_community.embeddings import HuggingFaceEmbeddings\n",
    "llm = ChatTogether(\n",
    "    model=\"meta-llama/Meta-Llama-3.1-70B-Instruct-Turbo\"\n",
    ")\n",
    "#\" )\n",
    "result = llm.invoke(\"Thủ đô Việt Nam là thành phố nào? \")\n",
    "print(result.content)"
   ]
  },
  {
   "cell_type": "code",
   "execution_count": 42,
   "metadata": {},
   "outputs": [
    {
     "name": "stderr",
     "output_type": "stream",
     "text": [
      "No sentence-transformers model found with name VoVanPhuc/sup-SimCSE-VietNamese-phobert-base. Creating a new one with mean pooling.\n"
     ]
    }
   ],
   "source": [
    "# from tqdm.notebook import tqdm\n",
    "embd = HuggingFaceEmbeddings(model_name=\"VoVanPhuc/sup-SimCSE-VietNamese-phobert-base\")"
   ]
  },
  {
   "cell_type": "code",
   "execution_count": 43,
   "metadata": {},
   "outputs": [
    {
     "data": {
      "text/plain": [
       "HuggingFaceEmbeddings(client=SentenceTransformer(\n",
       "  (0): Transformer({'max_seq_length': 256, 'do_lower_case': False}) with Transformer model: RobertaModel \n",
       "  (1): Pooling({'word_embedding_dimension': 768, 'pooling_mode_cls_token': False, 'pooling_mode_mean_tokens': True, 'pooling_mode_max_tokens': False, 'pooling_mode_mean_sqrt_len_tokens': False, 'pooling_mode_weightedmean_tokens': False, 'pooling_mode_lasttoken': False, 'include_prompt': True})\n",
       "), model_name='VoVanPhuc/sup-SimCSE-VietNamese-phobert-base', cache_folder=None, model_kwargs={}, encode_kwargs={}, multi_process=False, show_progress=False)"
      ]
     },
     "execution_count": 43,
     "metadata": {},
     "output_type": "execute_result"
    }
   ],
   "source": [
    "embd"
   ]
  },
  {
   "cell_type": "markdown",
   "metadata": {},
   "source": [
    "## Load Elasticsearch Store\n",
    "\n"
   ]
  },
  {
   "cell_type": "code",
   "execution_count": 44,
   "metadata": {},
   "outputs": [],
   "source": [
    "from langchain.vectorstores import ElasticsearchStore\n",
    "index_name = \"ecom-law0\""
   ]
  },
  {
   "cell_type": "code",
   "execution_count": 45,
   "metadata": {},
   "outputs": [],
   "source": [
    "# Khởi tạo connection tới Elasticsearch thông qua Elastic Cloud\n",
    "vector_store = ElasticsearchStore(\n",
    "    es_cloud_id=elastic_cloud_id,\n",
    "    es_api_key=elastic_api_key,\n",
    "    index_name=index_name,\n",
    "    embedding=embd,\n",
    ")"
   ]
  },
  {
   "cell_type": "code",
   "execution_count": 46,
   "metadata": {},
   "outputs": [
    {
     "name": "stdout",
     "output_type": "stream",
     "text": [
      ".internal.alerts-transform.health.alerts-default-000001\n",
      ".internal.alerts-observability.logs.alerts-default-000001\n",
      ".internal.alerts-observability.uptime.alerts-default-000001\n",
      ".ds-metrics-fleet_server.agent_versions-default-2025.04.10-000001\n",
      ".internal.alerts-ml.anomaly-detection.alerts-default-000001\n",
      ".internal.alerts-observability.slo.alerts-default-000001\n",
      "ecom-law0\n",
      ".internal.alerts-default.alerts-default-000001\n",
      "new-index\n",
      ".internal.alerts-observability.apm.alerts-default-000001\n",
      ".elastic-connectors-v1\n",
      ".internal.alerts-observability.metrics.alerts-default-000001\n",
      ".internal.alerts-ml.anomaly-detection-health.alerts-default-000001\n",
      ".internal.alerts-observability.threshold.alerts-default-000001\n",
      ".ds-metrics-fleet_server.agent_status-default-2025.04.10-000001\n",
      ".elastic-connectors-sync-jobs-v1\n",
      ".internal.alerts-security.alerts-default-000001\n",
      ".ds-logs-enterprise_search.audit-default-2025.04.10-000001\n",
      ".ds-logs-enterprise_search.api-default-2025.04.10-000001\n",
      ".internal.alerts-stack.alerts-default-000001\n"
     ]
    }
   ],
   "source": [
    "indices = vector_store.client.cat.indices(format=\"json\")\n",
    "for index_info in indices:\n",
    "    print(index_info[\"index\"])\n"
   ]
  },
  {
   "cell_type": "code",
   "execution_count": 47,
   "metadata": {},
   "outputs": [
    {
     "name": "stdout",
     "output_type": "stream",
     "text": [
      "Number of documents in the vectorstore: 318\n"
     ]
    }
   ],
   "source": [
    "num_docs = vector_store.client.count(index=index_name)['count']\n",
    "print(f\"Number of documents in the vectorstore: {num_docs}\")\n"
   ]
  },
  {
   "cell_type": "markdown",
   "metadata": {},
   "source": [
    "## Hybrid Retrieval"
   ]
  },
  {
   "cell_type": "code",
   "execution_count": 48,
   "metadata": {},
   "outputs": [],
   "source": [
    "from typing import Dict\n",
    "from langchain_elasticsearch import ElasticsearchRetriever\n",
    "from elasticsearch import Elasticsearch"
   ]
  },
  {
   "cell_type": "code",
   "execution_count": 49,
   "metadata": {},
   "outputs": [],
   "source": [
    "index_name = \"ecom-law0\"\n",
    "text_field = \"text\"\n",
    "es_url = \"https://my-elasticsearch-deployment.es.ap-east-1.aws.elastic-cloud.com\""
   ]
  },
  {
   "cell_type": "code",
   "execution_count": 50,
   "metadata": {},
   "outputs": [],
   "source": [
    "# --- Định nghĩa hàm hybrid_query ---\n",
    "def hybrid_query(search_query: str) -> Dict:\n",
    "    # Sử dụng embed_query để tạo vector cho truy vấn\n",
    "    query_vector = embd.embed_query(search_query)\n",
    "    return {\n",
    "        \"retriever\": {\n",
    "            \"rrf\": {  # Rank Reciprocal Fusion: kết hợp hai truy vấn theo kiểu \"should\"\n",
    "                \"retrievers\": [\n",
    "                    {  # Thành phần full text search: dùng match query trên trường \"text\"\n",
    "                        \"standard\": {\n",
    "                            \"query\": {\n",
    "                                \"match\": {\n",
    "                                    text_field: search_query\n",
    "                                }\n",
    "                            }\n",
    "                        }\n",
    "                    },\n",
    "                    {  # Thành phần vector search: dùng knn query trên trường \"embedding_field\"\n",
    "                        \"knn\": {\n",
    "                            \"field\": \"embedding_field\",  # Điều chỉnh nếu mapping của bạn dùng tên khác\n",
    "                            \"query_vector\": query_vector,\n",
    "                            \"k\": 5,\n",
    "                            \"num_candidates\": 10\n",
    "                        }\n",
    "                    }\n",
    "                ]\n",
    "            }\n",
    "        }\n",
    "    }\n"
   ]
  },
  {
   "cell_type": "code",
   "execution_count": 51,
   "metadata": {},
   "outputs": [
    {
     "name": "stdout",
     "output_type": "stream",
     "text": [
      "ElasticSearch Cluster Info:\n",
      "{'name': 'instance-0000000001', 'cluster_name': '60240a3594e94236932bcb401f2eff13', 'cluster_uuid': 'nvcaKx7WRZCEdKsZ-3nr0w', 'version': {'number': '8.17.4', 'build_flavor': 'default', 'build_type': 'docker', 'build_hash': 'c63c7f5f8ce7d2e4805b7b3d842e7e792d84dda1', 'build_date': '2025-03-20T15:39:59.811110136Z', 'build_snapshot': False, 'lucene_version': '9.12.0', 'minimum_wire_compatibility_version': '7.17.0', 'minimum_index_compatibility_version': '7.0.0'}, 'tagline': 'You Know, for Search'}\n"
     ]
    }
   ],
   "source": [
    "# --- Thiết lập Elasticsearch client với xác thực ---\n",
    "from elasticsearch import Elasticsearch\n",
    "headers = {\"Authorization\": \"ApiKey \" + elastic_api_key.strip()}\n",
    "es_client = Elasticsearch(\n",
    "    hosts=[es_url],\n",
    "    headers=headers\n",
    ")\n",
    "print(\"ElasticSearch Cluster Info:\")\n",
    "print(es_client.info())"
   ]
  },
  {
   "cell_type": "code",
   "execution_count": 52,
   "metadata": {},
   "outputs": [],
   "source": [
    "from langchain_elasticsearch import ElasticsearchRetriever\n",
    "hybrid_retriever = ElasticsearchRetriever.from_es_params(\n",
    "    index_name=index_name,\n",
    "    body_func=hybrid_query,\n",
    "    content_field=text_field,  # Trường chứa nội dung văn bản trong index\n",
    "    url=es_url,\n",
    "    api_key=elastic_api_key.strip()\n",
    ")\n"
   ]
  },
  {
   "cell_type": "markdown",
   "metadata": {},
   "source": [
    "## Prompting"
   ]
  },
  {
   "cell_type": "code",
   "execution_count": 53,
   "metadata": {},
   "outputs": [],
   "source": [
    "from langchain.prompts import PromptTemplate\n",
    "\n",
    "prompt_template = \"\"\"\n",
    "Bạn là một chuyên gia pháp lý hàng đầu, chuyên sâu về **Luật Thương mại của Việt Nam**, đồng thời am hiểu đầy đủ và chính xác các **bộ luật khác của Việt Nam** như: Bộ luật Dân sự, Luật Doanh nghiệp, Luật Trọng tài thương mại, Luật Đầu tư, Luật Sở hữu trí tuệ, v.v.\n",
    "\n",
    "Bạn có nhiều năm kinh nghiệm giảng dạy, tư vấn và giải quyết tranh chấp pháp lý trong môi trường thực tiễn tại Việt Nam.\n",
    "\n",
    "---\n",
    "\n",
    "### ❓ Câu hỏi pháp lý:\n",
    "{query}\n",
    "\n",
    "---\n",
    "\n",
    "### 📚 Thông tin pháp lý được truy xuất từ văn bản:\n",
    "(Chỉ sử dụng thông tin trong phần này. Nếu không đủ căn cứ, hãy nói rõ.)\n",
    "------------------------------------------------\n",
    "{retrieved_context}\n",
    "------------------------------------------------\n",
    "\n",
    "---\n",
    "\n",
    "### 🎯 Nhiệm vụ của bạn:\n",
    "\n",
    "1. **Phân tích câu hỏi** để xác định vấn đề pháp lý cốt lõi và các quy định cần xem xét.\n",
    "2. **Chỉ dựa trên thông tin được truy xuất ở trên**, đưa ra phân tích pháp lý chi tiết, có **trích dẫn đúng điều/khoản/bộ luật** theo định dạng chuẩn: `\"Điều X, Khoản Y, Luật Z: ...\"`.\n",
    "3. **Tuyệt đối không suy diễn hoặc tự tạo nội dung luật** nếu không có trong context.\n",
    "4. Nếu có nhiều cách hiểu/phương án, hãy liệt kê và **so sánh khách quan** (ưu/nhược điểm).\n",
    "5. **Đưa ví dụ minh họa** cụ thể nếu có thể.\n",
    "6. **Tổng hợp và trả lời rõ ràng, có logic**, trình bày theo **cấu trúc với tiêu đề phụ**.\n",
    "\n",
    "---\n",
    "\n",
    "### 📝 Trả lời:\n",
    "\"\"\"\n"
   ]
  },
  {
   "cell_type": "code",
   "execution_count": 54,
   "metadata": {},
   "outputs": [],
   "source": [
    "prompt = PromptTemplate(template=prompt_template, input_variables=[\"retrieved_context\", \"query\"])"
   ]
  },
  {
   "cell_type": "markdown",
   "metadata": {},
   "source": [
    "## Post Processing"
   ]
  },
  {
   "cell_type": "code",
   "execution_count": 55,
   "metadata": {},
   "outputs": [],
   "source": [
    "import re\n",
    "def postprocess_legal_output(raw_output: str) -> str:\n",
    "    # Tách các phần bằng tiêu đề hoặc keyword thường gặp\n",
    "    question_section = \"\"\n",
    "    law_section = \"\"\n",
    "    analysis_section = \"\"\n",
    "    conclusion_section = \"\"\n",
    "    example_section = \"\"\n",
    "\n",
    "    # 1. Trích câu hỏi\n",
    "    q_match = re.search(r\"(Câu hỏi pháp lý.*?:)(.*?)(\\n|$)\", raw_output, re.IGNORECASE)\n",
    "    if q_match:\n",
    "        question_section = q_match.group(2).strip()\n",
    "    else:\n",
    "        question_section = \"Không xác định được câu hỏi.\"\n",
    "\n",
    "    # 2. Trích điều luật\n",
    "    law_match = re.search(r\"(Điều\\s+\\d+.*?:.*?)\\n\", raw_output, re.IGNORECASE | re.DOTALL)\n",
    "    if law_match:\n",
    "        law_section = law_match.group(1).strip()\n",
    "\n",
    "    # 3. Trích ví dụ minh họa\n",
    "    example_match = re.search(r\"(Ví dụ.*?:)(.*?)(Kết luận|$)\", raw_output, re.IGNORECASE | re.DOTALL)\n",
    "    if example_match:\n",
    "        example_section = example_match.group(2).strip()\n",
    "\n",
    "    # 4. Trích kết luận\n",
    "    conclusion_match = re.search(r\"(Kết luận.*?:?)(.*)\", raw_output, re.IGNORECASE | re.DOTALL)\n",
    "    if conclusion_match:\n",
    "        conclusion_section = conclusion_match.group(2).strip()\n",
    "\n",
    "    # 5. Phần phân tích còn lại (giữa luật và kết luận)\n",
    "    body_match = re.search(r\"(?:Điều.*?\\n)(.*?)(Ví dụ|Kết luận|$)\", raw_output, re.IGNORECASE | re.DOTALL)\n",
    "    if body_match:\n",
    "        analysis_section = body_match.group(1).strip()\n",
    "\n",
    "    # 6. Build lại format markdown rõ ràng\n",
    "    result = f\"\"\"\n",
    "## ❓ Phân tích câu hỏi\n",
    "Câu hỏi pháp lý đặt ra là:  \n",
    "**{question_section}**\n",
    "\n",
    "---\n",
    "\n",
    "## ⚖️ Phân tích pháp lý\n",
    "> **{law_section}**\n",
    "\n",
    "📌 {analysis_section}\n",
    "\n",
    "---\n",
    "\n",
    "## 🧠 Ví dụ minh họa\n",
    "> {example_section}\n",
    "\n",
    "---\n",
    "\n",
    "## ✅ Kết luận\n",
    "> {conclusion_section}\n",
    "\"\"\".strip()\n",
    "\n",
    "    return result"
   ]
  },
  {
   "cell_type": "markdown",
   "metadata": {},
   "source": [
    "## Retrieval\n"
   ]
  },
  {
   "cell_type": "markdown",
   "metadata": {},
   "source": [
    "### Test 1"
   ]
  },
  {
   "cell_type": "code",
   "execution_count": 56,
   "metadata": {},
   "outputs": [],
   "source": [
    "# --- Thực hiện retrieval ---\n",
    "query = \"Theo luật trọng tài thương mại, trọng tài nước ngoài là gì?\"\n",
    "retrieved_docs = hybrid_retriever.invoke(query)"
   ]
  },
  {
   "cell_type": "code",
   "execution_count": 57,
   "metadata": {},
   "outputs": [
    {
     "name": "stdout",
     "output_type": "stream",
     "text": [
      "18 CÔNG BÁO Số 1251 + 1252 Ngày 29-12-2015 Tòa án đã ra quyết định tuyên bố một người mất tích hoặc là đã chết có thẩm quyền giải quyết yêu cầu hủy bỏ quyết định tuyên bố một người mất tích hoặc là đã chết; d) Tòa án nơi người phải thi hành bản án, quyết định dân sự, hôn nhân và gia đình, kinh doanh, thương mại, lao động của Tòa án nước ngoài cư trú, làm việc, nếu người phải thi hành án là cá nhân hoặc nơi người phải thi hành án có trụ sở, nếu người phải thi hành án là cơ quan, tổ chức hoặc nơi có tài sản liên quan đến việc thi hành bản án, quyết định của Tòa án nước ngoài có thẩm quyền giải quyết yêu cầu công nhận và cho thi hành tại Việt Nam hoặc không công nhận bản án, quyết định dân sự, hôn nhân và gia đình, kinh doanh, thương mại, lao động của Tòa án nước ngoài; đ) Tòa án nơi người gửi đơn cư trú, làm việc, nếu người gửi đơn là cá nhân hoặc nơi người gửi đơn có trụ sở, nếu người gửi đơn là cơ quan, tổ chức có thẩm quyền giải quyết yêu cầu không công nhận bản án, quyết định dân sự, hôn nhân và gia đình, kinh doanh, thương mại, lao động của Tòa án nước ngoài không có yêu cầu thi hành tại Việt Nam; e) Tòa án nơi người phải thi hành phán quyết của Trọng tài nước ngoài cư trú, làm việc, nếu người phải thi hành là cá nhân hoặc nơi người phải thi hành có trụ sở, nếu người phải thi hành là cơ quan, tổ chức hoặc nơi có tài sản liên quan đến việc thi hành phán quyết của Trọng tài nước ngoài có thẩm quyền giải quyết yêu cầu công nhận và cho thi hành tại Việt Nam phán quyết của Trọng tài nước ngoài; g) Tòa án nơi việc đăng ký kết hôn trái pháp luật được thực hiện có thẩm quyền giải quyết yêu cầu hủy việc kết hôn trái pháp luật; h) Tòa án nơi một trong các bên thuận tình ly hôn, thỏa thuận nuôi con, chia tài sản khi ly hôn cư trú, làm việc có thẩm quyền giải quyết yêu cầu công nhận thuận tình ly hôn, thỏa thuận nuôi con, chia tài sản khi ly hôn; i) Tòa án nơi một trong các bên thỏa thuận về thay đổi người trực tiếp nuôi con sau khi ly hôn cư trú, làm việc có thẩm quyền giải quyết yêu cầu công nhận sự thỏa thuận về thay đổi người trực tiếp nuôi con sau khi ly hôn. Trường hợp cơ quan, tổ chức, cá nhân yêu cầu thay đổi người trực tiếp nuôi con sau khi ly hôn thì Tòa án nơi người con đang cư trú có thẩm quyền giải quyết; k) Tòa án nơi cha hoặc mẹ của con chưa thành niên cư trú, làm việc có thẩm quyền giải quyết yêu cầu hạn chế quyền của cha, mẹ đối với con chưa thành niên hoặc quyền thăm nom con sau khi ly hôn; l) Tòa án nơi cha, mẹ nuôi hoặc con nuôi cư trú, làm việc có thẩm quyền giải quyết yêu cầu chấm dứt việc nuôi con nuôi;\n",
      "\n",
      "CÔNG BÁO Số 564 + 565 ngày 25-9-2010 65 QUỐC HỘI _______ Luật số: 54 2010 QH12 CỘNG HÒA XÃ HỘI CHỦ NGHĨA VIỆT NAM Độc lập - Tự do - Hạnh phúc ________________________ LUẬT Trọng tài thương mại Căn cứ Hiến pháp nước Cộng hòa xã hội chủ nghĩa Việt Nam năm 1992 đã được sửa đổi, bổ sung một số điều theo Nghị quyết số 51 2001 QH10; Quốc hội ban hành Luật Trọng tài thương mại. Chương I NHỮNG QUY ĐỊNH CHUNG Điều 1. Phạm vi điều chỉnh Luật này quy định về thẩm quyền của Trọng tài thương mại, các hình thức trọng tài, tổ chức trọng tài, Trọng tài viên; trình tự, thủ tục trọng tài; quyền, nghĩa vụ và trách nhiệm của các bên trong tố tụng trọng tài; thẩm quyền của Tòa án đối với hoạt động trọng tài; tổ chức và hoạt động của Trọng tài nước ngoài tại Việt Nam, thi hành phán quyết trọng tài. Điều 2. Thẩm quyền giải quyết các tranh chấp của Trọng tài 1. Tranh chấp giữa các bên phát sinh từ hoạt động thương mại. 2. Tranh chấp phát sinh giữa các bên trong đó ít nhất một bên có hoạt động thương mại. 3. Tranh chấp khác giữa các bên mà pháp luật quy định được giải quyết bằng Trọng tài. Điều 3. Giải thích từ ngữ Trong Luật này, các từ ngữ dưới đây được hiểu như sau: 1. Trọng tài thương mại là phương thức giải quyết tranh chấp do các bên thỏa thuận và được tiến hành theo quy định của Luật này. 2. Thỏa thuận trọng tài là thỏa thuận giữa các bên về việc giải quyết bằng Trọng tài tranh chấp có thể phát sinh hoặc đã phát sinh. 3. Các bên tranh chấp là cá nhân, cơ quan, tổ chức Việt Nam hoặc nước ngoài tham gia tố tụng trọng tài với tư cách nguyên đơn, bị đơn. Ký bởi: Cổng Thông tin điện tử Chính phủ Email: thongtinchinhphu@chinhphu.vn Cơ quan: Văn phòng Chính phủ Thời gian ký: 22.01.2015 08:48:25 +07:00\n",
      "\n",
      "12 CÔNG BÁO Số 1251 + 1252 Ngày 29-12-2015 7. Yêu cầu công nhận thỏa thuận chấm dứt hiệu lực của việc chia tài sản chung trong thời kỳ hôn nhân đã được thực hiện theo bản án, quyết định của Tòa án. 8. Yêu cầu tuyên bố vô hiệu thỏa thuận về chế độ tài sản của vợ chồng theo quy định của pháp luật hôn nhân và gia đình. 9. Yêu cầu công nhận và cho thi hành tại Việt Nam hoặc không công nhận bản án, quyết định về hôn nhân và gia đình của Tòa án nước ngoài hoặc cơ quan khác có thẩm quyền của nước ngoài hoặc không công nhận bản án, quyết định về hôn nhân và gia đình của Tòa án nước ngoài hoặc cơ quan khác có thẩm quyền của nước ngoài không có yêu cầu thi hành tại Việt Nam. 10. Yêu cầu xác định cha, mẹ cho con hoặc con cho cha, mẹ theo quy định của pháp luật về hôn nhân và gia đình. 11. Các yêu cầu khác về hôn nhân và gia đình, trừ trường hợp thuộc thẩm quyền giải quyết của cơ quan, tổ chức khác theo quy định của pháp luật. Điều 30. Những tranh chấp về kinh doanh, thương mại thuộc thẩm quyền giải quyết của Tòa án 1. Tranh chấp phát sinh trong hoạt động kinh doanh, thương mại giữa cá nhân, tổ chức có đăng ký kinh doanh với nhau và đều có mục đích lợi nhuận. 2. Tranh chấp về quyền sở hữu trí tuệ, chuyển giao công nghệ giữa cá nhân, tổ chức với nhau và đều có mục đích lợi nhuận. 3. Tranh chấp giữa người chưa phải là thành viên công ty nhưng có giao dịch về chuyển nhượng phần vốn góp với công ty, thành viên công ty. 4. Tranh chấp giữa công ty với các thành viên của công ty; tranh chấp giữa công ty với người quản lý trong công ty trách nhiệm hữu hạn hoặc thành viên Hội đồng quản trị, giám đốc, tổng giám đốc trong công ty cổ phần, giữa các thành viên của công ty với nhau liên quan đến việc thành lập, hoạt động, giải thể, sáp nhập, hợp nhất, chia, tách, bàn giao tài sản của công ty, chuyển đổi hình thức tổ chức của công ty. 5. Các tranh chấp khác về kinh doanh, thương mại, trừ trường hợp thuộc thẩm quyền giải quyết của cơ quan, tổ chức khác theo quy định của pháp luật. Điều 31. Những yêu cầu về kinh doanh, thương mại thuộc thẩm quyền giải quyết của Tòa án 1. Yêu cầu hủy bỏ nghị quyết của Đại hội đồng cổ đông, nghị quyết của Hội đồng thành viên theo quy định của pháp luật về doanh nghiệp. 2. Yêu cầu liên quan đến việc Trọng tài thương mại Việt Nam giải quyết tranh chấp theo quy định của pháp luật về Trọng tài thương mại.\n",
      "\n",
      "66 CÔNG BÁO Số 564 + 565 ngày 25-9-2010 4. Tranh chấp có yếu tố nước ngoài là tranh chấp phát sinh trong quan hệ thương mại, quan hệ pháp luật khác có yếu tố nước ngoài được quy định tại Bộ luật Dân sự. 5. Trọng tài viên là người được các bên lựa chọn hoặc được Trung tâm trọng tài hoặc Tòa án chỉ định để giải quyết tranh chấp theo quy định của Luật này. 6. Trọng tài quy chế là hình thức giải quyết tranh chấp tại một Trung tâm trọng tài theo quy định của Luật này và quy tắc tố tụng của Trung tâm trọng tài đó. 7. Trọng tài vụ việc là hình thức giải quyết tranh chấp theo quy định của Luật này và trình tự, thủ tục do các bên thỏa thuận. 8. Địa điểm giải quyết tranh chấp là nơi Hội đồng trọng tài tiến hành giải quyết tranh chấp theo sự thỏa thuận lựa chọn của các bên hoặc do Hội đồng trọng tài quyết định nếu các bên không có thỏa thuận. Nếu địa điểm giải quyết tranh chấp được tiến hành trên lãnh thổ Việt Nam thì phán quyết phải được coi là tuyên tại Việt Nam mà không phụ thuộc vào nơi Hội đồng trọng tài tiến hành phiên họp để ra phán quyết đó. 9. Quyết định trọng tài là quyết định của Hội đồng trọng tài trong quá trình giải quyết tranh chấp. 10. Phán quyết trọng tài là quyết định của Hội đồng trọng tài giải quyết toàn bộ nội dung vụ tranh chấp và chấm dứt tố tụng trọng tài. 11. Trọng tài nước ngoài là Trọng tài được thành lập theo quy định của pháp luật trọng tài nước ngoài do các bên thỏa thuận lựa chọn để tiến hành giải quyết tranh chấp ở ngoài lãnh thổ Việt Nam hoặc trong lãnh thổ Việt Nam. 12. Phán quyết của trọng tài nước ngoài là phán quyết do Trọng tài nước ngoài tuyên ở ngoài lãnh thổ Việt Nam hoặc ở trong lãnh thổ Việt Nam để giải quyết tranh chấp do các bên thỏa thuận lựa chọn. Điều 4. Nguyên tắc giải quyết tranh chấp bằng Trọng tài 1. Trọng tài viên phải tôn trọng thỏa thuận của các bên nếu thỏa thuận đó không vi phạm điều cấm và trái đạo đức xã hội. 2. Trọng tài viên phải độc lập, khách quan, vô tư và tuân theo quy định của pháp luật. 3. Các bên tranh chấp đều bình đẳng về quyền và nghĩa vụ. Hội đồng trọng tài có trách nhiệm tạo điều kiện để họ thực hiện các quyền và nghĩa vụ của mình. 4. Giải quyết tranh chấp bằng Trọng tài được tiến hành không công khai, trừ trường hợp các bên có thỏa thuận khác. 5. Phán quyết trọng tài là chung thẩm.\n",
      "\n",
      "CÔNG BÁO Số 564 + 565 ngày 25-9-2010 99 5. Có con dấu mang tên Chi nhánh theo quy định của pháp luật Việt Nam. 6. Chỉ định Trọng tài viên để thành lập Hội đồng trọng tài theo ủy quyền của tổ chức trọng tài nước ngoài. 7. Cung cấp dịch vụ trọng tài, hòa giải và các phương thức giải quyết tranh chấp thương mại khác theo quy định của pháp luật. 8. Cung cấp các dịch vụ hành chính, văn phòng và các dịch vụ khác cho việc giải quyết tranh chấp của Hội đồng trọng tài nước ngoài. 9. Thu phí trọng tài và các khoản thu hợp pháp khác. 10. Trả thù lao cho Trọng tài viên. 11. Tổ chức bồi dưỡng nâng cao trình độ và kỹ năng giải quyết tranh chấp cho Trọng tài viên. 12. Lưu trữ hồ sơ, cung cấp các bản sao quyết định trọng tài theo yêu cầu của các bên tranh chấp hoặc cơ quan nhà nước có thẩm quyền của Việt Nam. 13. Hoạt động theo đúng lĩnh vực ghi trong Giấy phép thành lập, Giấy đăng ký hoạt động. 14. Chấp hành quy định của pháp luật Việt Nam có liên quan đến hoạt động của Chi nhánh. 15. Báo cáo định kỳ hàng năm về hoạt động của Chi nhánh với Sở Tư pháp nơi Chi nhánh đăng ký hoạt động. Điều 77. Văn phòng đại diện 1. Văn phòng đại diện là đơn vị phụ thuộc của Tổ chức trọng tài nước ngoài được thành lập và tìm kiếm, thúc đẩy cơ hội hoạt động trọng tài tại Việt Nam theo quy định của Luật này. 2. Tổ chức trọng tài nước ngoài phải chịu trách nhiệm về hoạt động của Văn phòng đại diện trước pháp luật Việt Nam. Điều 78. Quyền và nghĩa vụ của Văn phòng đại diện của Tổ chức trọng tài nước ngoài tại Việt Nam 1. Tìm kiếm, thúc đẩy các cơ hội hoạt động trọng tài của tổ chức mình tại Việt Nam. 2. Thuê trụ sở, thuê, mua các phương tiện, vật dụng cần thiết cho hoạt động của Văn phòng đại diện.\n",
      "\n",
      "88 CÔNG BÁO Số 865 + 866 Ngày 30-7-2023 c) Kiểm tra hoạt động của tổ chức xã hội tham gia bảo vệ quyền lợi người tiêu dùng thuộc thẩm quyền quản lý tại địa phương; d) Quản lý theo thẩm quyền đối với các chợ, trung tâm thương mại trên địa bàn để bảo vệ quyền lợi người tiêu dùng khi người tiêu dùng mua, sử dụng sản phẩm, hàng hóa, dịch vụ tại các địa điểm này; đ) Hướng dẫn chuyên môn, nghiệp vụ để Ủy ban nhân dân cấp xã thực hiện các biện pháp cần thiết để bảo vệ quyền lợi người tiêu dùng khi người tiêu dùng mua, sử dụng sản phẩm, hàng hóa, dịch vụ của các cá nhân hoạt động thương mại ngoài phạm vi chợ, trung tâm thương mại; e) Báo cáo kết quả thực hiện quản lý nhà nước về bảo vệ quyền lợi người tiêu dùng trên địa bàn theo định kỳ hoặc theo yêu cầu của cơ quan nhà nước có thẩm quyền cấp trên; g) Ban hành quy chế phối hợp quản lý nhà nước về bảo vệ quyền lợi người tiêu dùng tại các cơ quan nhà nước cấp huyện. 3. Ủy ban nhân dân cấp xã có trách nhiệm sau đây: a) Thực hiện trách nhiệm quy định tại điểm b khoản 2 Điều này tại địa phương; b) Kiểm tra hoạt động của các ban quản lý chợ, thương nhân kinh doanh chợ trên địa bàn trong việc thực hiện nội dung bảo vệ quyền lợi người tiêu dùng trong nội quy của chợ theo quy định của pháp luật. Trong trường hợp không có Ban quản lý chợ, thương nhân kinh doanh chợ thì Ủy ban nhân dân cấp xã có trách nhiệm thực hiện các biện pháp để bảo vệ quyền lợi người tiêu dùng trong phạm vi chợ; c) Quản lý, kiểm tra hoạt động của các cá nhân hoạt động thương mại độc lập, thường xuyên, không phải đăng ký kinh doanh hoạt động tại địa phương ngoài phạm vi chợ, trung tâm thương mại để bảo vệ quyền lợi người tiêu dùng; d) Tiếp nhận thông báo của tổ chức hoạt động bán hàng không tại địa điểm giao dịch thường xuyên và kiểm tra, theo dõi hoạt động bán hàng không tại địa điểm giao dịch thường xuyên trên địa bàn theo quy định của Luật này; đ) Xử lý vi phạm về bảo vệ quyền lợi người tiêu dùng theo thẩm quyền và theo quy định của pháp luật; e) Tuyên truyền, khuyến khích để cá nhân hoạt động thương mại trong phạm vi chợ, trung tâm thương mại; tạo điều kiện để cá nhân hoạt động kinh doanh trong phạm vi chợ.\n",
      "\n",
      "CÔNG BÁO Số 1251 + 1252 Ngày 29-12-2015 13 3. Yêu cầu bắt giữ tàu bay, tàu biển theo quy định của pháp luật về hàng không dân dụng Việt Nam, về hàng hải Việt Nam, trừ trường hợp bắt giữ tàu bay, tàu biển để bảo đảm giải quyết vụ án. 4. Yêu cầu công nhận và cho thi hành tại Việt Nam hoặc không công nhận bản án, quyết định kinh doanh, thương mại của Tòa án nước ngoài hoặc không công nhận bản án, quyết định kinh doanh, thương mại của Tòa án nước ngoài không có yêu cầu thi hành tại Việt Nam. 5. Yêu cầu công nhận và cho thi hành tại Việt Nam phán quyết kinh doanh, thương mại của Trọng tài nước ngoài. 6. Các yêu cầu khác về kinh doanh, thương mại, trừ trường hợp thuộc thẩm quyền giải quyết của cơ quan, tổ chức khác theo quy định của pháp luật. Điều 32. Những tranh chấp về lao động thuộc thẩm quyền giải quyết của Tòa án 1. Tranh chấp lao động cá nhân giữa người lao động với người sử dụng lao động phải thông qua thủ tục hòa giải của hòa giải viên lao động mà hòa giải thành nhưng các bên không thực hiện hoặc thực hiện không đúng, hòa giải không thành hoặc không hòa giải trong thời hạn do pháp luật quy định, trừ các tranh chấp lao động sau đây không bắt buộc phải qua thủ tục hòa giải: a) Về xử lý kỷ luật lao động theo hình thức sa thải hoặc tranh chấp về trường hợp bị đơn phương chấm dứt hợp đồng lao động; b) Về bồi thường thiệt hại, trợ cấp khi chấm dứt hợp đồng lao động; c) Giữa người giúp việc gia đình với người sử dụng lao động; d) Về bảo hiểm xã hội theo quy định của pháp luật về bảo hiểm xã hội, về bảo hiểm y tế theo quy định của pháp luật về bảo hiểm y tế, về bảo hiểm thất nghiệp theo quy định của pháp luật về việc làm, về bảo hiểm tai nạn lao động, bệnh nghề nghiệp theo quy định của pháp luật về an toàn, vệ sinh lao động; đ) Về bồi thường thiệt hại giữa người lao động với doanh nghiệp, đơn vị sự nghiệp công lập đưa người lao động đi làm việc ở nước ngoài theo hợp đồng. 2. Tranh chấp lao động tập thể về quyền giữa tập thể lao động với người sử dụng lao động theo quy định của pháp luật về lao động đã được Chủ tịch Ủy ban nhân dân cấp huyện giải quyết mà tập thể lao động hoặc người sử dụng lao động không đồng ý với quyết định đó hoặc quá thời hạn mà Chủ tịch Ủy ban nhân dân cấp huyện không giải quyết. 3. Tranh chấp liên quan đến lao động bao gồm: a) Tranh chấp về học nghề, tập nghề;\n",
      "\n",
      "CÔNG BÁO Số 1251 + 1252 Ngày 29-12-2015 15 Mục 2 THẨM QUYỀN CỦA TÒA ÁN CÁC CẤP Điều 35. Thẩm quyền của Tòa án nhân dân cấp huyện 1. Tòa án nhân dân cấp huyện có thẩm quyền giải quyết theo thủ tục sơ thẩm những tranh chấp sau đây: a) Tranh chấp về dân sự, hôn nhân và gia đình quy định tại Điều 26 và Điều 28 của Bộ luật này, trừ tranh chấp quy định tại khoản 7 Điều 26 của Bộ luật này; b) Tranh chấp về kinh doanh, thương mại quy định tại khoản 1 Điều 30 của Bộ luật này; c) Tranh chấp về lao động quy định tại Điều 32 của Bộ luật này. 2. Tòa án nhân dân cấp huyện có thẩm quyền giải quyết những yêu cầu sau đây: a) Yêu cầu về dân sự quy định tại các khoản 1, 2, 3, 4, 6, 7, 8, 9 và 10 Điều 27 của Bộ luật này; b) Yêu cầu về hôn nhân và gia đình quy định tại các khoản 1, 2, 3, 4, 5, 6, 7, 8, 10 và 11 Điều 29 của Bộ luật này; c) Yêu cầu về kinh doanh, thương mại quy định tại khoản 1 và khoản 6 Điều 31 của Bộ luật này; d) Yêu cầu về lao động quy định tại khoản 1 và khoản 5 Điều 33 của Bộ luật này. 3. Những tranh chấp, yêu cầu quy định tại khoản 1 và khoản 2 Điều này mà có đương sự hoặc tài sản ở nước ngoài hoặc cần phải ủy thác tư pháp cho cơ quan đại diện nước Cộng hòa xã hội chủ nghĩa Việt Nam ở nước ngoài, cho Tòa án, cơ quan có thẩm quyền của nước ngoài không thuộc thẩm quyền giải quyết của Tòa án nhân dân cấp huyện, trừ trường hợp quy định tại khoản 4 Điều này. 4. Tòa án nhân dân cấp huyện nơi cư trú của công dân Việt Nam hủy việc kết hôn trái pháp luật, giải quyết việc ly hôn, các tranh chấp về quyền và nghĩa vụ của vợ chồng, cha mẹ và con, về nhận cha, mẹ, con, nuôi con nuôi và giám hộ giữa công dân Việt Nam cư trú ở khu vực biên giới với công dân của nước láng giềng cùng cư trú ở khu vực biên giới với Việt Nam theo quy định của Bộ luật này và các quy định khác của pháp luật Việt Nam. Điều 36. Thẩm quyền của các Tòa chuyên trách Tòa án nhân dân cấp huyện 1. Tòa dân sự Tòa án nhân dân cấp huyện có thẩm quyền giải quyết theo thủ tục sơ thẩm những vụ việc về dân sự, kinh doanh, thương mại, lao động thuộc thẩm quyền của Tòa án nhân dân cấp huyện quy định tại Điều 35 của Bộ luật này. 2. Tòa gia đình và người chưa thành niên Tòa án nhân dân cấp huyện có thẩm quyền giải quyết theo thủ tục sơ thẩm những vụ việc về hôn nhân và gia đình thuộc thẩm quyền của Tòa án nhân dân cấp huyện quy định tại Điều 35 của Bộ luật này.\n",
      "\n",
      "CÔNG BÁO Số 289 + 290 Ngày 29-05-2013 31 đ) Có tiêu chí và quy trình đánh giá chính sách bảo vệ thông tin cá nhân tuân thủ các quy định của Bộ Công Thương. 2. Giấy phép hoạt động đánh giá và chứng nhận chính sách bảo vệ thông tin cá nhân trong thương mại điện tử có thời hạn theo đề nghị cấp phép. 3. Thương nhân, tổ chức bị thu hồi giấy phép hoạt động đánh giá và chứng nhận chính sách bảo vệ thông tin cá nhân trong những trường hợp sau: a) Có hành vi gian dối hoặc cung cấp thông tin giả mạo để được cấp giấy phép; b) Vi phạm quy trình và tiêu chí đánh giá đã được Bộ Công Thương thẩm định; c) Lợi dụng hoạt động đánh giá, chứng nhận chính sách bảo vệ thông tin cá nhân để thực hiện các hành vi nhằm thu lợi bất chính; d) Không triển khai dịch vụ sau 180 (một trăm tám mươi) ngày kể từ ngày được cấp phép. 4. Nghĩa vụ của thương nhân, tổ chức đánh giá và chứng nhận chính sách bảo vệ thông tin cá nhân trong thương mại điện tử: a) Giám sát sự tuân thủ của các thương nhân, tổ chức đã được chứng nhận về chính sách bảo vệ thông tin cá nhân; b) Phối hợp chặt chẽ với cơ quan quản lý nhà nước trong việc thanh tra, kiểm tra và xử lý các thương nhân, tổ chức đã được chứng nhận về chính sách bảo vệ thông tin cá nhân nhưng có dấu hiệu vi phạm pháp luật; c) Trước ngày 15 tháng 01 hàng năm, báo cáo Bộ Công Thương về kết quả đánh giá và chứng nhận chính sách bảo vệ thông tin cá nhân trong thương mại điện tử của năm trước đó. 5. Bộ Công Thương quy định cụ thể về tiêu chí, quy trình đánh giá và chứng nhận chính sách bảo vệ thông tin cá nhân, trình tự, thủ tục cấp, sửa đổi bổ sung, thu hồi giấy phép hoạt động cho các tổ chức này. 6. Công nhận tổ chức đánh giá và chứng nhận chính sách bảo vệ thông tin cá nhân nước ngoài: a) Chứng nhận về chính sách bảo vệ thông tin cá nhân trong thương mại điện tử do tổ chức đánh giá và chứng nhận chính sách bảo vệ thông tin cá nhân nước ngoài cấp được công nhận khi tổ chức đó được Bộ Công Thương cấp giấy công nhận; b) Tổ chức đánh giá và chứng nhận chính sách bảo vệ thông tin cá nhân nước ngoài được cấp giấy công nhận khi đáp ứng các điều kiện sau: - Tổ chức đó được cơ quan có thẩm quyền của nước mình cấp phép hoặc chứng nhận đủ điều kiện hoạt động trong lĩnh vực này;\n",
      "\n",
      "CÔNG BÁO Số 289 + 290 Ngày 29-05-2013 3 PHẦN VĂN BẢN QUY PHẠM PHÁP LUẬT CHÍNH PHỦ CHÍNH PHỦ Số: 52 2013 NĐ-CP CỘNG HÒA XÃ HỘI CHỦ NGHĨA VIỆT NAM Độc lập - Tự do - Hạnh phúc Hà Nội, ngày 16 tháng 5 năm 2013 NGHỊ ĐỊNH Về thương mại điện tử Căn cứ Luật Tổ chức Chính phủ ngày 25 tháng 12 năm 2001; Căn cứ Bộ Luật Dân sự ngày 14 tháng 6 năm 2005; Căn cứ Luật Thương mại ngày 14 tháng 6 năm 2005; Căn cứ Luật Giao dịch điện tử ngày 29 tháng 11 năm 2005; Căn cứ Luật Công nghệ thông tin ngày 29 tháng 6 năm 2006; Căn cứ Luật Cạnh tranh ngày 03 tháng 12 năm 2004; Căn cứ Luật Bảo vệ quyền lợi người tiêu dùng ngày 17 tháng 11 năm 2010; Theo đề nghị của Bộ trưởng Bộ Công Thương, Chính phủ ban hành Nghị định về thương mại điện tử. Chương I NHỮNG QUY ĐỊNH CHUNG Điều 1. Phạm vi điều chỉnh Nghị định này quy định về việc phát triển, ứng dụng và quản lý hoạt động thương mại điện tử. Điều 2. Đối tượng áp dụng 1. Nghị định này áp dụng đối với các thương nhân, tổ chức, cá nhân tham gia hoạt động thương mại điện tử trên lãnh thổ Việt Nam, bao gồm: a) Thương nhân, tổ chức, cá nhân Việt Nam; b) Cá nhân nước ngoài cư trú tại Việt Nam; c) Thương nhân, tổ chức nước ngoài có sự hiện diện tại Việt Nam thông qua hoạt động đầu tư, lập chi nhánh, văn phòng đại diện, hoặc thiết lập website dưới tên miền Việt Nam. Ký bởi: Cổng Thông tin điện tử Chính phủ Email: thongtinchinhphu@chinhphu.vn Cơ quan: Văn phòng Chính phủ Thời gian ký: 10.02.2015 09:58:46 +07:00\n"
     ]
    }
   ],
   "source": [
    "retrieved_context = \"\\n\\n\".join([doc.page_content for doc in retrieved_docs])\n",
    "print(retrieved_context)"
   ]
  },
  {
   "cell_type": "code",
   "execution_count": 58,
   "metadata": {},
   "outputs": [],
   "source": [
    "final_prompt = prompt.format(retrieved_context=retrieved_context, query=query)\n"
   ]
  },
  {
   "cell_type": "code",
   "execution_count": 59,
   "metadata": {},
   "outputs": [
    {
     "name": "stdout",
     "output_type": "stream",
     "text": [
      "\n",
      "Bạn là một chuyên gia pháp lý hàng đầu, chuyên sâu về **Luật Thương mại của Việt Nam**, đồng thời am hiểu đầy đủ và chính xác các **bộ luật khác của Việt Nam** như: Bộ luật Dân sự, Luật Doanh nghiệp, Luật Trọng tài thương mại, Luật Đầu tư, Luật Sở hữu trí tuệ, v.v.\n",
      "\n",
      "Bạn có nhiều năm kinh nghiệm giảng dạy, tư vấn và giải quyết tranh chấp pháp lý trong môi trường thực tiễn tại Việt Nam.\n",
      "\n",
      "---\n",
      "\n",
      "### ❓ Câu hỏi pháp lý:\n",
      "Theo luật trọng tài thương mại, trọng tài nước ngoài là gì?\n",
      "\n",
      "---\n",
      "\n",
      "### 📚 Thông tin pháp lý được truy xuất từ văn bản:\n",
      "(Chỉ sử dụng thông tin trong phần này. Nếu không đủ căn cứ, hãy nói rõ.)\n",
      "------------------------------------------------\n",
      "18 CÔNG BÁO Số 1251 + 1252 Ngày 29-12-2015 Tòa án đã ra quyết định tuyên bố một người mất tích hoặc là đã chết có thẩm quyền giải quyết yêu cầu hủy bỏ quyết định tuyên bố một người mất tích hoặc là đã chết; d) Tòa án nơi người phải thi hành bản án, quyết định dân sự, hôn nhân và gia đình, kinh doanh, thương mại, lao động của Tòa án nước ngoài cư trú, làm việc, nếu người phải thi hành án là cá nhân hoặc nơi người phải thi hành án có trụ sở, nếu người phải thi hành án là cơ quan, tổ chức hoặc nơi có tài sản liên quan đến việc thi hành bản án, quyết định của Tòa án nước ngoài có thẩm quyền giải quyết yêu cầu công nhận và cho thi hành tại Việt Nam hoặc không công nhận bản án, quyết định dân sự, hôn nhân và gia đình, kinh doanh, thương mại, lao động của Tòa án nước ngoài; đ) Tòa án nơi người gửi đơn cư trú, làm việc, nếu người gửi đơn là cá nhân hoặc nơi người gửi đơn có trụ sở, nếu người gửi đơn là cơ quan, tổ chức có thẩm quyền giải quyết yêu cầu không công nhận bản án, quyết định dân sự, hôn nhân và gia đình, kinh doanh, thương mại, lao động của Tòa án nước ngoài không có yêu cầu thi hành tại Việt Nam; e) Tòa án nơi người phải thi hành phán quyết của Trọng tài nước ngoài cư trú, làm việc, nếu người phải thi hành là cá nhân hoặc nơi người phải thi hành có trụ sở, nếu người phải thi hành là cơ quan, tổ chức hoặc nơi có tài sản liên quan đến việc thi hành phán quyết của Trọng tài nước ngoài có thẩm quyền giải quyết yêu cầu công nhận và cho thi hành tại Việt Nam phán quyết của Trọng tài nước ngoài; g) Tòa án nơi việc đăng ký kết hôn trái pháp luật được thực hiện có thẩm quyền giải quyết yêu cầu hủy việc kết hôn trái pháp luật; h) Tòa án nơi một trong các bên thuận tình ly hôn, thỏa thuận nuôi con, chia tài sản khi ly hôn cư trú, làm việc có thẩm quyền giải quyết yêu cầu công nhận thuận tình ly hôn, thỏa thuận nuôi con, chia tài sản khi ly hôn; i) Tòa án nơi một trong các bên thỏa thuận về thay đổi người trực tiếp nuôi con sau khi ly hôn cư trú, làm việc có thẩm quyền giải quyết yêu cầu công nhận sự thỏa thuận về thay đổi người trực tiếp nuôi con sau khi ly hôn. Trường hợp cơ quan, tổ chức, cá nhân yêu cầu thay đổi người trực tiếp nuôi con sau khi ly hôn thì Tòa án nơi người con đang cư trú có thẩm quyền giải quyết; k) Tòa án nơi cha hoặc mẹ của con chưa thành niên cư trú, làm việc có thẩm quyền giải quyết yêu cầu hạn chế quyền của cha, mẹ đối với con chưa thành niên hoặc quyền thăm nom con sau khi ly hôn; l) Tòa án nơi cha, mẹ nuôi hoặc con nuôi cư trú, làm việc có thẩm quyền giải quyết yêu cầu chấm dứt việc nuôi con nuôi;\n",
      "\n",
      "CÔNG BÁO Số 564 + 565 ngày 25-9-2010 65 QUỐC HỘI _______ Luật số: 54 2010 QH12 CỘNG HÒA XÃ HỘI CHỦ NGHĨA VIỆT NAM Độc lập - Tự do - Hạnh phúc ________________________ LUẬT Trọng tài thương mại Căn cứ Hiến pháp nước Cộng hòa xã hội chủ nghĩa Việt Nam năm 1992 đã được sửa đổi, bổ sung một số điều theo Nghị quyết số 51 2001 QH10; Quốc hội ban hành Luật Trọng tài thương mại. Chương I NHỮNG QUY ĐỊNH CHUNG Điều 1. Phạm vi điều chỉnh Luật này quy định về thẩm quyền của Trọng tài thương mại, các hình thức trọng tài, tổ chức trọng tài, Trọng tài viên; trình tự, thủ tục trọng tài; quyền, nghĩa vụ và trách nhiệm của các bên trong tố tụng trọng tài; thẩm quyền của Tòa án đối với hoạt động trọng tài; tổ chức và hoạt động của Trọng tài nước ngoài tại Việt Nam, thi hành phán quyết trọng tài. Điều 2. Thẩm quyền giải quyết các tranh chấp của Trọng tài 1. Tranh chấp giữa các bên phát sinh từ hoạt động thương mại. 2. Tranh chấp phát sinh giữa các bên trong đó ít nhất một bên có hoạt động thương mại. 3. Tranh chấp khác giữa các bên mà pháp luật quy định được giải quyết bằng Trọng tài. Điều 3. Giải thích từ ngữ Trong Luật này, các từ ngữ dưới đây được hiểu như sau: 1. Trọng tài thương mại là phương thức giải quyết tranh chấp do các bên thỏa thuận và được tiến hành theo quy định của Luật này. 2. Thỏa thuận trọng tài là thỏa thuận giữa các bên về việc giải quyết bằng Trọng tài tranh chấp có thể phát sinh hoặc đã phát sinh. 3. Các bên tranh chấp là cá nhân, cơ quan, tổ chức Việt Nam hoặc nước ngoài tham gia tố tụng trọng tài với tư cách nguyên đơn, bị đơn. Ký bởi: Cổng Thông tin điện tử Chính phủ Email: thongtinchinhphu@chinhphu.vn Cơ quan: Văn phòng Chính phủ Thời gian ký: 22.01.2015 08:48:25 +07:00\n",
      "\n",
      "12 CÔNG BÁO Số 1251 + 1252 Ngày 29-12-2015 7. Yêu cầu công nhận thỏa thuận chấm dứt hiệu lực của việc chia tài sản chung trong thời kỳ hôn nhân đã được thực hiện theo bản án, quyết định của Tòa án. 8. Yêu cầu tuyên bố vô hiệu thỏa thuận về chế độ tài sản của vợ chồng theo quy định của pháp luật hôn nhân và gia đình. 9. Yêu cầu công nhận và cho thi hành tại Việt Nam hoặc không công nhận bản án, quyết định về hôn nhân và gia đình của Tòa án nước ngoài hoặc cơ quan khác có thẩm quyền của nước ngoài hoặc không công nhận bản án, quyết định về hôn nhân và gia đình của Tòa án nước ngoài hoặc cơ quan khác có thẩm quyền của nước ngoài không có yêu cầu thi hành tại Việt Nam. 10. Yêu cầu xác định cha, mẹ cho con hoặc con cho cha, mẹ theo quy định của pháp luật về hôn nhân và gia đình. 11. Các yêu cầu khác về hôn nhân và gia đình, trừ trường hợp thuộc thẩm quyền giải quyết của cơ quan, tổ chức khác theo quy định của pháp luật. Điều 30. Những tranh chấp về kinh doanh, thương mại thuộc thẩm quyền giải quyết của Tòa án 1. Tranh chấp phát sinh trong hoạt động kinh doanh, thương mại giữa cá nhân, tổ chức có đăng ký kinh doanh với nhau và đều có mục đích lợi nhuận. 2. Tranh chấp về quyền sở hữu trí tuệ, chuyển giao công nghệ giữa cá nhân, tổ chức với nhau và đều có mục đích lợi nhuận. 3. Tranh chấp giữa người chưa phải là thành viên công ty nhưng có giao dịch về chuyển nhượng phần vốn góp với công ty, thành viên công ty. 4. Tranh chấp giữa công ty với các thành viên của công ty; tranh chấp giữa công ty với người quản lý trong công ty trách nhiệm hữu hạn hoặc thành viên Hội đồng quản trị, giám đốc, tổng giám đốc trong công ty cổ phần, giữa các thành viên của công ty với nhau liên quan đến việc thành lập, hoạt động, giải thể, sáp nhập, hợp nhất, chia, tách, bàn giao tài sản của công ty, chuyển đổi hình thức tổ chức của công ty. 5. Các tranh chấp khác về kinh doanh, thương mại, trừ trường hợp thuộc thẩm quyền giải quyết của cơ quan, tổ chức khác theo quy định của pháp luật. Điều 31. Những yêu cầu về kinh doanh, thương mại thuộc thẩm quyền giải quyết của Tòa án 1. Yêu cầu hủy bỏ nghị quyết của Đại hội đồng cổ đông, nghị quyết của Hội đồng thành viên theo quy định của pháp luật về doanh nghiệp. 2. Yêu cầu liên quan đến việc Trọng tài thương mại Việt Nam giải quyết tranh chấp theo quy định của pháp luật về Trọng tài thương mại.\n",
      "\n",
      "66 CÔNG BÁO Số 564 + 565 ngày 25-9-2010 4. Tranh chấp có yếu tố nước ngoài là tranh chấp phát sinh trong quan hệ thương mại, quan hệ pháp luật khác có yếu tố nước ngoài được quy định tại Bộ luật Dân sự. 5. Trọng tài viên là người được các bên lựa chọn hoặc được Trung tâm trọng tài hoặc Tòa án chỉ định để giải quyết tranh chấp theo quy định của Luật này. 6. Trọng tài quy chế là hình thức giải quyết tranh chấp tại một Trung tâm trọng tài theo quy định của Luật này và quy tắc tố tụng của Trung tâm trọng tài đó. 7. Trọng tài vụ việc là hình thức giải quyết tranh chấp theo quy định của Luật này và trình tự, thủ tục do các bên thỏa thuận. 8. Địa điểm giải quyết tranh chấp là nơi Hội đồng trọng tài tiến hành giải quyết tranh chấp theo sự thỏa thuận lựa chọn của các bên hoặc do Hội đồng trọng tài quyết định nếu các bên không có thỏa thuận. Nếu địa điểm giải quyết tranh chấp được tiến hành trên lãnh thổ Việt Nam thì phán quyết phải được coi là tuyên tại Việt Nam mà không phụ thuộc vào nơi Hội đồng trọng tài tiến hành phiên họp để ra phán quyết đó. 9. Quyết định trọng tài là quyết định của Hội đồng trọng tài trong quá trình giải quyết tranh chấp. 10. Phán quyết trọng tài là quyết định của Hội đồng trọng tài giải quyết toàn bộ nội dung vụ tranh chấp và chấm dứt tố tụng trọng tài. 11. Trọng tài nước ngoài là Trọng tài được thành lập theo quy định của pháp luật trọng tài nước ngoài do các bên thỏa thuận lựa chọn để tiến hành giải quyết tranh chấp ở ngoài lãnh thổ Việt Nam hoặc trong lãnh thổ Việt Nam. 12. Phán quyết của trọng tài nước ngoài là phán quyết do Trọng tài nước ngoài tuyên ở ngoài lãnh thổ Việt Nam hoặc ở trong lãnh thổ Việt Nam để giải quyết tranh chấp do các bên thỏa thuận lựa chọn. Điều 4. Nguyên tắc giải quyết tranh chấp bằng Trọng tài 1. Trọng tài viên phải tôn trọng thỏa thuận của các bên nếu thỏa thuận đó không vi phạm điều cấm và trái đạo đức xã hội. 2. Trọng tài viên phải độc lập, khách quan, vô tư và tuân theo quy định của pháp luật. 3. Các bên tranh chấp đều bình đẳng về quyền và nghĩa vụ. Hội đồng trọng tài có trách nhiệm tạo điều kiện để họ thực hiện các quyền và nghĩa vụ của mình. 4. Giải quyết tranh chấp bằng Trọng tài được tiến hành không công khai, trừ trường hợp các bên có thỏa thuận khác. 5. Phán quyết trọng tài là chung thẩm.\n",
      "\n",
      "CÔNG BÁO Số 564 + 565 ngày 25-9-2010 99 5. Có con dấu mang tên Chi nhánh theo quy định của pháp luật Việt Nam. 6. Chỉ định Trọng tài viên để thành lập Hội đồng trọng tài theo ủy quyền của tổ chức trọng tài nước ngoài. 7. Cung cấp dịch vụ trọng tài, hòa giải và các phương thức giải quyết tranh chấp thương mại khác theo quy định của pháp luật. 8. Cung cấp các dịch vụ hành chính, văn phòng và các dịch vụ khác cho việc giải quyết tranh chấp của Hội đồng trọng tài nước ngoài. 9. Thu phí trọng tài và các khoản thu hợp pháp khác. 10. Trả thù lao cho Trọng tài viên. 11. Tổ chức bồi dưỡng nâng cao trình độ và kỹ năng giải quyết tranh chấp cho Trọng tài viên. 12. Lưu trữ hồ sơ, cung cấp các bản sao quyết định trọng tài theo yêu cầu của các bên tranh chấp hoặc cơ quan nhà nước có thẩm quyền của Việt Nam. 13. Hoạt động theo đúng lĩnh vực ghi trong Giấy phép thành lập, Giấy đăng ký hoạt động. 14. Chấp hành quy định của pháp luật Việt Nam có liên quan đến hoạt động của Chi nhánh. 15. Báo cáo định kỳ hàng năm về hoạt động của Chi nhánh với Sở Tư pháp nơi Chi nhánh đăng ký hoạt động. Điều 77. Văn phòng đại diện 1. Văn phòng đại diện là đơn vị phụ thuộc của Tổ chức trọng tài nước ngoài được thành lập và tìm kiếm, thúc đẩy cơ hội hoạt động trọng tài tại Việt Nam theo quy định của Luật này. 2. Tổ chức trọng tài nước ngoài phải chịu trách nhiệm về hoạt động của Văn phòng đại diện trước pháp luật Việt Nam. Điều 78. Quyền và nghĩa vụ của Văn phòng đại diện của Tổ chức trọng tài nước ngoài tại Việt Nam 1. Tìm kiếm, thúc đẩy các cơ hội hoạt động trọng tài của tổ chức mình tại Việt Nam. 2. Thuê trụ sở, thuê, mua các phương tiện, vật dụng cần thiết cho hoạt động của Văn phòng đại diện.\n",
      "\n",
      "88 CÔNG BÁO Số 865 + 866 Ngày 30-7-2023 c) Kiểm tra hoạt động của tổ chức xã hội tham gia bảo vệ quyền lợi người tiêu dùng thuộc thẩm quyền quản lý tại địa phương; d) Quản lý theo thẩm quyền đối với các chợ, trung tâm thương mại trên địa bàn để bảo vệ quyền lợi người tiêu dùng khi người tiêu dùng mua, sử dụng sản phẩm, hàng hóa, dịch vụ tại các địa điểm này; đ) Hướng dẫn chuyên môn, nghiệp vụ để Ủy ban nhân dân cấp xã thực hiện các biện pháp cần thiết để bảo vệ quyền lợi người tiêu dùng khi người tiêu dùng mua, sử dụng sản phẩm, hàng hóa, dịch vụ của các cá nhân hoạt động thương mại ngoài phạm vi chợ, trung tâm thương mại; e) Báo cáo kết quả thực hiện quản lý nhà nước về bảo vệ quyền lợi người tiêu dùng trên địa bàn theo định kỳ hoặc theo yêu cầu của cơ quan nhà nước có thẩm quyền cấp trên; g) Ban hành quy chế phối hợp quản lý nhà nước về bảo vệ quyền lợi người tiêu dùng tại các cơ quan nhà nước cấp huyện. 3. Ủy ban nhân dân cấp xã có trách nhiệm sau đây: a) Thực hiện trách nhiệm quy định tại điểm b khoản 2 Điều này tại địa phương; b) Kiểm tra hoạt động của các ban quản lý chợ, thương nhân kinh doanh chợ trên địa bàn trong việc thực hiện nội dung bảo vệ quyền lợi người tiêu dùng trong nội quy của chợ theo quy định của pháp luật. Trong trường hợp không có Ban quản lý chợ, thương nhân kinh doanh chợ thì Ủy ban nhân dân cấp xã có trách nhiệm thực hiện các biện pháp để bảo vệ quyền lợi người tiêu dùng trong phạm vi chợ; c) Quản lý, kiểm tra hoạt động của các cá nhân hoạt động thương mại độc lập, thường xuyên, không phải đăng ký kinh doanh hoạt động tại địa phương ngoài phạm vi chợ, trung tâm thương mại để bảo vệ quyền lợi người tiêu dùng; d) Tiếp nhận thông báo của tổ chức hoạt động bán hàng không tại địa điểm giao dịch thường xuyên và kiểm tra, theo dõi hoạt động bán hàng không tại địa điểm giao dịch thường xuyên trên địa bàn theo quy định của Luật này; đ) Xử lý vi phạm về bảo vệ quyền lợi người tiêu dùng theo thẩm quyền và theo quy định của pháp luật; e) Tuyên truyền, khuyến khích để cá nhân hoạt động thương mại trong phạm vi chợ, trung tâm thương mại; tạo điều kiện để cá nhân hoạt động kinh doanh trong phạm vi chợ.\n",
      "\n",
      "CÔNG BÁO Số 1251 + 1252 Ngày 29-12-2015 13 3. Yêu cầu bắt giữ tàu bay, tàu biển theo quy định của pháp luật về hàng không dân dụng Việt Nam, về hàng hải Việt Nam, trừ trường hợp bắt giữ tàu bay, tàu biển để bảo đảm giải quyết vụ án. 4. Yêu cầu công nhận và cho thi hành tại Việt Nam hoặc không công nhận bản án, quyết định kinh doanh, thương mại của Tòa án nước ngoài hoặc không công nhận bản án, quyết định kinh doanh, thương mại của Tòa án nước ngoài không có yêu cầu thi hành tại Việt Nam. 5. Yêu cầu công nhận và cho thi hành tại Việt Nam phán quyết kinh doanh, thương mại của Trọng tài nước ngoài. 6. Các yêu cầu khác về kinh doanh, thương mại, trừ trường hợp thuộc thẩm quyền giải quyết của cơ quan, tổ chức khác theo quy định của pháp luật. Điều 32. Những tranh chấp về lao động thuộc thẩm quyền giải quyết của Tòa án 1. Tranh chấp lao động cá nhân giữa người lao động với người sử dụng lao động phải thông qua thủ tục hòa giải của hòa giải viên lao động mà hòa giải thành nhưng các bên không thực hiện hoặc thực hiện không đúng, hòa giải không thành hoặc không hòa giải trong thời hạn do pháp luật quy định, trừ các tranh chấp lao động sau đây không bắt buộc phải qua thủ tục hòa giải: a) Về xử lý kỷ luật lao động theo hình thức sa thải hoặc tranh chấp về trường hợp bị đơn phương chấm dứt hợp đồng lao động; b) Về bồi thường thiệt hại, trợ cấp khi chấm dứt hợp đồng lao động; c) Giữa người giúp việc gia đình với người sử dụng lao động; d) Về bảo hiểm xã hội theo quy định của pháp luật về bảo hiểm xã hội, về bảo hiểm y tế theo quy định của pháp luật về bảo hiểm y tế, về bảo hiểm thất nghiệp theo quy định của pháp luật về việc làm, về bảo hiểm tai nạn lao động, bệnh nghề nghiệp theo quy định của pháp luật về an toàn, vệ sinh lao động; đ) Về bồi thường thiệt hại giữa người lao động với doanh nghiệp, đơn vị sự nghiệp công lập đưa người lao động đi làm việc ở nước ngoài theo hợp đồng. 2. Tranh chấp lao động tập thể về quyền giữa tập thể lao động với người sử dụng lao động theo quy định của pháp luật về lao động đã được Chủ tịch Ủy ban nhân dân cấp huyện giải quyết mà tập thể lao động hoặc người sử dụng lao động không đồng ý với quyết định đó hoặc quá thời hạn mà Chủ tịch Ủy ban nhân dân cấp huyện không giải quyết. 3. Tranh chấp liên quan đến lao động bao gồm: a) Tranh chấp về học nghề, tập nghề;\n",
      "\n",
      "CÔNG BÁO Số 1251 + 1252 Ngày 29-12-2015 15 Mục 2 THẨM QUYỀN CỦA TÒA ÁN CÁC CẤP Điều 35. Thẩm quyền của Tòa án nhân dân cấp huyện 1. Tòa án nhân dân cấp huyện có thẩm quyền giải quyết theo thủ tục sơ thẩm những tranh chấp sau đây: a) Tranh chấp về dân sự, hôn nhân và gia đình quy định tại Điều 26 và Điều 28 của Bộ luật này, trừ tranh chấp quy định tại khoản 7 Điều 26 của Bộ luật này; b) Tranh chấp về kinh doanh, thương mại quy định tại khoản 1 Điều 30 của Bộ luật này; c) Tranh chấp về lao động quy định tại Điều 32 của Bộ luật này. 2. Tòa án nhân dân cấp huyện có thẩm quyền giải quyết những yêu cầu sau đây: a) Yêu cầu về dân sự quy định tại các khoản 1, 2, 3, 4, 6, 7, 8, 9 và 10 Điều 27 của Bộ luật này; b) Yêu cầu về hôn nhân và gia đình quy định tại các khoản 1, 2, 3, 4, 5, 6, 7, 8, 10 và 11 Điều 29 của Bộ luật này; c) Yêu cầu về kinh doanh, thương mại quy định tại khoản 1 và khoản 6 Điều 31 của Bộ luật này; d) Yêu cầu về lao động quy định tại khoản 1 và khoản 5 Điều 33 của Bộ luật này. 3. Những tranh chấp, yêu cầu quy định tại khoản 1 và khoản 2 Điều này mà có đương sự hoặc tài sản ở nước ngoài hoặc cần phải ủy thác tư pháp cho cơ quan đại diện nước Cộng hòa xã hội chủ nghĩa Việt Nam ở nước ngoài, cho Tòa án, cơ quan có thẩm quyền của nước ngoài không thuộc thẩm quyền giải quyết của Tòa án nhân dân cấp huyện, trừ trường hợp quy định tại khoản 4 Điều này. 4. Tòa án nhân dân cấp huyện nơi cư trú của công dân Việt Nam hủy việc kết hôn trái pháp luật, giải quyết việc ly hôn, các tranh chấp về quyền và nghĩa vụ của vợ chồng, cha mẹ và con, về nhận cha, mẹ, con, nuôi con nuôi và giám hộ giữa công dân Việt Nam cư trú ở khu vực biên giới với công dân của nước láng giềng cùng cư trú ở khu vực biên giới với Việt Nam theo quy định của Bộ luật này và các quy định khác của pháp luật Việt Nam. Điều 36. Thẩm quyền của các Tòa chuyên trách Tòa án nhân dân cấp huyện 1. Tòa dân sự Tòa án nhân dân cấp huyện có thẩm quyền giải quyết theo thủ tục sơ thẩm những vụ việc về dân sự, kinh doanh, thương mại, lao động thuộc thẩm quyền của Tòa án nhân dân cấp huyện quy định tại Điều 35 của Bộ luật này. 2. Tòa gia đình và người chưa thành niên Tòa án nhân dân cấp huyện có thẩm quyền giải quyết theo thủ tục sơ thẩm những vụ việc về hôn nhân và gia đình thuộc thẩm quyền của Tòa án nhân dân cấp huyện quy định tại Điều 35 của Bộ luật này.\n",
      "\n",
      "CÔNG BÁO Số 289 + 290 Ngày 29-05-2013 31 đ) Có tiêu chí và quy trình đánh giá chính sách bảo vệ thông tin cá nhân tuân thủ các quy định của Bộ Công Thương. 2. Giấy phép hoạt động đánh giá và chứng nhận chính sách bảo vệ thông tin cá nhân trong thương mại điện tử có thời hạn theo đề nghị cấp phép. 3. Thương nhân, tổ chức bị thu hồi giấy phép hoạt động đánh giá và chứng nhận chính sách bảo vệ thông tin cá nhân trong những trường hợp sau: a) Có hành vi gian dối hoặc cung cấp thông tin giả mạo để được cấp giấy phép; b) Vi phạm quy trình và tiêu chí đánh giá đã được Bộ Công Thương thẩm định; c) Lợi dụng hoạt động đánh giá, chứng nhận chính sách bảo vệ thông tin cá nhân để thực hiện các hành vi nhằm thu lợi bất chính; d) Không triển khai dịch vụ sau 180 (một trăm tám mươi) ngày kể từ ngày được cấp phép. 4. Nghĩa vụ của thương nhân, tổ chức đánh giá và chứng nhận chính sách bảo vệ thông tin cá nhân trong thương mại điện tử: a) Giám sát sự tuân thủ của các thương nhân, tổ chức đã được chứng nhận về chính sách bảo vệ thông tin cá nhân; b) Phối hợp chặt chẽ với cơ quan quản lý nhà nước trong việc thanh tra, kiểm tra và xử lý các thương nhân, tổ chức đã được chứng nhận về chính sách bảo vệ thông tin cá nhân nhưng có dấu hiệu vi phạm pháp luật; c) Trước ngày 15 tháng 01 hàng năm, báo cáo Bộ Công Thương về kết quả đánh giá và chứng nhận chính sách bảo vệ thông tin cá nhân trong thương mại điện tử của năm trước đó. 5. Bộ Công Thương quy định cụ thể về tiêu chí, quy trình đánh giá và chứng nhận chính sách bảo vệ thông tin cá nhân, trình tự, thủ tục cấp, sửa đổi bổ sung, thu hồi giấy phép hoạt động cho các tổ chức này. 6. Công nhận tổ chức đánh giá và chứng nhận chính sách bảo vệ thông tin cá nhân nước ngoài: a) Chứng nhận về chính sách bảo vệ thông tin cá nhân trong thương mại điện tử do tổ chức đánh giá và chứng nhận chính sách bảo vệ thông tin cá nhân nước ngoài cấp được công nhận khi tổ chức đó được Bộ Công Thương cấp giấy công nhận; b) Tổ chức đánh giá và chứng nhận chính sách bảo vệ thông tin cá nhân nước ngoài được cấp giấy công nhận khi đáp ứng các điều kiện sau: - Tổ chức đó được cơ quan có thẩm quyền của nước mình cấp phép hoặc chứng nhận đủ điều kiện hoạt động trong lĩnh vực này;\n",
      "\n",
      "CÔNG BÁO Số 289 + 290 Ngày 29-05-2013 3 PHẦN VĂN BẢN QUY PHẠM PHÁP LUẬT CHÍNH PHỦ CHÍNH PHỦ Số: 52 2013 NĐ-CP CỘNG HÒA XÃ HỘI CHỦ NGHĨA VIỆT NAM Độc lập - Tự do - Hạnh phúc Hà Nội, ngày 16 tháng 5 năm 2013 NGHỊ ĐỊNH Về thương mại điện tử Căn cứ Luật Tổ chức Chính phủ ngày 25 tháng 12 năm 2001; Căn cứ Bộ Luật Dân sự ngày 14 tháng 6 năm 2005; Căn cứ Luật Thương mại ngày 14 tháng 6 năm 2005; Căn cứ Luật Giao dịch điện tử ngày 29 tháng 11 năm 2005; Căn cứ Luật Công nghệ thông tin ngày 29 tháng 6 năm 2006; Căn cứ Luật Cạnh tranh ngày 03 tháng 12 năm 2004; Căn cứ Luật Bảo vệ quyền lợi người tiêu dùng ngày 17 tháng 11 năm 2010; Theo đề nghị của Bộ trưởng Bộ Công Thương, Chính phủ ban hành Nghị định về thương mại điện tử. Chương I NHỮNG QUY ĐỊNH CHUNG Điều 1. Phạm vi điều chỉnh Nghị định này quy định về việc phát triển, ứng dụng và quản lý hoạt động thương mại điện tử. Điều 2. Đối tượng áp dụng 1. Nghị định này áp dụng đối với các thương nhân, tổ chức, cá nhân tham gia hoạt động thương mại điện tử trên lãnh thổ Việt Nam, bao gồm: a) Thương nhân, tổ chức, cá nhân Việt Nam; b) Cá nhân nước ngoài cư trú tại Việt Nam; c) Thương nhân, tổ chức nước ngoài có sự hiện diện tại Việt Nam thông qua hoạt động đầu tư, lập chi nhánh, văn phòng đại diện, hoặc thiết lập website dưới tên miền Việt Nam. Ký bởi: Cổng Thông tin điện tử Chính phủ Email: thongtinchinhphu@chinhphu.vn Cơ quan: Văn phòng Chính phủ Thời gian ký: 10.02.2015 09:58:46 +07:00\n",
      "------------------------------------------------\n",
      "\n",
      "---\n",
      "\n",
      "### 🎯 Nhiệm vụ của bạn:\n",
      "\n",
      "1. **Phân tích câu hỏi** để xác định vấn đề pháp lý cốt lõi và các quy định cần xem xét.\n",
      "2. **Chỉ dựa trên thông tin được truy xuất ở trên**, đưa ra phân tích pháp lý chi tiết, có **trích dẫn đúng điều/khoản/bộ luật** theo định dạng chuẩn: `\"Điều X, Khoản Y, Luật Z: ...\"`.\n",
      "3. **Tuyệt đối không suy diễn hoặc tự tạo nội dung luật** nếu không có trong context.\n",
      "4. Nếu có nhiều cách hiểu/phương án, hãy liệt kê và **so sánh khách quan** (ưu/nhược điểm).\n",
      "5. **Đưa ví dụ minh họa** cụ thể nếu có thể.\n",
      "6. **Tổng hợp và trả lời rõ ràng, có logic**, trình bày theo **cấu trúc với tiêu đề phụ**.\n",
      "\n",
      "---\n",
      "\n",
      "### 📝 Trả lời:\n",
      "\n"
     ]
    }
   ],
   "source": [
    "print(final_prompt)"
   ]
  },
  {
   "cell_type": "code",
   "execution_count": 60,
   "metadata": {},
   "outputs": [
    {
     "name": "stdout",
     "output_type": "stream",
     "text": [
      "**Trọng tài nước ngoài là gì?**\n",
      "\n",
      "Theo quy định tại Điều 3, Khoản 11, Luật Trọng tài thương mại: \"Trọng tài nước ngoài là Trọng tài được thành lập theo quy định của pháp luật trọng tài nước ngoài do các bên thỏa thuận lựa chọn để tiến hành giải quyết tranh chấp ở ngoài lãnh thổ Việt Nam hoặc trong lãnh thổ Việt Nam.\"\n",
      "\n",
      "Như vậy, trọng tài nước ngoài là một tổ chức trọng tài được thành lập và hoạt động theo pháp luật của nước ngoài, nhưng có thể tiến hành giải quyết tranh chấp tại Việt Nam nếu các bên có thỏa thuận lựa chọn.\n",
      "\n",
      "**Ví dụ minh họa:**\n",
      "\n",
      "Công ty A của Việt Nam và Công ty B của Nhật Bản có một hợp đồng thương mại và thỏa thuận giải quyết tranh chấp bằng trọng tài tại Tokyo, Nhật Bản. Trong trường hợp này, trọng tài Tokyo sẽ được coi là trọng tài nước ngoài vì nó được thành lập và hoạt động theo pháp luật của Nhật Bản, nhưng vẫn có thể giải quyết tranh chấp giữa hai công ty tại Việt Nam.\n"
     ]
    }
   ],
   "source": [
    "response = llm(final_prompt)\n",
    "print(response.content)"
   ]
  },
  {
   "cell_type": "markdown",
   "metadata": {},
   "source": [
    "### Test 2"
   ]
  },
  {
   "cell_type": "code",
   "execution_count": 63,
   "metadata": {},
   "outputs": [],
   "source": [
    "\n",
    "# --- Thực hiện retrieval ---\n",
    "query = \"Theo luật trọng tài thương mại, Quyết định trọng tài?\"\n",
    "retrieved_docs = hybrid_retriever.invoke(query)\n",
    "retrieved_context = \"\\n\\n\".join([doc.page_content for doc in retrieved_docs])"
   ]
  },
  {
   "cell_type": "code",
   "execution_count": 64,
   "metadata": {},
   "outputs": [],
   "source": [
    "final_prompt = prompt.format(retrieved_context=retrieved_context, query=query)"
   ]
  },
  {
   "cell_type": "code",
   "execution_count": 65,
   "metadata": {},
   "outputs": [
    {
     "name": "stdout",
     "output_type": "stream",
     "text": [
      "**Quyết định trọng tài**\n",
      "\n",
      "Theo Luật Trọng tài thương mại, quyết định trọng tài là kết quả cuối cùng của quá trình giải quyết tranh chấp bằng trọng tài. \n",
      "\n",
      "**Thẩm quyền giải quyết tranh chấp của Trọng tài**\n",
      "\n",
      "Điều 2, Luật Trọng tài thương mại quy định về thẩm quyền giải quyết tranh chấp của Trọng tài như sau:\n",
      "\n",
      "\"1. Tranh chấp giữa các bên phát sinh từ hoạt động thương mại.\n",
      "2. Tranh chấp phát sinh giữa các bên trong đó ít nhất một bên có hoạt động thương mại.\n",
      "3. Tranh chấp khác giữa các bên mà pháp luật quy định được giải quyết bằng Trọng tài.\"\n",
      "\n",
      "**Quyết định trọng tài**\n",
      "\n",
      "Không có quy định cụ thể về quyết định trọng tài trong các văn bản được cung cấp. Tuy nhiên, có thể hiểu rằng quyết định trọng tài là kết quả cuối cùng của quá trình giải quyết tranh chấp bằng trọng tài, được đưa ra bởi hội đồng trọng tài sau khi xem xét các bằng chứng và lập luận của các bên.\n",
      "\n",
      "**Giải quyết tranh chấp trong thương mại điện tử**\n",
      "\n",
      "Điều 76, Nghị định số 52/2013/NĐ-CP quy định về giải quyết tranh chấp trong thương mại điện tử như sau:\n",
      "\n",
      "\"1. Thương nhân, tổ chức, cá nhân sở hữu website thương mại điện tử bán hàng có trách nhiệm tiếp nhận và xử lý khiếu nại của khách hàng liên quan đến hợp đồng được giao kết trên website thương mại điện tử của mình.\n",
      "2. Tranh chấp giữa thương nhân, tổ chức, cá nhân bán hàng hóa và cung ứng dịch vụ với khách hàng trong quá trình thực hiện hợp đồng phải được giải quyết trên cơ sở các điều khoản của hợp đồng công bố tại website vào thời điểm giao kết hợp đồng và quy định của pháp luật có liên quan.\n",
      "3. Thương nhân, tổ chức, cá nhân bán hàng hóa và cung ứng dịch vụ không được lợi dụng các ưu thế của mình trên môi trường điện tử để đơn phương giải quyết những vấn đề tranh chấp khi chưa có sự đồng ý của khách hàng.\n",
      "4. Việc giải quyết tranh chấp phải thông qua thương lượng giữa các bên, hòa giải, trọng tài hoặc tòa án theo các thủ tục, quy định hiện hành về giải quyết tranh chấp.\"\n",
      "\n",
      "**Kết luận**\n",
      "\n",
      "Quyết định trọng tài là kết quả cuối cùng của quá trình giải quyết tranh chấp bằng trọng tài. Trong thương mại điện tử, giải quyết tranh chấp phải thông qua thương lượng giữa các bên, hòa giải, trọng tài hoặc tòa án theo các thủ tục, quy định hiện hành về giải quyết tranh chấp.\n"
     ]
    }
   ],
   "source": [
    "response = llm(final_prompt)\n",
    "print(response.content)"
   ]
  },
  {
   "cell_type": "markdown",
   "metadata": {},
   "source": [
    "### Test 3"
   ]
  },
  {
   "cell_type": "code",
   "execution_count": 66,
   "metadata": {},
   "outputs": [],
   "source": [
    "# --- Thực hiện retrieval ---\n",
    "query = '''Theo luật trọng tài thương mại,Đối với tranh chấp không có yếu tố nước ngoài, Hội đồng trọng tài có được áp dụng \n",
    "pháp luật Việt Nam để giải quyết tranh chấp hay không ?'''\n",
    "retrieved_docs = hybrid_retriever.invoke(query)\n",
    "retrieved_context = \"\\n\\n\".join([doc.page_content for doc in retrieved_docs])"
   ]
  },
  {
   "cell_type": "code",
   "execution_count": 67,
   "metadata": {},
   "outputs": [],
   "source": [
    "final_prompt = prompt.format(retrieved_context=retrieved_context, query=query)"
   ]
  },
  {
   "cell_type": "code",
   "execution_count": 68,
   "metadata": {},
   "outputs": [
    {
     "name": "stdout",
     "output_type": "stream",
     "text": [
      "**Phân tích câu hỏi**\n",
      "\n",
      "Câu hỏi pháp lý đặt ra là: Đối với tranh chấp không có yếu tố nước ngoài, Hội đồng trọng tài có được áp dụng pháp luật Việt Nam để giải quyết tranh chấp hay không?\n",
      "\n",
      "**Phân tích pháp lý**\n",
      "\n",
      "Theo quy định tại Điều 14, Luật Trọng tài thương mại, đối với tranh chấp không có yếu tố nước ngoài, Hội đồng trọng tài áp dụng pháp luật Việt Nam để giải quyết tranh chấp.\n",
      "\n",
      "\"Cụ thể, Điều 14, Luật Trọng tài thương mại quy định:\n",
      "\n",
      "1. Đối với tranh chấp không có yếu tố nước ngoài, Hội đồng trọng tài áp dụng pháp luật Việt Nam để giải quyết tranh chấp.\n",
      "2. Đối với tranh chấp có yếu tố nước ngoài, Hội đồng trọng tài áp dụng pháp luật do các bên lựa chọn; nếu các bên không có thỏa thuận về luật áp dụng thì Hội đồng trọng tài quyết định áp dụng pháp luật mà Hội đồng trọng tài cho là phù hợp nhất.\n",
      "3. Trường hợp pháp luật Việt Nam, pháp luật do các bên lựa chọn không có quy định cụ thể liên quan đến nội dung tranh chấp thì Hội đồng trọng tài được áp dụng tập quán quốc tế để giải quyết tranh chấp nếu việc áp dụng hoặc hậu quả của việc áp dụng đó không trái với các nguyên tắc cơ bản của pháp luật Việt Nam.\"\n",
      "\n",
      "**Kết luận**\n",
      "\n",
      "Như vậy, đối với tranh chấp không có yếu tố nước ngoài, Hội đồng trọng tài có thể áp dụng pháp luật Việt Nam để giải quyết tranh chấp.\n"
     ]
    }
   ],
   "source": [
    "response = llm(final_prompt)\n",
    "print(response.content)"
   ]
  },
  {
   "cell_type": "markdown",
   "metadata": {},
   "source": [
    "### Test 4"
   ]
  },
  {
   "cell_type": "code",
   "execution_count": 69,
   "metadata": {},
   "outputs": [],
   "source": [
    "# --- Thực hiện retrieval ---\n",
    "query = '''Luật trọng tài thương mại do ai ban hành'''\n",
    "retrieved_docs = hybrid_retriever.invoke(query)\n",
    "retrieved_context = \"\\n\\n\".join([doc.page_content for doc in retrieved_docs])"
   ]
  },
  {
   "cell_type": "code",
   "execution_count": 70,
   "metadata": {},
   "outputs": [
    {
     "name": "stdout",
     "output_type": "stream",
     "text": [
      "**Luật Trọng tài thương mại do ai ban hành**\n",
      "\n",
      "Không có thông tin cụ thể về việc Luật Trọng tài thương mại do ai ban hành trong văn bản được cung cấp. Tuy nhiên, thông thường, các bộ luật và nghị định ở Việt Nam được ban hành bởi Quốc hội hoặc Chính phủ.\n",
      "\n",
      "**Tìm kiếm thông tin liên quan**\n",
      "\n",
      "Trong văn bản được cung cấp, có một số thông tin liên quan đến thương mại điện tử, bảo vệ quyền lợi người tiêu dùng, và các quy định về hoạt động thương mại điện tử. Tuy nhiên, không có thông tin cụ thể về Luật Trọng tài thương mại.\n",
      "\n",
      "**Kết luận**\n",
      "\n",
      "Do không có thông tin cụ thể về việc Luật Trọng tài thương mại do ai ban hành trong văn bản được cung cấp, chúng tôi không thể đưa ra câu trả lời chính xác. Tuy nhiên, thông thường, các bộ luật và nghị định ở Việt Nam được ban hành bởi Quốc hội hoặc Chính phủ.\n"
     ]
    }
   ],
   "source": [
    "final_prompt = prompt.format(retrieved_context=retrieved_context, query=query)\n",
    "response = llm(final_prompt)\n",
    "print(response.content)"
   ]
  },
  {
   "cell_type": "markdown",
   "metadata": {},
   "source": [
    "### Test 5"
   ]
  },
  {
   "cell_type": "code",
   "execution_count": 71,
   "metadata": {},
   "outputs": [],
   "source": [
    "# --- Thực hiện retrieval ---\n",
    "query = '''Phán quyết của trọng tài trong luật trọng tài thương mại có hiệu lực như thế nào'''\n",
    "retrieved_docs = hybrid_retriever.invoke(query)\n",
    "retrieved_context = \"\\n\\n\".join([doc.page_content for doc in retrieved_docs])"
   ]
  },
  {
   "cell_type": "code",
   "execution_count": 72,
   "metadata": {},
   "outputs": [
    {
     "name": "stdout",
     "output_type": "stream",
     "text": [
      "**Phán quyết của trọng tài trong luật trọng tài thương mại có hiệu lực như thế nào**\n",
      "\n",
      "**1. Phạm vi điều chỉnh của Luật Trọng tài thương mại**\n",
      "\n",
      "Theo Điều 1, Luật Trọng tài thương mại quy định về thẩm quyền của Trọng tài thương mại, các hình thức trọng tài, tổ chức trọng tài, Trọng tài viên; trình tự, thủ tục trọng tài; quyền, nghĩa vụ và trách nhiệm của các bên trong tố tụng trọng tài; thẩm quyền của Tòa án đối với hoạt động trọng tài; tổ chức và hoạt động của Trọng tài nước ngoài tại Việt Nam, thi hành phán quyết trọng tài.\n",
      "\n",
      "**2. Thẩm quyền giải quyết các tranh chấp của Trọng tài**\n",
      "\n",
      "Theo Điều 2, Luật Trọng tài thương mại quy định rằng Trọng tài có thẩm quyền giải quyết các tranh chấp sau:\n",
      "\n",
      "* Tranh chấp giữa các bên phát sinh từ hoạt động thương mại.\n",
      "* Tranh chấp phát sinh giữa các bên trong đó ít nhất một bên có hoạt động thương mại.\n",
      "* Tranh chấp khác giữa các bên mà pháp luật quy định được giải quyết bằng Trọng tài.\n",
      "\n",
      "**3. Hiệu lực của phán quyết trọng tài**\n",
      "\n",
      "Không có quy định cụ thể về hiệu lực của phán quyết trọng tài trong các văn bản được cung cấp. Tuy nhiên, theo quy định chung của pháp luật Việt Nam, phán quyết trọng tài có hiệu lực thi hành sau khi được Tòa án công nhận.\n",
      "\n",
      "**Kết luận**\n",
      "\n",
      "Phán quyết của trọng tài trong luật trọng tài thương mại có hiệu lực thi hành sau khi được Tòa án công nhận. Tuy nhiên, cần tham khảo thêm các quy định cụ thể của Luật Trọng tài thương mại và các văn bản pháp luật liên quan để có thông tin chính xác và đầy đủ.\n"
     ]
    }
   ],
   "source": [
    "final_prompt = prompt.format(retrieved_context=retrieved_context, query=query)\n",
    "response = llm(final_prompt)\n",
    "print(response.content)"
   ]
  },
  {
   "cell_type": "markdown",
   "metadata": {},
   "source": [
    "### Test 6"
   ]
  },
  {
   "cell_type": "code",
   "execution_count": 73,
   "metadata": {},
   "outputs": [],
   "source": [
    "# --- Thực hiện retrieval ---\n",
    "query = '''Sự khác biệt giữa trọng tài thương mại và toà án là gì'''\n",
    "retrieved_docs = hybrid_retriever.invoke(query)\n",
    "retrieved_context = \"\\n\\n\".join([doc.page_content for doc in retrieved_docs])"
   ]
  },
  {
   "cell_type": "code",
   "execution_count": 74,
   "metadata": {},
   "outputs": [
    {
     "name": "stdout",
     "output_type": "stream",
     "text": [
      "**Sự khác biệt giữa trọng tài thương mại và tòa án**\n",
      "\n",
      "Trọng tài thương mại và tòa án là hai phương thức giải quyết tranh chấp khác nhau trong lĩnh vực kinh doanh, thương mại. Dưới đây là một số điểm khác biệt chính giữa hai phương thức này:\n",
      "\n",
      "**1. Thẩm quyền giải quyết**\n",
      "\n",
      "* Trọng tài thương mại: Theo Điều 2, Luật Trọng tài thương mại, trọng tài thương mại có thẩm quyền giải quyết các tranh chấp phát sinh từ hoạt động thương mại, bao gồm tranh chấp giữa các bên phát sinh từ hoạt động thương mại, tranh chấp phát sinh giữa các bên trong đó ít nhất một bên có hoạt động thương mại, và tranh chấp khác giữa các bên mà pháp luật quy định được giải quyết bằng trọng tài.\n",
      "* Tòa án: Theo Điều 30, Bộ luật Dân sự, tòa án có thẩm quyền giải quyết các tranh chấp về kinh doanh, thương mại, bao gồm tranh chấp phát sinh trong hoạt động kinh doanh, thương mại giữa cá nhân, tổ chức có đăng ký kinh doanh với nhau và đều có mục đích lợi nhuận.\n",
      "\n",
      "**2. Thủ tục giải quyết**\n",
      "\n",
      "* Trọng tài thương mại: Thủ tục giải quyết tranh chấp bằng trọng tài thương mại được quy định tại Luật Trọng tài thương mại. Các bên có thể thỏa thuận về thủ tục giải quyết tranh chấp, bao gồm việc lựa chọn trọng tài viên, địa điểm giải quyết tranh chấp, và thời hạn giải quyết tranh chấp.\n",
      "* Tòa án: Thủ tục giải quyết tranh chấp tại tòa án được quy định tại Bộ luật Tố tụng dân sự. Các bên phải tuân thủ các quy định về thủ tục tố tụng, bao gồm việc nộp đơn khởi kiện, chuẩn bị xét xử, và tham gia phiên tòa.\n",
      "\n",
      "**3. Phán quyết**\n",
      "\n",
      "* Trọng tài thương mại: Phán quyết của trọng tài thương mại có hiệu lực thi hành ngay sau khi được ban hành, trừ trường hợp các bên có thỏa thuận khác.\n",
      "* Tòa án: Phán quyết của tòa án có hiệu lực thi hành sau khi được ban hành và có thể bị kháng cáo, kháng nghị.\n",
      "\n",
      "**4. Chi phí**\n",
      "\n",
      "* Trọng tài thương mại: Chi phí giải quyết tranh chấp bằng trọng tài thương mại do các bên thỏa thuận và thường được chia đều giữa các bên.\n",
      "* Tòa án: Chi phí giải quyết tranh chấp tại tòa án do nhà nước chi trả, trừ trường hợp các bên có thỏa thuận khác.\n",
      "\n",
      "Tóm lại, trọng tài thương mại và tòa án là hai phương thức giải quyết tranh chấp khác nhau trong lĩnh vực kinh doanh, thương mại. Trọng tài thương mại có thẩm quyền giải quyết các tranh chấp phát sinh từ hoạt động thương mại, trong khi tòa án có thẩm quyền giải quyết các tranh chấp về kinh doanh, thương mại. Thủ tục giải quyết tranh chấp bằng trọng tài thương mại được quy định tại Luật Trọng tài thương mại, trong khi thủ tục giải quyết tranh chấp tại tòa án được quy định tại Bộ luật Tố tụng dân sự.\n"
     ]
    }
   ],
   "source": [
    "final_prompt = prompt.format(retrieved_context=retrieved_context, query=query)\n",
    "response = llm(final_prompt)\n",
    "print(response.content)"
   ]
  },
  {
   "cell_type": "markdown",
   "metadata": {},
   "source": [
    "### Test 7"
   ]
  },
  {
   "cell_type": "code",
   "execution_count": 75,
   "metadata": {},
   "outputs": [],
   "source": [
    "# --- Thực hiện retrieval ---\n",
    "query = '''Trong luật trọng tài thương mại, Phán quyết trọng tài có giá trị pháp lí như thế nào?'''\n",
    "retrieved_docs = hybrid_retriever.invoke(query)\n",
    "retrieved_context = \"\\n\\n\".join([doc.page_content for doc in retrieved_docs])"
   ]
  },
  {
   "cell_type": "code",
   "execution_count": 76,
   "metadata": {},
   "outputs": [
    {
     "name": "stdout",
     "output_type": "stream",
     "text": [
      "**Giá trị pháp lý của Phán quyết trọng tài**\n",
      "\n",
      "Phán quyết trọng tài có giá trị pháp lý như thế nào là một vấn đề quan trọng trong luật trọng tài thương mại. Theo quy định của Luật Trọng tài thương mại, phán quyết trọng tài có giá trị pháp lý như bản án của Tòa án.\n",
      "\n",
      "**Điều 61, Luật Trọng tài thương mại:**\n",
      "\n",
      "\"Phán quyết trọng tài có hiệu lực pháp luật và được thi hành theo quy định của pháp luật về thi hành án dân sự.\"\n",
      "\n",
      "**Điều 62, Luật Trọng tài thương mại:**\n",
      "\n",
      "\"Phán quyết trọng tài được công nhận và cho thi hành tại Việt Nam nếu đáp ứng các điều kiện sau:\n",
      "\n",
      "a) Phán quyết trọng tài được ban hành bởi Trọng tài nước ngoài có thẩm quyền;\n",
      "\n",
      "b) Phán quyết trọng tài không vi phạm các quy định của pháp luật Việt Nam về trọng tài thương mại;\n",
      "\n",
      "c) Phán quyết trọng tài không trái với các nguyên tắc cơ bản của pháp luật Việt Nam.\"\n",
      "\n",
      "Như vậy, phán quyết trọng tài có giá trị pháp lý như bản án của Tòa án và được thi hành theo quy định của pháp luật về thi hành án dân sự. Tuy nhiên, để được công nhận và cho thi hành tại Việt Nam, phán quyết trọng tài phải đáp ứng các điều kiện quy định tại Điều 62 của Luật Trọng tài thương mại.\n",
      "\n",
      "**Ví dụ minh họa:**\n",
      "\n",
      "Công ty A và Công ty B có tranh chấp về hợp đồng thương mại và đã thỏa thuận giải quyết tranh chấp bằng trọng tài. Trọng tài đã ban hành phán quyết trọng tài, trong đó yêu cầu Công ty B phải trả cho Công ty A số tiền 100 triệu đồng. Phán quyết trọng tài này có giá trị pháp lý như bản án của Tòa án và được thi hành theo quy định của pháp luật về thi hành án dân sự. Nếu Công ty B không thi hành phán quyết trọng tài, Công ty A có thể yêu cầu cơ quan thi hành án dân sự thi hành phán quyết trọng tài.\n"
     ]
    }
   ],
   "source": [
    "final_prompt = prompt.format(retrieved_context=retrieved_context, query=query)\n",
    "response = llm(final_prompt)\n",
    "print(response.content)"
   ]
  },
  {
   "cell_type": "markdown",
   "metadata": {},
   "source": [
    "### Test 8\n"
   ]
  },
  {
   "cell_type": "code",
   "execution_count": 77,
   "metadata": {},
   "outputs": [],
   "source": [
    "# # --- Thực hiện retrieval ---\n",
    "# query = \"Theo luật trọng tài thương mại, Quyết định trọng tài?\"\n",
    "# retrieved_docs = hybrid_retriever.invoke(query)\n",
    "# retrieved_context = \"\\n\\n\".join([doc.page_content for doc in retrieved_docs])"
   ]
  },
  {
   "cell_type": "code",
   "execution_count": 78,
   "metadata": {},
   "outputs": [],
   "source": [
    "# final_prompt = prompt.format(retrieved_context=retrieved_context, query=query)\n",
    "# response = llm(final_prompt)\n",
    "# print(response.content)"
   ]
  },
  {
   "cell_type": "code",
   "execution_count": 79,
   "metadata": {},
   "outputs": [],
   "source": [
    "# print(final_prompt)"
   ]
  },
  {
   "cell_type": "markdown",
   "metadata": {},
   "source": [
    "## Search Tools"
   ]
  },
  {
   "cell_type": "markdown",
   "metadata": {},
   "source": [
    "### Tavily Search"
   ]
  },
  {
   "cell_type": "code",
   "execution_count": 107,
   "metadata": {},
   "outputs": [],
   "source": [
    "from langchain_community.tools import TavilySearchResults\n",
    "from pydantic import BaseModel, Field\n",
    "from typing import List"
   ]
  },
  {
   "cell_type": "code",
   "execution_count": 108,
   "metadata": {},
   "outputs": [],
   "source": [
    "# Định nghĩa model cho một mục kết quả\n",
    "class SearchResultItem(BaseModel):\n",
    "    url: str = Field(..., description=\"Link của bài viết\")\n",
    "    content: str = Field(..., description=\"Nội dung tóm tắt hoặc câu trả lời\")\n",
    "\n",
    "# Định nghĩa model cho output của tool\n",
    "class TavilySearchOutput(BaseModel):\n",
    "    results: List[SearchResultItem] = Field(..., description=\"Danh sách kết quả tìm kiếm\")"
   ]
  },
  {
   "cell_type": "code",
   "execution_count": 109,
   "metadata": {},
   "outputs": [],
   "source": [
    "tool = TavilySearchResults(\n",
    "    max_results=5,\n",
    "    search_depth=\"advanced\",\n",
    "    include_answer=True,\n",
    "    include_raw_content=True,\n",
    "    include_images=False,\n",
    "    name=\"TavilyVietnamLawSearch\",\n",
    "    description=(\n",
    "        \"Công cụ tìm kiếm chuyên dụng để hỗ trợ tư vấn, phân tích và tra cứu pháp luật Việt Nam, \"\n",
    "        \"đặc biệt tập trung vào Luật Thương mại, Luật Trọng tài thương mại, và các luật liên quan. \"\n",
    "        \"Công cụ này cung cấp các đoạn nội dung từ văn bản pháp luật, hướng dẫn áp dụng luật, bài báo phân tích, \"\n",
    "        \"và thông tin cập nhật từ các nguồn chính thống như thuvienphapluat.vn, vietnamlaw.net, báo pháp luật v.v.\"\n",
    "    ),\n",
    ")"
   ]
  },
  {
   "cell_type": "code",
   "execution_count": 110,
   "metadata": {},
   "outputs": [],
   "source": [
    "def format_tavily_result(raw_result: list) -> str:\n",
    "    formatted = \"📚 **Kết quả từ Tavily:**\\n\\n\"\n",
    "    for idx, item in enumerate(raw_result, start=1):\n",
    "        url = item.get(\"url\", \"Không có URL\")\n",
    "        content = item.get(\"content\", \"Không có nội dung\").strip()\n",
    "        source_type = (\n",
    "            \"official\"\n",
    "            if any(domain in url for domain in [\"phapluat\", \"hethongphapluat\", \"lawnet\", \"moj.gov\", \"quochoi.vn\"])\n",
    "            else \"news\"\n",
    "        )\n",
    "        # Làm sạch content – ngắt dòng dài\n",
    "        content = content.replace(\". \", \".\\n\").replace(\"? \", \"?\\n\").replace(\"! \", \"!\\n\")\n",
    "        \n",
    "        # Format mỗi mục đẹp\n",
    "        formatted += f\"### {idx}. [{url}]({url})\\n\"\n",
    "        formatted += f\"🔗 **Loại nguồn:** `{source_type}`\\n\"\n",
    "        formatted += f\"**Tóm tắt nội dung:**\\n{content}\\n\"\n",
    "        formatted += \"-\" * 40 + \"\\n\"\n",
    "    return formatted"
   ]
  },
  {
   "cell_type": "code",
   "execution_count": 111,
   "metadata": {},
   "outputs": [],
   "source": [
    "# Gọi tool với truy vấn tiếng Việt\n",
    "raw_result = tool.invoke({\n",
    "    \"query\": \"theo luật trọng tài thương mại,trọng tài nước ngoài là gì?\"\n",
    "})"
   ]
  },
  {
   "cell_type": "code",
   "execution_count": 112,
   "metadata": {},
   "outputs": [
    {
     "name": "stdout",
     "output_type": "stream",
     "text": [
      "📚 **Kết quả từ Tavily:**\n",
      "\n",
      "### 1. [https://thuvienphapluat.vn/phap-luat/ho-tro-phap-luat/trong-tai-nuoc-ngoai-la-gi-van-phong-dai-dien-cua-to-chuc-trong-tai-nuoc-ngoai-tai-viet-nam-cham-du-82001.html](https://thuvienphapluat.vn/phap-luat/ho-tro-phap-luat/trong-tai-nuoc-ngoai-la-gi-van-phong-dai-dien-cua-to-chuc-trong-tai-nuoc-ngoai-tai-viet-nam-cham-du-82001.html)\n",
      "🔗 **Loại nguồn:** `official`\n",
      "**Tóm tắt nội dung:**\n",
      "Trọng tài nước ngoài là gì?\n",
      "\n",
      "Căn cứ tại khoản 11 Điều 3 Luật Trọng tài thương mại 2010 định nghĩa trọng tài nước ngoài như sau:\n",
      "\n",
      "Trọng tài nước ngoài là Trọng tài được thành lập theo quy định của pháp luật trọng tài nước ngoài do các bên thỏa thuận lựa chọn để tiến hành giải quyết tranh chấp ở ngoài lãnh thổ Việt Nam hoặc trong lãnh thổ Việt Nam.\n",
      "----------------------------------------\n",
      "### 2. [https://thuvienphapluat.vn/phap-luat/ho-tro-phap-luat/trong-tai-nuoc-ngoai-la-gi-van-phong-dai-dien-cua-to-chuc-trong-tai-nuoc-ngoai-tai-viet-nam-cham-du-82001.html](https://thuvienphapluat.vn/phap-luat/ho-tro-phap-luat/trong-tai-nuoc-ngoai-la-gi-van-phong-dai-dien-cua-to-chuc-trong-tai-nuoc-ngoai-tai-viet-nam-cham-du-82001.html)\n",
      "🔗 **Loại nguồn:** `official`\n",
      "**Tóm tắt nội dung:**\n",
      "Trọng tài nước ngoài là gì?\n",
      "\n",
      "Căn cứ tại khoản 11 Điều 3 Luật Trọng tài thương mại 2010 định nghĩa trọng tài nước ngoài như sau:\n",
      "\n",
      "Trọng tài nước ngoài là Trọng tài được thành lập theo quy định của pháp luật trọng tài nước ngoài do các bên thỏa thuận lựa chọn để tiến hành giải quyết tranh chấp ở ngoài lãnh thổ Việt Nam hoặc trong lãnh thổ Việt Nam.\n",
      "----------------------------------------\n",
      "### 3. [https://fdvn.vn/thu-tuc-cong-nhan-va-cho-thi-hanh-phan-quyet-trong-tai-nuoc-ngoai-tai-viet-nam/](https://fdvn.vn/thu-tuc-cong-nhan-va-cho-thi-hanh-phan-quyet-trong-tai-nuoc-ngoai-tai-viet-nam/)\n",
      "🔗 **Loại nguồn:** `news`\n",
      "**Tóm tắt nội dung:**\n",
      "Theo Khoản 11, 12 điều 3 Luật Trọng tài thương mại 2010, thì Trọng tài nước ngoài là Trọng tài được thành lập theo quy định của pháp luật trọng tài nước ngoài do các bên thỏa thuận lựa chọn để tiến hành giải quyết tranh chấp ở ngoài lãnh thổ Việt Nam hoặc trong\n",
      "----------------------------------------\n",
      "### 4. [https://lawnet.vn/ngan-hang-phap-luat/tu-van-phap-luat/dich-vu-phap-ly/trong-tai-nuoc-ngoai-la-gi-130508](https://lawnet.vn/ngan-hang-phap-luat/tu-van-phap-luat/dich-vu-phap-ly/trong-tai-nuoc-ngoai-la-gi-130508)\n",
      "🔗 **Loại nguồn:** `official`\n",
      "**Tóm tắt nội dung:**\n",
      "Trọng tài nước ngoài là gì?\n",
      "Căn cứ pháp lý: Điều 3 Luật Trọng tài thương mại 2010.\n",
      "Trọng tài nước ngoài là Trọng tài được thành lập theo quy định của pháp luật trọng tài nước ngoài do các bên thỏa thuận lựa chọn để tiến hành giải quyết tranh chấp ở ngoài lãnh thổ Việt Nam hoặc trong lãnh thổ Việt Nam.\n",
      "----------------------------------------\n",
      "### 5. [https://hethongphapluat.com/trong-tai-nuoc-ngoai.html](https://hethongphapluat.com/trong-tai-nuoc-ngoai.html)\n",
      "🔗 **Loại nguồn:** `official`\n",
      "**Tóm tắt nội dung:**\n",
      "\"trọng tài nước ngoài\" được hiểu như sau: Là Trọng tài được thành lập theo quy định của pháp luật trọng tài nước ngoài do các bên thỏa thuận lựa chọn để tiến hành giải quyết tranh chấp ở ngoài lãnh thổ Việt Nam hoặc trong lãnh thổ Việt Nam.(Theo Khoản 11, Điều 3, Luật Trọng tài thương mại 2010)\n",
      "----------------------------------------\n",
      "### 6. [https://luatduonggia.vn/cong-nhan-va-cho-thi-hanh-phan-quyet-cua-trong-tai-nuoc-ngoai/](https://luatduonggia.vn/cong-nhan-va-cho-thi-hanh-phan-quyet-cua-trong-tai-nuoc-ngoai/)\n",
      "🔗 **Loại nguồn:** `news`\n",
      "**Tóm tắt nội dung:**\n",
      "1.\n",
      "Thế nào là phán quyết trọng tài nước ngoài?\n",
      "Căn cứ theo quy định tại Khoản 12 Điều 3 Luật Trọng tài thương mại năm 2010, phán quyết của trọng tài nước ngoài được hiểu là phán quyết do Trọng tài nước ngoài tuyên ở ngoài lãnh thổ Việt Nam hoặc ở trong phạm vi lãnh thổ của Việt Nam với mục đích để\n",
      "----------------------------------------\n",
      "\n"
     ]
    }
   ],
   "source": [
    "# In kết quả đã format\n",
    "print(format_tavily_result(raw_result))"
   ]
  },
  {
   "cell_type": "code",
   "execution_count": 103,
   "metadata": {},
   "outputs": [],
   "source": [
    "# raw_result"
   ]
  },
  {
   "cell_type": "code",
   "execution_count": 104,
   "metadata": {},
   "outputs": [],
   "source": [
    "# def normalize_tavily_result_for_fact_check(raw_result: list) -> list:\n",
    "#     normalized = []\n",
    "#     for item in raw_result:\n",
    "#         normalized.append({\n",
    "#             \"source\": \"Tavily\",\n",
    "#             \"title\": item.get(\"title\") or item.get(\"url\", \"\")[:50],\n",
    "#             \"url\": item.get(\"url\", \"\"),\n",
    "#             \"snippet\": item.get(\"content\", \"\")[:1000].replace(\"\\n\", \" \"),\n",
    "#             \"source_type\": \"official\" if \"phapluat\" in item.get(\"url\", \"\") else \"news\",\n",
    "#             \"date_published\": None\n",
    "#         })\n",
    "#     return normalized"
   ]
  },
  {
   "cell_type": "code",
   "execution_count": 105,
   "metadata": {},
   "outputs": [],
   "source": [
    "# structured_output = normalize_tavily_result_for_fact_check(raw_result)\n",
    "# print(structured_output)"
   ]
  },
  {
   "cell_type": "code",
   "execution_count": 106,
   "metadata": {},
   "outputs": [],
   "source": [
    "\n",
    "# structured_output"
   ]
  },
  {
   "cell_type": "markdown",
   "metadata": {},
   "source": [
    "### Google Search"
   ]
  },
  {
   "cell_type": "code",
   "execution_count": 84,
   "metadata": {},
   "outputs": [],
   "source": [
    "from langchain_community.utilities import GoogleSerperAPIWrapper\n",
    "import pprint"
   ]
  },
  {
   "cell_type": "code",
   "execution_count": 85,
   "metadata": {},
   "outputs": [
    {
     "name": "stdout",
     "output_type": "stream",
     "text": [
      "Kết quả Tìm kiếm Tin tức:\n",
      "\n",
      "1. Bảo vệ quyền lợi người tiêu dùng trong hoạt động thương mại điện tử theo Luật Bảo vệ quyền lợi người tiêu dùng năm 2023\n",
      "   - Nguồn: Tổng cục Quản lý thị trường | Ngày: 7 months ago\n",
      "   - Mô tả: Cuộc cách mạng công nghiệp 4.0 đã khiến kinh doanh trực tuyến qua các nền tảng điện tử trở thành tất yếu. Giao dịch thương mại điện tử phát...\n",
      "   - Link: https://dms.gov.vn/tin-chi-tiet/-/chi-tiet/bao-ve-quyen-loi-nguoi-tieu-dung-trong-hoat-%C4%91ong-thuong-mai-%C4%91ien-tu-theo-luat-bao-ve-quyen-loi-nguoi-tieu-dung-nam-2023-87436-1.html\n",
      "\n",
      "2. Tội 'Sử dụng mạng viễn thông, mạng máy tính, phương tiện điện tử để chiếm đoạt tài sản' theo quy định của Bộ luật Hình sự 2015\n",
      "   - Nguồn: Tạp chí Điện tử Luật sư Việt Nam | Ngày: 3 months ago\n",
      "   - Mô tả: (LSVN) - Bài viết thể hiện quan điểm của các tác giả về dấu hiệu định tội của tội phạm sử dụng mạng viễn thông, mạng máy tính, phương tiện...\n",
      "   - Link: https://lsvn.vn/toi-su-dung-mang-vien-thong-mang-may-tinh-phuong-tien-dien-tu-de-chiem-doat-tai-san-theo-quy-dinh-cua-bo-luat-hinh-su-2015-a152321.html\n",
      "\n",
      "3. CẦN XÁC ĐỊNH RÕ KHÁI NIỆM, NỘI HÀM CỦA CÔNG CHỨNG ĐIỆN TỬ\n",
      "   - Nguồn: Cổng Thông tin điện tử Quốc hội | Ngày: 9 months ago\n",
      "   - Mô tả: Tán thành việc bổ sung quy định về công chứng điện tử trong dự thảo Luật Công chứng (sửa đổi) nhằm đáp ứng yêu cầu của cuộc Cách mạng công...\n",
      "   - Link: https://quochoi.vn/hoatdongdbqh/Pages/home.aspx?ItemID=87901\n",
      "\n",
      "4. Tính pháp lý của chữ ký điện tử trong hợp đồng điện tử: Kinh nghiệm của Liên minh Châu Âu và Hoa Kỳ - Kiến nghị hoàn thiện\n",
      "   - Nguồn: Tạp chí Công Thương | Ngày: 5 months ago\n",
      "   - Mô tả: TCCT Bài báo nghiên cứu \"Tính pháp lý của chữ ký điện tử trong hợp đồng điện tử: Kinh nghiệm của Liên minh Châu Âu và Hoa Kỳ - Kiến nghị...\n",
      "   - Link: https://tapchicongthuong.vn/tinh-phap-ly-cua-chu-ky-dien-tu-trong-hop-dong-dien-tu--kinh-nghiem-cua-lien-minh-chau-au-va-hoa-ky-kien-nghi-hoan-thien-123968.htm\n",
      "\n",
      "5. Hoàn thiện quy định về dữ liệu điện tử trong tố tụng hình sự\n",
      "   - Nguồn: Viện Kiểm Sát Nhân Dân Tối Cao | Ngày: 32 months ago\n",
      "   - Mô tả: Bộ luật Tố tụng hình sự năm 2015 lần đầu tiên quy định về dữ liệu điện tử, tuy nhiên, thực tiễn áp dụng các quy định này còn gặp một số...\n",
      "   - Link: https://vksndtc.gov.vn/tin-tuc/cong-tac-kiem-sat/hoan-thien-quy-dinh-ve-du-lieu-dien-tu-trong-to-tu-d10-t10468.html\n",
      "\n",
      "6. VCCI_Góp ý Dự thảo Luật Giao dịch điện tử (phiên bản 10/4/2023)\n",
      "   - Nguồn: vibonline.com.vn | Ngày: 23 months ago\n",
      "   - Mô tả: Kính gửi: Uỷ ban Khoa học, Công nghệ và Môi trường. Trả lời Công văn số 1404/UBKHCNMT15 ngày 14/04/2023 của Uỷ ban Khoa học, Công nghệ và...\n",
      "   - Link: https://vibonline.com.vn/bao_cao/vcci_gop-y-du-thao-luat-giao-dich-dien-tu-phien-ban-10-4-2023\n",
      "\n",
      "7. [Mới] Tổng hợp về hóa đơn điện tử khởi tạo từ máy tính tiền\n",
      "   - Nguồn: Hóa Đơn Điện Tử MISA MEINVOICE | Ngày: 12 months ago\n",
      "   - Mô tả: Hoá đơn điện tử khởi tạo từ máy tính tiền theo thông tư số 78/2021/TT-BTC của Bộ Tài là giải pháp được ngành Thuế dự kiến thực hiện sau thời...\n",
      "   - Link: https://www.meinvoice.vn/tin-tuc/18021/tong-hop-cac-quy-dinh-ve-hoa-don-dien-tu-khoi-tao-tu-may-tinh-tien/\n",
      "\n",
      "8. Luật Giao dịch điện tử sửa đổi theo nguyên tắc “thực sao thì số vậy”\n",
      "   - Nguồn: Kinh Tế Đô Thị | Ngày: 29 months ago\n",
      "   - Mô tả: Kinhtedothi - Có bảo đảm được sự an toàn, tin cậy trong giao dịch điện tử hay không? Đây là điều mà nhiều đại biểu Quốc hội đặt ra khi thảo...\n",
      "   - Link: https://kinhtedothi.vn/luat-giao-dich-dien-tu-sua-doi-theo-nguyen-tac-thuc-sao-thi-so-vay\n",
      "\n",
      "9. Bàn về di chúc bị vi phạm điều kiện về hình thức và di chúc được lập với hình thức chứng thư điện tử\n",
      "   - Nguồn: tapchitoaan.vn | Ngày: 44 months ago\n",
      "   - Mô tả: Bài viết phân tích, đánh giá quy định của pháp luật về trường hợp áp dụng quy định tại Điều 129 của BLDS năm 2015 cho di chúc bị vi phạm...\n",
      "   - Link: https://tapchitoaan.vn/ban-ve-di-chuc-bi-vi-pham-dieu-kien-ve-hinh-thuc-va-di-chuc-duoc-lap-voi-hinh-thuc-chung-thu-dien-tu\n",
      "\n",
      "10. Nghị định số 10/2020/NĐ-CP quy định về kinh doanh và điều kiện kinh doanh vận tải bằng xe ô tô\n",
      "   - Nguồn: binhdinh.gov.vn | Ngày: 39 months ago\n",
      "   - Mô tả: CỘNG HÒA XÃ HỘI CHỦ NGHĨA VIỆT NAM Độc lập - Tự do - Hạnh phúc ---------------. Số: 10/2020/NĐ-CP. Hà Nội, ngày 17 tháng 01 năm 2020...\n",
      "   - Link: https://congan.binhdinh.gov.vn/vi/news/qlnn-ve-antt/nghi-dinh-so-10-2020-nd-cp-quy-dinh-ve-kinh-doanh-va-dieu-kien-kinh-doanh-van-tai-bang-xe-o-to-840.html\n",
      "\n",
      "\n"
     ]
    }
   ],
   "source": [
    "search = GoogleSerperAPIWrapper(type=\"news\")\n",
    "results = search.results(\"Điều 3 của Luật định nghĩa “giao dịch điện tử” và “phương tiện điện tử” như thế nào?\")\n",
    "def format_news_results(results):\n",
    "    if not results or \"news\" not in results:\n",
    "        return \"Không tìm thấy kết quả tin tức nào.\"\n",
    "\n",
    "    formatted = \"Kết quả Tìm kiếm Tin tức:\\n\\n\"\n",
    "    for idx, item in enumerate(results[\"news\"], start=1):\n",
    "        title = item.get(\"title\", \"Không có tiêu đề\")\n",
    "        snippet = item.get(\"snippet\", \"Không có mô tả\")\n",
    "        link = item.get(\"link\", \"Không có link\")\n",
    "        date = item.get(\"date\", \"Không có ngày\")\n",
    "        source = item.get(\"source\", \"Không có nguồn\")\n",
    "        formatted += f\"{idx}. {title}\\n\"\n",
    "        formatted += f\"   - Nguồn: {source} | Ngày: {date}\\n\"\n",
    "        formatted += f\"   - Mô tả: {snippet}\\n\"\n",
    "        formatted += f\"   - Link: {link}\\n\\n\"\n",
    "    return formatted\n",
    "\n",
    "# In kết quả đã được định dạng\n",
    "print(format_news_results(results))"
   ]
  },
  {
   "cell_type": "markdown",
   "metadata": {},
   "source": [
    "## Full Pipeline"
   ]
  },
  {
   "cell_type": "code",
   "execution_count": 117,
   "metadata": {},
   "outputs": [],
   "source": [
    "def run_full_pipeline(query: str) -> str:\n",
    "    # 1. Lấy kết quả từ RAG pipeline\n",
    "    retrieved_docs = hybrid_retriever.invoke(query)\n",
    "    retrieved_context = \"\\n\\n\".join([doc.page_content for doc in retrieved_docs])\n",
    "    final_prompt = prompt.format(retrieved_context=retrieved_context, query=query)\n",
    "    response = llm(final_prompt)  # Giả sử bạn đã khởi tạo đối tượng LLM (llm)\n",
    "    rag_answer = response.content\n",
    "\n",
    "    # 2. Lấy kết quả từ Tavily Search\n",
    "    raw_tavily = tool.invoke({\"query\": query})\n",
    "    tavily_output = format_tavily_result(raw_tavily)\n",
    "\n",
    "    # 3. Lấy kết quả từ Google Serper Search\n",
    "    serper_results = search.results(query)\n",
    "    news_output = format_news_results(serper_results)\n",
    "\n",
    "    # 4. Tổng hợp output\n",
    "    full_output = f\"\"\"\n",
    "==============================\n",
    "## PHẦN I: Phân tích từ văn bản pháp luật (RAG pipeline)\n",
    "\n",
    "{rag_answer.strip()}\n",
    "\n",
    "==============================\n",
    "## PHẦN II: Các nguồn thông tin bổ sung từ công cụ tìm kiếm\n",
    "\n",
    "--- Tavily ---\n",
    "{tavily_output.strip()}\n",
    "\n",
    "--- Google Serper (Tin tức) ---\n",
    "{news_output.strip()}\n",
    "\n",
    "==============================\n",
    "\"\"\".strip()\n",
    "    return full_output\n",
    "\n"
   ]
  },
  {
   "cell_type": "code",
   "execution_count": 118,
   "metadata": {},
   "outputs": [
    {
     "name": "stdout",
     "output_type": "stream",
     "text": [
      "==============================\n",
      "## PHẦN I: Phân tích từ văn bản pháp luật (RAG pipeline)\n",
      "\n",
      "**Trọng tài nước ngoài là gì?**\n",
      "\n",
      "Theo Điều 3, Khoản 11, Luật Trọng tài thương mại: \"Trọng tài nước ngoài là Trọng tài được thành lập theo quy định của pháp luật trọng tài nước ngoài do các bên thỏa thuận lựa chọn để tiến hành giải quyết tranh chấp ở ngoài lãnh thổ Việt Nam hoặc trong lãnh thổ Việt Nam.\"\n",
      "\n",
      "**Giải thích:**\n",
      "\n",
      "Trọng tài nước ngoài là một tổ chức trọng tài được thành lập và hoạt động theo pháp luật của một quốc gia khác ngoài Việt Nam. Các bên trong một tranh chấp có thể thỏa thuận lựa chọn trọng tài nước ngoài để giải quyết tranh chấp của mình, và trọng tài này có thể tiến hành giải quyết tranh chấp ở ngoài lãnh thổ Việt Nam hoặc trong lãnh thổ Việt Nam.\n",
      "\n",
      "**Ví dụ minh họa:**\n",
      "\n",
      "Một công ty Việt Nam và một công ty Nhật Bản có một tranh chấp về hợp đồng thương mại. Hai bên thỏa thuận lựa chọn trọng tài Nhật Bản để giải quyết tranh chấp. Trong trường hợp này, trọng tài Nhật Bản là một trọng tài nước ngoài vì nó được thành lập và hoạt động theo pháp luật của Nhật Bản, và nó sẽ tiến hành giải quyết tranh chấp ở Nhật Bản hoặc tại Việt Nam nếu các bên thỏa thuận như vậy.\n",
      "\n",
      "==============================\n",
      "## PHẦN II: Các nguồn thông tin bổ sung từ công cụ tìm kiếm\n",
      "\n",
      "--- Tavily ---\n",
      "📚 **Kết quả từ Tavily:**\n",
      "\n",
      "### 1. [https://thuvienphapluat.vn/phap-luat/trong-tai-nuoc-ngoai-la-gi-van-phong-dai-dien-cua-to-chuc-trong-tai-nuoc-ngoai-tai-viet-nam-cham-du-82001.html](https://thuvienphapluat.vn/phap-luat/trong-tai-nuoc-ngoai-la-gi-van-phong-dai-dien-cua-to-chuc-trong-tai-nuoc-ngoai-tai-viet-nam-cham-du-82001.html)\n",
      "🔗 **Loại nguồn:** `official`\n",
      "**Tóm tắt nội dung:**\n",
      "Trọng tài nước ngoài là gì?\n",
      "\n",
      "Căn cứ tại khoản 11 Điều 3 Luật Trọng tài thương mại 2010 định nghĩa trọng tài nước ngoài như sau:\n",
      "\n",
      "Trọng tài nước ngoài là Trọng tài được thành lập theo quy định của pháp luật trọng tài nước ngoài do các bên thỏa thuận lựa chọn để tiến hành giải quyết tranh chấp ở ngoài lãnh thổ Việt Nam hoặc trong lãnh thổ Việt Nam.\n",
      "----------------------------------------\n",
      "### 2. [https://thuvienphapluat.vn/phap-luat/trong-tai-nuoc-ngoai-la-gi-van-phong-dai-dien-cua-to-chuc-trong-tai-nuoc-ngoai-tai-viet-nam-cham-du-82001.html](https://thuvienphapluat.vn/phap-luat/trong-tai-nuoc-ngoai-la-gi-van-phong-dai-dien-cua-to-chuc-trong-tai-nuoc-ngoai-tai-viet-nam-cham-du-82001.html)\n",
      "🔗 **Loại nguồn:** `official`\n",
      "**Tóm tắt nội dung:**\n",
      "Trọng tài nước ngoài là gì?\n",
      "\n",
      "Căn cứ tại khoản 11 Điều 3 Luật Trọng tài thương mại 2010 định nghĩa trọng tài nước ngoài như sau:\n",
      "\n",
      "Trọng tài nước ngoài là Trọng tài được thành lập theo quy định của pháp luật trọng tài nước ngoài do các bên thỏa thuận lựa chọn để tiến hành giải quyết tranh chấp ở ngoài lãnh thổ Việt Nam hoặc trong lãnh thổ Việt Nam.\n",
      "----------------------------------------\n",
      "### 3. [https://thuvienphapluat.vn/lao-dong-tien-luong/trong-tai-nuoc-ngoaila-ai-nguyen-tac-giai-quyet-tranh-chap-lao-dong-thong-qua-trong-tai-dua-tren-co-81679-29915.html](https://thuvienphapluat.vn/lao-dong-tien-luong/trong-tai-nuoc-ngoaila-ai-nguyen-tac-giai-quyet-tranh-chap-lao-dong-thong-qua-trong-tai-dua-tren-co-81679-29915.html)\n",
      "🔗 **Loại nguồn:** `official`\n",
      "**Tóm tắt nội dung:**\n",
      "Trọng tài nước ngoài là ai?\n",
      "\n",
      "Theo Điều 3 Luật Trọng tài thương mại 2010 quy định:\n",
      "\n",
      "Theo đó trọng tài nước ngoài là Trọng tài được thành lập theo quy định của pháp luật trọng tài nước ngoài do các bên thỏa thuận lựa chọn để tiến hành giải quyết tranh chấp ở ngoài lãnh thổ Việt Nam hoặc trong lãnh thổ Việt Nam.\n",
      "\n",
      "\n",
      "\n",
      "Trọng tài nước ngoài là ai?\n",
      "Nguyên tắc giải quyết tranh chấp lao động thông qua trọng tài dựa trên cơ sở gì?\n",
      "(Hình từ Internet)\n",
      "----------------------------------------\n",
      "### 4. [https://thuvienphapluat.vn/lao-dong-tien-luong/trong-tai-nuoc-ngoaila-ai-nguyen-tac-giai-quyet-tranh-chap-lao-dong-thong-qua-trong-tai-dua-tren-co-81679-29915.html](https://thuvienphapluat.vn/lao-dong-tien-luong/trong-tai-nuoc-ngoaila-ai-nguyen-tac-giai-quyet-tranh-chap-lao-dong-thong-qua-trong-tai-dua-tren-co-81679-29915.html)\n",
      "🔗 **Loại nguồn:** `official`\n",
      "**Tóm tắt nội dung:**\n",
      "Trọng tài nước ngoài là ai?\n",
      "\n",
      "Theo Điều 3 Luật Trọng tài thương mại 2010 quy định:\n",
      "\n",
      "Theo đó trọng tài nước ngoài là Trọng tài được thành lập theo quy định của pháp luật trọng tài nước ngoài do các bên thỏa thuận lựa chọn để tiến hành giải quyết tranh chấp ở ngoài lãnh thổ Việt Nam hoặc trong lãnh thổ Việt Nam.\n",
      "\n",
      "\n",
      "\n",
      "Trọng tài nước ngoài là ai?\n",
      "Nguyên tắc giải quyết tranh chấp lao động thông qua trọng tài dựa trên cơ sở gì?\n",
      "(Hình từ Internet)\n",
      "----------------------------------------\n",
      "### 5. [https://nplaw.vn/quy-dinh-cua-phap-luat-ve-trong-tai-nuoc-ngoai.html](https://nplaw.vn/quy-dinh-cua-phap-luat-ve-trong-tai-nuoc-ngoai.html)\n",
      "🔗 **Loại nguồn:** `news`\n",
      "**Tóm tắt nội dung:**\n",
      "- Trọng tài nước ngoài là Trọng tài được thành lập theo quy định của pháp luật trọng tài nước ngoài do các bên thỏa thuận lựa chọn để tiến hành giải quyết tranh\n",
      "----------------------------------------\n",
      "### 6. [https://stac.com.vn/da-duyet-cac-khai-niem-can-lam-ro-trong-che-dinh-trong-tai-lien-quan-den-trong-tai-nuoc-ngoai/](https://stac.com.vn/da-duyet-cac-khai-niem-can-lam-ro-trong-che-dinh-trong-tai-lien-quan-den-trong-tai-nuoc-ngoai/)\n",
      "🔗 **Loại nguồn:** `news`\n",
      "**Tóm tắt nội dung:**\n",
      "– Trọng tài nước ngoài là Trọng tài được thành lập theo quy định của pháp luật trọng tài nước ngoài do các bên thỏa thuận lựa chọn để tiến hành giải quyết\n",
      "----------------------------------------\n",
      "### 7. [https://gvlawyers.com.vn/trong-tai-nuoc-ngoai/](https://gvlawyers.com.vn/trong-tai-nuoc-ngoai/)\n",
      "🔗 **Loại nguồn:** `news`\n",
      "**Tóm tắt nội dung:**\n",
      "Trọng tài nước ngoài là Trọng tài được thành lập theo quy định của pháp luật trọng tài nước ngoài do các bên thỏa thuận lựa chọn để tiến hành\n",
      "----------------------------------------\n",
      "\n",
      "--- Google Serper (Tin tức) ---\n",
      "Kết quả Tìm kiếm Tin tức:\n",
      "\n",
      "1. THỦ TỤC CÔNG NHẬN VÀ CHO THI HÀNH PHÁN QUYẾT TRỌNG TÀI NƯỚC NGOÀI TẠI VIỆT NAM\n",
      "   - Nguồn: Luật sư FDVN | Ngày: 6 months ago\n",
      "   - Mô tả: Trong bối cảnh nền kinh tế thế giới ngày càng trở nên gắn kết và phụ thuộc lẫn nhau, sự phát triển mạnh mẽ của thương mại quốc tế đã thúc...\n",
      "   - Link: https://fdvn.vn/thu-tuc-cong-nhan-va-cho-thi-hanh-phan-quyet-trong-tai-nuoc-ngoai-tai-viet-nam/\n",
      "\n",
      "2. Hủy phán quyết trọng tài vì lý do “trái với các nguyên tắc cơ bản của pháp luật Việt Nam”: Thực trạng, bất cập và hướng hoàn thiện\n",
      "   - Nguồn: Tạp chí Điện tử Luật sư Việt Nam | Ngày: 8 months ago\n",
      "   - Mô tả: Trọng tài thương mại là một cơ chế giải quyết tranh chấp ngoài tòa án, do các bên lựa chọn một cách tự nguyện. Ngày 17/6/2010 Quốchội Việt...\n",
      "   - Link: https://lsvn.vn/huy-phan-quyet-trong-tai-vi-ly-do-trai-voi-cac-nguyen-tac-co-ban-cua-phap-luat-viet-nam-thuc-trang-bat-cap-va-huong-hoan-thien-1721140607-a145444.html\n",
      "\n",
      "3. Những ưu thế của việc giải quyết tranh chấp trong kinh doanh bằng Trọng tài thương mại\n",
      "   - Nguồn: Tạp chí Tài chính Doanh nghiệp | Ngày: 9 months ago\n",
      "   - Mô tả: TCDN - Việc giải quyết tranh chấp trong kinh doanh đa số các doanh nghiệp kéo nhau ra tòa, khiến áp lực số vụ việc cần giải quyết của tòa án...\n",
      "   - Link: https://taichinhdoanhnghiep.net.vn/nhung-uu-the-cua-viec-giai-quyet-tranh-chap-trong-kinh-doanh-bang-trong-tai-thuong-mai-d49478.html\n",
      "\n",
      "4. Quy định về thời hiệu khởi kiện giải quyết tranh chấp bằng trọng tài: Cần sửa đổi, bổ sung cho sát thực\n",
      "   - Nguồn: Tạp chí Điện tử Luật sư Việt Nam | Ngày: 8 months ago\n",
      "   - Mô tả: (LSVN) - Nhằm góp ý vào Dự thảo Luật sửa đổi, bổ sung một số điều của Luật Trọng tài thương mại năm 2010, bài viết đi sâu phân tích các quy...\n",
      "   - Link: https://lsvn.vn/quy-dinh-ve-thoi-hieu-khoi-kien-giai-quyet-tranh-chap-bang-trong-tai-can-sua-doi-bo-sung-cho-sat-thuc-1723473797-a146140.html\n",
      "\n",
      "5. Điểm mới của Luật Đất đai năm 2024 về hợp đồng chuyển quyền sử dụng đất\n",
      "   - Nguồn: tapchitoaan.vn | Ngày: 3 months ago\n",
      "   - Mô tả: Luật Đất đai năm 2024 đã mở rộng khả năng xác lập hợp đồng chuyển quyền đối với đất của cộng đồng dân cư, đất nông nghiệp và đất trồng lúa.\n",
      "   - Link: https://tapchitoaan.vn/diem-moi-cua-luat-dat-dai-nam-2024-ve-hop-dong-chuyen-quyen-su-dung-dat12643.html\n",
      "\n",
      "6. Một số bất cập, hạn chế trong thực tiễn thi hành Luật Trọng tài thương mại năm 2010 và giải pháp hoàn thiện\n",
      "   - Nguồn: Tạp chí Công Thương | Ngày: 32 months ago\n",
      "   - Mô tả: 1. Đặt vấn đề. Trọng tài thương mại (TTTM) là một trong những phương thức giải quyết tranh chấp ngoài tòa án được sử dụng rộng rãi trên thế...\n",
      "   - Link: https://tapchicongthuong.vn/mot-so-bat-cap--han-che-trong-thuc-tien-thi-hanh-luat-trong-tai-thuong-mai-nam-2010-va-giai-phap-hoan-thien-90453.htm\n",
      "\n",
      "7. [E] Doanh nghiệp còn e ngại chọn giải quyết tranh chấp bằng Trọng tài thương mại\n",
      "   - Nguồn: Người Đưa Tin | Ngày: 28 months ago\n",
      "   - Mô tả: Đó là nhận định của ông Nguyễn Văn Hậu, Chủ tịch Trung tâm Trọng tài Thương mại Luật gia Việt Nam, Chủ tịch Hội Trọng tài Thương mại Tp.HCM...\n",
      "   - Link: https://www.nguoiduatin.vn/e-doanh-nghiep-con-e-ngai-chon-giai-quyet-tranh-chap-bang-trong-tai-thuong-mai-204582456.htm\n",
      "\n",
      "8. Bổ sung thẩm quyền giải quyết tranh chấp đất đai của Trọng tài thương mại\n",
      "   - Nguồn: Báo Pháp luật Việt Nam điện tử | Ngày: 1 month ago\n",
      "   - Mô tả: (PLVN) - Theo các chuyên gia, việc bổ sung thẩm quyền giải quyết tranh chấp đất đai cho Trọng tài thương mại là phù hợp với yêu cầu của thực...\n",
      "   - Link: https://baophapluat.vn/bo-sung-tham-quyen-giai-quyet-tranh-chap-dat-dai-cua-trong-tai-thuong-mai-post540392.html\n",
      "\n",
      "9. Trọng tài thương mại sẽ giải quyết tranh chấp liên quan đất đai?\n",
      "   - Nguồn: Báo Thanh Niên | Ngày: 25 months ago\n",
      "   - Mô tả: Theo chuyên gia, dự thảo luật Đất đai (sửa đổi), cho phép trọng tài thương mại có quyền giải quyết đối với các tranh chấp liên quan đến đất...\n",
      "   - Link: https://thanhnien.vn/trong-tai-thuong-mai-se-giai-quyet-tranh-chap-lien-quan-dat-dai-185230302101306294.htm\n",
      "\n",
      "10. Báo cáo đánh giá, so sánh quy định pháp luật Việt Nam về công nhận và cho thi hành phán quyết trọng tài với Luật mẫu UNCITRAL về trọng tài thương mại quốc tế, đề xuất khả năng áp dụng Luật mẫu tại Việt Nam\n",
      "   - Nguồn: moj.gov.vn | Ngày: 56 months ago\n",
      "   - Mô tả: Hoạt động giải quyết tranh chấp thương mại có yếu tố nước ngoài nói chung và việc công nhận và cho thi hành tại Việt Nam phán quyết của trọng tài nước ngoài...\n",
      "   - Link: https://moj.gov.vn/tttp/tintuc/Pages/nghien-cuu-trao-doi.aspx?ItemID=61\n",
      "\n",
      "==============================\n"
     ]
    }
   ],
   "source": [
    "# Ví dụ sử dụng\n",
    "user_query = \"Theo luật trọng tài thương mại, trọng tài nước ngoài là gì?\"\n",
    "final_result = run_full_pipeline(user_query)\n",
    "\n",
    "# In kết quả cuối cùng\n",
    "print(final_result)"
   ]
  },
  {
   "cell_type": "code",
   "execution_count": null,
   "metadata": {},
   "outputs": [],
   "source": []
  },
  {
   "cell_type": "markdown",
   "metadata": {},
   "source": []
  }
 ],
 "metadata": {
  "kernelspec": {
   "display_name": "nckh",
   "language": "python",
   "name": "python3"
  },
  "language_info": {
   "codemirror_mode": {
    "name": "ipython",
    "version": 3
   },
   "file_extension": ".py",
   "mimetype": "text/x-python",
   "name": "python",
   "nbconvert_exporter": "python",
   "pygments_lexer": "ipython3",
   "version": "3.11.11"
  }
 },
 "nbformat": 4,
 "nbformat_minor": 2
}
